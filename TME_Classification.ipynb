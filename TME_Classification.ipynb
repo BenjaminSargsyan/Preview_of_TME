{
 "cells": [
  {
   "cell_type": "markdown",
   "metadata": {},
   "source": [
    "The current notebook contains a comprehensive analysis pipeline that begins with the retrieval of gene expression data in CEL file format from GEO, which is then processed and transformed into a tabular format with sample IDs in rows and gene IDs in columns. If obtaining the data from GEO is not necessary or if the gene expression matrix is already available, this step may be skipped.\n",
    "\n",
    "Following data preparation, the Quality Check (QC) section is essential for ensuring the integrity and reliability of the data. This step involves checking for batch effects, outliers, and assessing the distribution of gene expression data to determine the quality of the dataset.\n",
    "\n",
    "Next, the Tumor Microenvironment (TME) classification section is performed using the processed gene expression data from TCGA. This step allows for the classification of samples based on their respective TME subtypes.\n",
    "\n",
    "Finally, the Clustering section is an optional step recommended for experienced users only. This section involves the creation of a reference signatures cohort based on a reference gene expression cohort provided by the user. The resulting cohort can then be used in place of the default TCGA cohort in the TME classification section. However, it is advised to use the default cohort to ensure accurate and unbiased results during classification."
   ]
  },
  {
   "cell_type": "markdown",
   "metadata": {},
   "source": [
    "# Import of python base packages"
   ]
  },
  {
   "cell_type": "markdown",
   "metadata": {},
   "source": [
    "If you have opened the current file in view-only mode but want to use the code, please go back to our repositories Setup section and follow the [instructions](https://github.com/BostonGene/MFP). "
   ]
  },
  {
   "cell_type": "code",
   "execution_count": 1,
   "metadata": {
    "ExecuteTime": {
     "end_time": "2018-08-02T13:25:16.958768Z",
     "start_time": "2018-08-02T13:25:14.882714Z"
    }
   },
   "outputs": [],
   "source": [
    "%load_ext autoreload\n",
    "%matplotlib inline\n",
    "%config IPCompleter.use_jedi = False\n",
    "\n",
    "import os\n",
    "import pandas as pd\n",
    "import numpy as np\n",
    "import seaborn as sns\n",
    "import pathlib\n",
    "import subprocess\n",
    "import logging\n",
    "import csv\n",
    "import matplotlib.pyplot as plt\n",
    "import umap\n",
    "import matplotlib.pyplot as plt\n",
    "from IPython.display import SVG\n",
    "from tqdm import tqdm_notebook\n",
    "\n",
    "%config InlineBackend.figure_format = 'png'\n",
    "plt.rcParams['pdf.fonttype'] = 'truetype'\n",
    "plt.rcParams['svg.fonttype'] = 'none'\n",
    "plt.rcParams['figure.dpi'] = 120"
   ]
  },
  {
   "cell_type": "code",
   "execution_count": 2,
   "metadata": {
    "tags": []
   },
   "outputs": [],
   "source": [
    "import warnings\n",
    "warnings.filterwarnings(\"ignore\")"
   ]
  },
  {
   "cell_type": "code",
   "execution_count": 3,
   "metadata": {
    "tags": []
   },
   "outputs": [],
   "source": [
    "from portraits.plotting import *\n",
    "from portraits.mapping import get_gs_for_probes_from_3col,get_expressions_for_gs\n",
    "from portraits.utils import read_gene_sets, ssgsea_formula, median_scale\n",
    "from portraits.classification import KNeighborsClusterClassifier\n",
    "from portraits.clustering import clustering_profile_metrics, clustering_profile_metrics_plot,clustering_select_best_tr"
   ]
  },
  {
   "cell_type": "code",
   "execution_count": 4,
   "metadata": {},
   "outputs": [],
   "source": [
    "%load_ext rpy2.ipython"
   ]
  },
  {
   "cell_type": "code",
   "execution_count": 5,
   "metadata": {
    "tags": []
   },
   "outputs": [],
   "source": [
    "#Constants\n",
    "\n",
    "EXPRESSION_MATRIX = 'Test/expressions.tsv'\n",
    "TCGA_SIGNATURES = 'Cohorts/Pan_TCGA/signatures.tsv'\n",
    "TCGA_COHORTS_ANNOTATION = 'Cohorts/Pan_TCGA/annotation.tsv'\n",
    "CLASSIFIED_SAMPLES = 'classified_samples.tsv'\n",
    "GENE_SIGNATURES = 'signatures/gene_signatures.gmt'\n",
    "SUBTYPE_FINAL_CLUSTERS = 'samples_subtyping_by_tme.tsv'"
   ]
  },
  {
   "cell_type": "markdown",
   "metadata": {},
   "source": [
    "# Example Data preparation"
   ]
  },
  {
   "cell_type": "markdown",
   "metadata": {},
   "source": [
    "Example will be shown on Ulloa-Montoya GSE35640, GPL570 sample"
   ]
  },
  {
   "cell_type": "markdown",
   "metadata": {},
   "source": [
    "## Get the example data from GEO"
   ]
  },
  {
   "cell_type": "code",
   "execution_count": 31,
   "metadata": {},
   "outputs": [],
   "source": [
    "# Initialize and create a temporary directory for the CEL files\n",
    "\n",
    "GSE = 'GSE35640'\n",
    "PLATFORM = 'GPL570'\n",
    "current_dir = pathlib.Path().parent.absolute()\n",
    "dir_to_process = str(current_dir / 'TMPDIR')"
   ]
  },
  {
   "cell_type": "code",
   "execution_count": 32,
   "metadata": {},
   "outputs": [],
   "source": [
    "if not os.path.exists(dir_to_process):\n",
    "     os.mkdir(dir_to_process)"
   ]
  },
  {
   "cell_type": "code",
   "execution_count": 33,
   "metadata": {},
   "outputs": [],
   "source": [
    "with open(os.devnull, \"w\") as f:\n",
    "    subprocess.run([\n",
    "        'wget',\n",
    "        f'ftp://ftp.ncbi.nlm.nih.gov/geo/series/GSE35nnn/{GSE}/suppl/{GSE}_RAW.tar'\n",
    "    ],stdout=f, stderr=subprocess.STDOUT );"
   ]
  },
  {
   "cell_type": "code",
   "execution_count": 34,
   "metadata": {},
   "outputs": [
    {
     "data": {
      "text/plain": [
       "CompletedProcess(args=['rm', 'GSE35640_RAW.tar'], returncode=0)"
      ]
     },
     "execution_count": 34,
     "metadata": {},
     "output_type": "execute_result"
    }
   ],
   "source": [
    "subprocess.run([\n",
    "    'tar',\n",
    "    '-xf',\n",
    "    f'{GSE}_RAW.tar',\n",
    "    '-C', dir_to_process\n",
    "])\n",
    "subprocess.run([\n",
    "    'rm',\n",
    "    f'{GSE}_RAW.tar'\n",
    "])"
   ]
  },
  {
   "cell_type": "code",
   "execution_count": 35,
   "metadata": {},
   "outputs": [
    {
     "data": {
      "text/plain": [
       "['GSM872328_MAGE008_sample_1.CEL.gz',\n",
       " 'GSM872329_MAGE008_sample_2.CEL.gz',\n",
       " 'GSM872330_MAGE008_sample_3.CEL.gz',\n",
       " 'GSM872331_MAGE008_sample_4.CEL.gz',\n",
       " 'GSM872332_MAGE008_sample_5.CEL.gz',\n",
       " 'GSM872333_MAGE008_sample_6.CEL.gz',\n",
       " 'GSM872334_MAGE008_sample_7.CEL.gz',\n",
       " 'GSM872335_MAGE008_sample_8.CEL.gz',\n",
       " 'GSM872336_MAGE008_sample_9.CEL.gz',\n",
       " 'GSM872337_MAGE008_sample_10.CEL.gz',\n",
       " 'GSM872338_MAGE008_sample_11.CEL.gz',\n",
       " 'GSM872339_MAGE008_sample_12.CEL.gz',\n",
       " 'GSM872340_MAGE008_sample_13.CEL.gz',\n",
       " 'GSM872341_MAGE008_sample_14.CEL.gz',\n",
       " 'GSM872342_MAGE008_sample_15.CEL.gz',\n",
       " 'GSM872343_MAGE008_sample_16.CEL.gz',\n",
       " 'GSM872344_MAGE008_sample_17.CEL.gz',\n",
       " 'GSM872345_MAGE008_sample_18.CEL.gz',\n",
       " 'GSM872346_MAGE008_sample_19.CEL.gz',\n",
       " 'GSM872347_MAGE008_sample_20.CEL.gz',\n",
       " 'GSM872348_MAGE008_sample_21.CEL.gz',\n",
       " 'GSM872349_MAGE008_sample_22.CEL.gz',\n",
       " 'GSM872350_MAGE008_sample_23.CEL.gz',\n",
       " 'GSM872351_MAGE008_sample_24.CEL.gz',\n",
       " 'GSM872352_MAGE008_sample_25.CEL.gz',\n",
       " 'GSM872353_MAGE008_sample_26.CEL.gz',\n",
       " 'GSM872354_MAGE008_sample_27.CEL.gz',\n",
       " 'GSM872355_MAGE008_sample_28.CEL.gz',\n",
       " 'GSM872356_MAGE008_sample_29.CEL.gz',\n",
       " 'GSM872357_MAGE008_sample_30.CEL.gz',\n",
       " 'GSM872358_MAGE008_sample_31.CEL.gz',\n",
       " 'GSM872359_MAGE008_sample_32.CEL.gz',\n",
       " 'GSM872360_MAGE008_sample_33.CEL.gz',\n",
       " 'GSM872361_MAGE008_sample_34.CEL.gz',\n",
       " 'GSM872362_MAGE008_sample_35.CEL.gz',\n",
       " 'GSM872363_MAGE008_sample_36.CEL.gz',\n",
       " 'GSM872364_MAGE008_sample_37.CEL.gz',\n",
       " 'GSM872365_MAGE008_sample_38.CEL.gz',\n",
       " 'GSM872366_MAGE008_sample_39.CEL.gz',\n",
       " 'GSM872367_MAGE008_sample_40.CEL.gz',\n",
       " 'GSM872368_MAGE008_sample_41.CEL.gz',\n",
       " 'GSM872369_MAGE008_sample_42.CEL.gz',\n",
       " 'GSM872370_MAGE008_sample_43.CEL.gz',\n",
       " 'GSM872371_MAGE008_sample_44.CEL.gz',\n",
       " 'GSM872372_MAGE008_sample_45.CEL.gz',\n",
       " 'GSM872373_MAGE008_sample_46.CEL.gz',\n",
       " 'GSM872374_MAGE008_sample_47.CEL.gz',\n",
       " 'GSM872375_MAGE008_sample_48.CEL.gz',\n",
       " 'GSM872376_MAGE008_sample_49.CEL.gz',\n",
       " 'GSM872377_MAGE008_sample_50.CEL.gz',\n",
       " 'GSM872378_MAGE008_sample_51.CEL.gz',\n",
       " 'GSM872379_MAGE008_sample_52.CEL.gz',\n",
       " 'GSM872380_MAGE008_sample_53.CEL.gz',\n",
       " 'GSM872381_MAGE008_sample_54.CEL.gz',\n",
       " 'GSM872382_MAGE008_sample_55.CEL.gz',\n",
       " 'GSM872383_MAGE008_sample_56.CEL.gz',\n",
       " 'GSM872384_MAGE008_sample_57.CEL.gz',\n",
       " 'GSM872385_MAGE008_sample_58.CEL.gz',\n",
       " 'GSM872386_MAGE008_sample_59.CEL.gz',\n",
       " 'GSM872387_MAGE008_sample_60.CEL.gz',\n",
       " 'GSM872388_MAGE008_sample_61.CEL.gz',\n",
       " 'GSM872389_MAGE008_sample_62.CEL.gz',\n",
       " 'GSM872390_MAGE008_sample_63.CEL.gz',\n",
       " 'GSM872391_MAGE008_sample_64.CEL.gz',\n",
       " 'GSM872392_MAGE008_sample_65.CEL.gz']"
      ]
     },
     "execution_count": 35,
     "metadata": {},
     "output_type": "execute_result"
    }
   ],
   "source": [
    "os.listdir(dir_to_process)"
   ]
  },
  {
   "cell_type": "markdown",
   "metadata": {},
   "source": [
    "## Extracting expression values from CEL file"
   ]
  },
  {
   "cell_type": "markdown",
   "metadata": {},
   "source": [
    "For affy arrays without special probes, use RMA\n",
    "For GPL570/GPL96, use gcrma"
   ]
  },
  {
   "cell_type": "code",
   "execution_count": 36,
   "metadata": {
    "ExecuteTime": {
     "end_time": "2018-08-02T13:25:21.735530Z",
     "start_time": "2018-08-02T13:25:16.965609Z"
    },
    "scrolled": true
   },
   "outputs": [],
   "source": [
    "%%R\n",
    "\n",
    "# Load required R packages\n",
    "library(affy)\n",
    "library(annotate)\n",
    "library(gcrma)"
   ]
  },
  {
   "cell_type": "code",
   "execution_count": 37,
   "metadata": {
    "ExecuteTime": {
     "end_time": "2018-08-02T14:25:38.950721Z",
     "start_time": "2018-08-02T14:19:31.888815Z"
    },
    "scrolled": true
   },
   "outputs": [
    {
     "name": "stdout",
     "output_type": "stream",
     "text": [
      "Adjusting for optical effect.................................................................Done.\n",
      "Computing affinities.Done.\n",
      "Adjusting for non-specific binding.................................................................Done.\n",
      "Normalizing\n",
      "Calculating Expression\n"
     ]
    }
   ],
   "source": [
    "%%R -i dir_to_process -o normalized_expression\n",
    "\n",
    "# Bulk read cell files\n",
    "raw_expression <- ReadAffy(celfile.path = dir_to_process)\n",
    "\n",
    "# Normalize expression using RMA\n",
    "rma_normalized <- gcrma(raw_expression)\n",
    "\n",
    "# Retrieve expressions from dataset\n",
    "normalized_expression <- as.data.frame(exprs(rma_normalized))"
   ]
  },
  {
   "cell_type": "code",
   "execution_count": 38,
   "metadata": {
    "scrolled": true
   },
   "outputs": [
    {
     "data": {
      "text/html": [
       "<div>\n",
       "<style scoped>\n",
       "    .dataframe tbody tr th:only-of-type {\n",
       "        vertical-align: middle;\n",
       "    }\n",
       "\n",
       "    .dataframe tbody tr th {\n",
       "        vertical-align: top;\n",
       "    }\n",
       "\n",
       "    .dataframe thead th {\n",
       "        text-align: right;\n",
       "    }\n",
       "</style>\n",
       "<table border=\"1\" class=\"dataframe\">\n",
       "  <thead>\n",
       "    <tr style=\"text-align: right;\">\n",
       "      <th></th>\n",
       "      <th>GSM872328_MAGE008_sample_1.CEL.gz</th>\n",
       "      <th>GSM872329_MAGE008_sample_2.CEL.gz</th>\n",
       "      <th>GSM872330_MAGE008_sample_3.CEL.gz</th>\n",
       "      <th>GSM872331_MAGE008_sample_4.CEL.gz</th>\n",
       "      <th>GSM872332_MAGE008_sample_5.CEL.gz</th>\n",
       "      <th>GSM872333_MAGE008_sample_6.CEL.gz</th>\n",
       "      <th>GSM872334_MAGE008_sample_7.CEL.gz</th>\n",
       "      <th>GSM872335_MAGE008_sample_8.CEL.gz</th>\n",
       "      <th>GSM872336_MAGE008_sample_9.CEL.gz</th>\n",
       "      <th>GSM872337_MAGE008_sample_10.CEL.gz</th>\n",
       "      <th>...</th>\n",
       "      <th>GSM872383_MAGE008_sample_56.CEL.gz</th>\n",
       "      <th>GSM872384_MAGE008_sample_57.CEL.gz</th>\n",
       "      <th>GSM872385_MAGE008_sample_58.CEL.gz</th>\n",
       "      <th>GSM872386_MAGE008_sample_59.CEL.gz</th>\n",
       "      <th>GSM872387_MAGE008_sample_60.CEL.gz</th>\n",
       "      <th>GSM872388_MAGE008_sample_61.CEL.gz</th>\n",
       "      <th>GSM872389_MAGE008_sample_62.CEL.gz</th>\n",
       "      <th>GSM872390_MAGE008_sample_63.CEL.gz</th>\n",
       "      <th>GSM872391_MAGE008_sample_64.CEL.gz</th>\n",
       "      <th>GSM872392_MAGE008_sample_65.CEL.gz</th>\n",
       "    </tr>\n",
       "  </thead>\n",
       "  <tbody>\n",
       "    <tr>\n",
       "      <th>1007_s_at</th>\n",
       "      <td>9.816090</td>\n",
       "      <td>6.474644</td>\n",
       "      <td>9.113994</td>\n",
       "      <td>7.044742</td>\n",
       "      <td>8.719946</td>\n",
       "      <td>4.852191</td>\n",
       "      <td>7.190953</td>\n",
       "      <td>8.636192</td>\n",
       "      <td>5.623183</td>\n",
       "      <td>7.433451</td>\n",
       "      <td>...</td>\n",
       "      <td>6.287400</td>\n",
       "      <td>7.017124</td>\n",
       "      <td>7.533525</td>\n",
       "      <td>7.042195</td>\n",
       "      <td>8.809050</td>\n",
       "      <td>8.198514</td>\n",
       "      <td>8.457781</td>\n",
       "      <td>7.530108</td>\n",
       "      <td>4.724734</td>\n",
       "      <td>9.222943</td>\n",
       "    </tr>\n",
       "    <tr>\n",
       "      <th>1053_at</th>\n",
       "      <td>5.664499</td>\n",
       "      <td>6.540040</td>\n",
       "      <td>5.569006</td>\n",
       "      <td>5.745150</td>\n",
       "      <td>4.690936</td>\n",
       "      <td>5.923728</td>\n",
       "      <td>5.700713</td>\n",
       "      <td>5.120923</td>\n",
       "      <td>5.394368</td>\n",
       "      <td>6.704893</td>\n",
       "      <td>...</td>\n",
       "      <td>5.992869</td>\n",
       "      <td>6.754348</td>\n",
       "      <td>5.943736</td>\n",
       "      <td>6.333925</td>\n",
       "      <td>6.063615</td>\n",
       "      <td>6.360003</td>\n",
       "      <td>6.073347</td>\n",
       "      <td>7.141974</td>\n",
       "      <td>7.191548</td>\n",
       "      <td>5.611221</td>\n",
       "    </tr>\n",
       "    <tr>\n",
       "      <th>117_at</th>\n",
       "      <td>8.394219</td>\n",
       "      <td>6.083483</td>\n",
       "      <td>6.587381</td>\n",
       "      <td>6.092671</td>\n",
       "      <td>3.411626</td>\n",
       "      <td>3.791668</td>\n",
       "      <td>5.667734</td>\n",
       "      <td>4.965991</td>\n",
       "      <td>4.475886</td>\n",
       "      <td>4.443469</td>\n",
       "      <td>...</td>\n",
       "      <td>3.296701</td>\n",
       "      <td>5.638913</td>\n",
       "      <td>3.205921</td>\n",
       "      <td>3.471334</td>\n",
       "      <td>3.682211</td>\n",
       "      <td>8.971476</td>\n",
       "      <td>4.343425</td>\n",
       "      <td>5.738228</td>\n",
       "      <td>4.807307</td>\n",
       "      <td>10.331267</td>\n",
       "    </tr>\n",
       "    <tr>\n",
       "      <th>121_at</th>\n",
       "      <td>2.390202</td>\n",
       "      <td>2.345001</td>\n",
       "      <td>2.390202</td>\n",
       "      <td>2.388071</td>\n",
       "      <td>2.390202</td>\n",
       "      <td>2.390202</td>\n",
       "      <td>2.454035</td>\n",
       "      <td>2.390202</td>\n",
       "      <td>3.128954</td>\n",
       "      <td>2.390202</td>\n",
       "      <td>...</td>\n",
       "      <td>2.320004</td>\n",
       "      <td>2.390202</td>\n",
       "      <td>2.411101</td>\n",
       "      <td>2.390202</td>\n",
       "      <td>2.390202</td>\n",
       "      <td>2.390202</td>\n",
       "      <td>2.380696</td>\n",
       "      <td>2.390202</td>\n",
       "      <td>2.882576</td>\n",
       "      <td>2.434246</td>\n",
       "    </tr>\n",
       "    <tr>\n",
       "      <th>1255_g_at</th>\n",
       "      <td>2.223272</td>\n",
       "      <td>2.223272</td>\n",
       "      <td>2.223272</td>\n",
       "      <td>2.223272</td>\n",
       "      <td>2.223272</td>\n",
       "      <td>2.223272</td>\n",
       "      <td>2.223272</td>\n",
       "      <td>2.223272</td>\n",
       "      <td>2.223272</td>\n",
       "      <td>2.223272</td>\n",
       "      <td>...</td>\n",
       "      <td>2.223272</td>\n",
       "      <td>2.223272</td>\n",
       "      <td>2.223272</td>\n",
       "      <td>2.223272</td>\n",
       "      <td>2.223272</td>\n",
       "      <td>2.223272</td>\n",
       "      <td>2.348901</td>\n",
       "      <td>2.223272</td>\n",
       "      <td>2.223272</td>\n",
       "      <td>2.223272</td>\n",
       "    </tr>\n",
       "  </tbody>\n",
       "</table>\n",
       "<p>5 rows × 65 columns</p>\n",
       "</div>"
      ],
      "text/plain": [
       "           GSM872328_MAGE008_sample_1.CEL.gz  \\\n",
       "1007_s_at                           9.816090   \n",
       "1053_at                             5.664499   \n",
       "117_at                              8.394219   \n",
       "121_at                              2.390202   \n",
       "1255_g_at                           2.223272   \n",
       "\n",
       "           GSM872329_MAGE008_sample_2.CEL.gz  \\\n",
       "1007_s_at                           6.474644   \n",
       "1053_at                             6.540040   \n",
       "117_at                              6.083483   \n",
       "121_at                              2.345001   \n",
       "1255_g_at                           2.223272   \n",
       "\n",
       "           GSM872330_MAGE008_sample_3.CEL.gz  \\\n",
       "1007_s_at                           9.113994   \n",
       "1053_at                             5.569006   \n",
       "117_at                              6.587381   \n",
       "121_at                              2.390202   \n",
       "1255_g_at                           2.223272   \n",
       "\n",
       "           GSM872331_MAGE008_sample_4.CEL.gz  \\\n",
       "1007_s_at                           7.044742   \n",
       "1053_at                             5.745150   \n",
       "117_at                              6.092671   \n",
       "121_at                              2.388071   \n",
       "1255_g_at                           2.223272   \n",
       "\n",
       "           GSM872332_MAGE008_sample_5.CEL.gz  \\\n",
       "1007_s_at                           8.719946   \n",
       "1053_at                             4.690936   \n",
       "117_at                              3.411626   \n",
       "121_at                              2.390202   \n",
       "1255_g_at                           2.223272   \n",
       "\n",
       "           GSM872333_MAGE008_sample_6.CEL.gz  \\\n",
       "1007_s_at                           4.852191   \n",
       "1053_at                             5.923728   \n",
       "117_at                              3.791668   \n",
       "121_at                              2.390202   \n",
       "1255_g_at                           2.223272   \n",
       "\n",
       "           GSM872334_MAGE008_sample_7.CEL.gz  \\\n",
       "1007_s_at                           7.190953   \n",
       "1053_at                             5.700713   \n",
       "117_at                              5.667734   \n",
       "121_at                              2.454035   \n",
       "1255_g_at                           2.223272   \n",
       "\n",
       "           GSM872335_MAGE008_sample_8.CEL.gz  \\\n",
       "1007_s_at                           8.636192   \n",
       "1053_at                             5.120923   \n",
       "117_at                              4.965991   \n",
       "121_at                              2.390202   \n",
       "1255_g_at                           2.223272   \n",
       "\n",
       "           GSM872336_MAGE008_sample_9.CEL.gz  \\\n",
       "1007_s_at                           5.623183   \n",
       "1053_at                             5.394368   \n",
       "117_at                              4.475886   \n",
       "121_at                              3.128954   \n",
       "1255_g_at                           2.223272   \n",
       "\n",
       "           GSM872337_MAGE008_sample_10.CEL.gz  ...  \\\n",
       "1007_s_at                            7.433451  ...   \n",
       "1053_at                              6.704893  ...   \n",
       "117_at                               4.443469  ...   \n",
       "121_at                               2.390202  ...   \n",
       "1255_g_at                            2.223272  ...   \n",
       "\n",
       "           GSM872383_MAGE008_sample_56.CEL.gz  \\\n",
       "1007_s_at                            6.287400   \n",
       "1053_at                              5.992869   \n",
       "117_at                               3.296701   \n",
       "121_at                               2.320004   \n",
       "1255_g_at                            2.223272   \n",
       "\n",
       "           GSM872384_MAGE008_sample_57.CEL.gz  \\\n",
       "1007_s_at                            7.017124   \n",
       "1053_at                              6.754348   \n",
       "117_at                               5.638913   \n",
       "121_at                               2.390202   \n",
       "1255_g_at                            2.223272   \n",
       "\n",
       "           GSM872385_MAGE008_sample_58.CEL.gz  \\\n",
       "1007_s_at                            7.533525   \n",
       "1053_at                              5.943736   \n",
       "117_at                               3.205921   \n",
       "121_at                               2.411101   \n",
       "1255_g_at                            2.223272   \n",
       "\n",
       "           GSM872386_MAGE008_sample_59.CEL.gz  \\\n",
       "1007_s_at                            7.042195   \n",
       "1053_at                              6.333925   \n",
       "117_at                               3.471334   \n",
       "121_at                               2.390202   \n",
       "1255_g_at                            2.223272   \n",
       "\n",
       "           GSM872387_MAGE008_sample_60.CEL.gz  \\\n",
       "1007_s_at                            8.809050   \n",
       "1053_at                              6.063615   \n",
       "117_at                               3.682211   \n",
       "121_at                               2.390202   \n",
       "1255_g_at                            2.223272   \n",
       "\n",
       "           GSM872388_MAGE008_sample_61.CEL.gz  \\\n",
       "1007_s_at                            8.198514   \n",
       "1053_at                              6.360003   \n",
       "117_at                               8.971476   \n",
       "121_at                               2.390202   \n",
       "1255_g_at                            2.223272   \n",
       "\n",
       "           GSM872389_MAGE008_sample_62.CEL.gz  \\\n",
       "1007_s_at                            8.457781   \n",
       "1053_at                              6.073347   \n",
       "117_at                               4.343425   \n",
       "121_at                               2.380696   \n",
       "1255_g_at                            2.348901   \n",
       "\n",
       "           GSM872390_MAGE008_sample_63.CEL.gz  \\\n",
       "1007_s_at                            7.530108   \n",
       "1053_at                              7.141974   \n",
       "117_at                               5.738228   \n",
       "121_at                               2.390202   \n",
       "1255_g_at                            2.223272   \n",
       "\n",
       "           GSM872391_MAGE008_sample_64.CEL.gz  \\\n",
       "1007_s_at                            4.724734   \n",
       "1053_at                              7.191548   \n",
       "117_at                               4.807307   \n",
       "121_at                               2.882576   \n",
       "1255_g_at                            2.223272   \n",
       "\n",
       "           GSM872392_MAGE008_sample_65.CEL.gz  \n",
       "1007_s_at                            9.222943  \n",
       "1053_at                              5.611221  \n",
       "117_at                              10.331267  \n",
       "121_at                               2.434246  \n",
       "1255_g_at                            2.223272  \n",
       "\n",
       "[5 rows x 65 columns]"
      ]
     },
     "execution_count": 38,
     "metadata": {},
     "output_type": "execute_result"
    }
   ],
   "source": [
    "normalized_expression.head()"
   ]
  },
  {
   "cell_type": "code",
   "execution_count": 39,
   "metadata": {
    "ExecuteTime": {
     "end_time": "2018-08-02T14:25:38.956494Z",
     "start_time": "2018-08-02T14:25:38.952824Z"
    }
   },
   "outputs": [
    {
     "data": {
      "text/html": [
       "<div>\n",
       "<style scoped>\n",
       "    .dataframe tbody tr th:only-of-type {\n",
       "        vertical-align: middle;\n",
       "    }\n",
       "\n",
       "    .dataframe tbody tr th {\n",
       "        vertical-align: top;\n",
       "    }\n",
       "\n",
       "    .dataframe thead th {\n",
       "        text-align: right;\n",
       "    }\n",
       "</style>\n",
       "<table border=\"1\" class=\"dataframe\">\n",
       "  <thead>\n",
       "    <tr style=\"text-align: right;\">\n",
       "      <th></th>\n",
       "      <th>GSM872328</th>\n",
       "      <th>GSM872329</th>\n",
       "      <th>GSM872330</th>\n",
       "      <th>GSM872331</th>\n",
       "      <th>GSM872332</th>\n",
       "      <th>GSM872333</th>\n",
       "      <th>GSM872334</th>\n",
       "      <th>GSM872335</th>\n",
       "      <th>GSM872336</th>\n",
       "      <th>GSM872337</th>\n",
       "      <th>...</th>\n",
       "      <th>GSM872383</th>\n",
       "      <th>GSM872384</th>\n",
       "      <th>GSM872385</th>\n",
       "      <th>GSM872386</th>\n",
       "      <th>GSM872387</th>\n",
       "      <th>GSM872388</th>\n",
       "      <th>GSM872389</th>\n",
       "      <th>GSM872390</th>\n",
       "      <th>GSM872391</th>\n",
       "      <th>GSM872392</th>\n",
       "    </tr>\n",
       "  </thead>\n",
       "  <tbody>\n",
       "    <tr>\n",
       "      <th>1007_s_at</th>\n",
       "      <td>9.816090</td>\n",
       "      <td>6.474644</td>\n",
       "      <td>9.113994</td>\n",
       "      <td>7.044742</td>\n",
       "      <td>8.719946</td>\n",
       "      <td>4.852191</td>\n",
       "      <td>7.190953</td>\n",
       "      <td>8.636192</td>\n",
       "      <td>5.623183</td>\n",
       "      <td>7.433451</td>\n",
       "      <td>...</td>\n",
       "      <td>6.287400</td>\n",
       "      <td>7.017124</td>\n",
       "      <td>7.533525</td>\n",
       "      <td>7.042195</td>\n",
       "      <td>8.809050</td>\n",
       "      <td>8.198514</td>\n",
       "      <td>8.457781</td>\n",
       "      <td>7.530108</td>\n",
       "      <td>4.724734</td>\n",
       "      <td>9.222943</td>\n",
       "    </tr>\n",
       "    <tr>\n",
       "      <th>1053_at</th>\n",
       "      <td>5.664499</td>\n",
       "      <td>6.540040</td>\n",
       "      <td>5.569006</td>\n",
       "      <td>5.745150</td>\n",
       "      <td>4.690936</td>\n",
       "      <td>5.923728</td>\n",
       "      <td>5.700713</td>\n",
       "      <td>5.120923</td>\n",
       "      <td>5.394368</td>\n",
       "      <td>6.704893</td>\n",
       "      <td>...</td>\n",
       "      <td>5.992869</td>\n",
       "      <td>6.754348</td>\n",
       "      <td>5.943736</td>\n",
       "      <td>6.333925</td>\n",
       "      <td>6.063615</td>\n",
       "      <td>6.360003</td>\n",
       "      <td>6.073347</td>\n",
       "      <td>7.141974</td>\n",
       "      <td>7.191548</td>\n",
       "      <td>5.611221</td>\n",
       "    </tr>\n",
       "    <tr>\n",
       "      <th>117_at</th>\n",
       "      <td>8.394219</td>\n",
       "      <td>6.083483</td>\n",
       "      <td>6.587381</td>\n",
       "      <td>6.092671</td>\n",
       "      <td>3.411626</td>\n",
       "      <td>3.791668</td>\n",
       "      <td>5.667734</td>\n",
       "      <td>4.965991</td>\n",
       "      <td>4.475886</td>\n",
       "      <td>4.443469</td>\n",
       "      <td>...</td>\n",
       "      <td>3.296701</td>\n",
       "      <td>5.638913</td>\n",
       "      <td>3.205921</td>\n",
       "      <td>3.471334</td>\n",
       "      <td>3.682211</td>\n",
       "      <td>8.971476</td>\n",
       "      <td>4.343425</td>\n",
       "      <td>5.738228</td>\n",
       "      <td>4.807307</td>\n",
       "      <td>10.331267</td>\n",
       "    </tr>\n",
       "    <tr>\n",
       "      <th>121_at</th>\n",
       "      <td>2.390202</td>\n",
       "      <td>2.345001</td>\n",
       "      <td>2.390202</td>\n",
       "      <td>2.388071</td>\n",
       "      <td>2.390202</td>\n",
       "      <td>2.390202</td>\n",
       "      <td>2.454035</td>\n",
       "      <td>2.390202</td>\n",
       "      <td>3.128954</td>\n",
       "      <td>2.390202</td>\n",
       "      <td>...</td>\n",
       "      <td>2.320004</td>\n",
       "      <td>2.390202</td>\n",
       "      <td>2.411101</td>\n",
       "      <td>2.390202</td>\n",
       "      <td>2.390202</td>\n",
       "      <td>2.390202</td>\n",
       "      <td>2.380696</td>\n",
       "      <td>2.390202</td>\n",
       "      <td>2.882576</td>\n",
       "      <td>2.434246</td>\n",
       "    </tr>\n",
       "    <tr>\n",
       "      <th>1255_g_at</th>\n",
       "      <td>2.223272</td>\n",
       "      <td>2.223272</td>\n",
       "      <td>2.223272</td>\n",
       "      <td>2.223272</td>\n",
       "      <td>2.223272</td>\n",
       "      <td>2.223272</td>\n",
       "      <td>2.223272</td>\n",
       "      <td>2.223272</td>\n",
       "      <td>2.223272</td>\n",
       "      <td>2.223272</td>\n",
       "      <td>...</td>\n",
       "      <td>2.223272</td>\n",
       "      <td>2.223272</td>\n",
       "      <td>2.223272</td>\n",
       "      <td>2.223272</td>\n",
       "      <td>2.223272</td>\n",
       "      <td>2.223272</td>\n",
       "      <td>2.348901</td>\n",
       "      <td>2.223272</td>\n",
       "      <td>2.223272</td>\n",
       "      <td>2.223272</td>\n",
       "    </tr>\n",
       "  </tbody>\n",
       "</table>\n",
       "<p>5 rows × 65 columns</p>\n",
       "</div>"
      ],
      "text/plain": [
       "           GSM872328  GSM872329  GSM872330  GSM872331  GSM872332  GSM872333  \\\n",
       "1007_s_at   9.816090   6.474644   9.113994   7.044742   8.719946   4.852191   \n",
       "1053_at     5.664499   6.540040   5.569006   5.745150   4.690936   5.923728   \n",
       "117_at      8.394219   6.083483   6.587381   6.092671   3.411626   3.791668   \n",
       "121_at      2.390202   2.345001   2.390202   2.388071   2.390202   2.390202   \n",
       "1255_g_at   2.223272   2.223272   2.223272   2.223272   2.223272   2.223272   \n",
       "\n",
       "           GSM872334  GSM872335  GSM872336  GSM872337  ...  GSM872383  \\\n",
       "1007_s_at   7.190953   8.636192   5.623183   7.433451  ...   6.287400   \n",
       "1053_at     5.700713   5.120923   5.394368   6.704893  ...   5.992869   \n",
       "117_at      5.667734   4.965991   4.475886   4.443469  ...   3.296701   \n",
       "121_at      2.454035   2.390202   3.128954   2.390202  ...   2.320004   \n",
       "1255_g_at   2.223272   2.223272   2.223272   2.223272  ...   2.223272   \n",
       "\n",
       "           GSM872384  GSM872385  GSM872386  GSM872387  GSM872388  GSM872389  \\\n",
       "1007_s_at   7.017124   7.533525   7.042195   8.809050   8.198514   8.457781   \n",
       "1053_at     6.754348   5.943736   6.333925   6.063615   6.360003   6.073347   \n",
       "117_at      5.638913   3.205921   3.471334   3.682211   8.971476   4.343425   \n",
       "121_at      2.390202   2.411101   2.390202   2.390202   2.390202   2.380696   \n",
       "1255_g_at   2.223272   2.223272   2.223272   2.223272   2.223272   2.348901   \n",
       "\n",
       "           GSM872390  GSM872391  GSM872392  \n",
       "1007_s_at   7.530108   4.724734   9.222943  \n",
       "1053_at     7.141974   7.191548   5.611221  \n",
       "117_at      5.738228   4.807307  10.331267  \n",
       "121_at      2.390202   2.882576   2.434246  \n",
       "1255_g_at   2.223272   2.223272   2.223272  \n",
       "\n",
       "[5 rows x 65 columns]"
      ]
     },
     "execution_count": 39,
     "metadata": {},
     "output_type": "execute_result"
    }
   ],
   "source": [
    "# Trim names to make the table more readable.\n",
    "\n",
    "normalized_expression.columns = normalized_expression.columns.to_series().apply(lambda x: x.split('_')[0]).values\n",
    "normalized_expression.head()"
   ]
  },
  {
   "cell_type": "code",
   "execution_count": 40,
   "metadata": {},
   "outputs": [
    {
     "data": {
      "text/plain": [
       "CompletedProcess(args=['rm', '-r', 'TMPDIR/'], returncode=0)"
      ]
     },
     "execution_count": 40,
     "metadata": {},
     "output_type": "execute_result"
    }
   ],
   "source": [
    "# delete unnecessary files\n",
    "\n",
    "subprocess.run(['rm',  '-r','TMPDIR/'])"
   ]
  },
  {
   "cell_type": "markdown",
   "metadata": {},
   "source": [
    "## Converting probe ids to HUGO gene symbols"
   ]
  },
  {
   "cell_type": "markdown",
   "metadata": {},
   "source": [
    "If your RNA-Seq file is not from GEO or retrieved from CEL files, go straight to the final QC."
   ]
  },
  {
   "cell_type": "markdown",
   "metadata": {},
   "source": [
    "Get a chip SOFT file and turn it into a 3-column file.<br>\n",
    "\n",
    "1st column: probe id<br>\n",
    "2nd column: gene symbol column (as is with '///')<br>\n",
    "3rd column: entrez id (not needed for the study)"
   ]
  },
  {
   "cell_type": "markdown",
   "metadata": {
    "tags": []
   },
   "source": [
    "To download the SOFT file manually, follow these steps (we use the Ulloya-Montoya sample as an example):"
   ]
  },
  {
   "cell_type": "markdown",
   "metadata": {},
   "source": [
    "* Go to https://www.ncbi.nlm.nih.gov/geo/\n",
    "* Type the GLP platform number – GLP570 – in the search bar\n",
    "* Go to https://www.ncbi.nlm.nih.gov/geo/query/acc.cgi?acc=GPL570\n",
    "* Find the Annotation SOFT table at the bottom of the page\n",
    "* Click the button to download the SOFT annotation table for your sample (GPL570.annot.gz in our example)\n",
    "* Upload the file to the environment."
   ]
  },
  {
   "cell_type": "code",
   "execution_count": 21,
   "metadata": {},
   "outputs": [
    {
     "ename": "NameError",
     "evalue": "name 'PLATFORM' is not defined",
     "output_type": "error",
     "traceback": [
      "\u001b[0;31m---------------------------------------------------------------------------\u001b[0m",
      "\u001b[0;31mNameError\u001b[0m                                 Traceback (most recent call last)",
      "Cell \u001b[0;32mIn [21], line 6\u001b[0m\n\u001b[1;32m      1\u001b[0m \u001b[38;5;66;03m#To download SOFT annotation table programmatically, change the PLATFORM value to appropriate GPL platform\u001b[39;00m\n\u001b[1;32m      3\u001b[0m \u001b[38;5;28;01mwith\u001b[39;00m \u001b[38;5;28mopen\u001b[39m(os\u001b[38;5;241m.\u001b[39mdevnull, \u001b[38;5;124m\"\u001b[39m\u001b[38;5;124mw\u001b[39m\u001b[38;5;124m\"\u001b[39m) \u001b[38;5;28;01mas\u001b[39;00m f:\n\u001b[1;32m      4\u001b[0m     subprocess\u001b[38;5;241m.\u001b[39mrun([\n\u001b[1;32m      5\u001b[0m         \u001b[38;5;124m'\u001b[39m\u001b[38;5;124mwget\u001b[39m\u001b[38;5;124m'\u001b[39m,\n\u001b[0;32m----> 6\u001b[0m         \u001b[38;5;124mf\u001b[39m\u001b[38;5;124m'\u001b[39m\u001b[38;5;124mftp://ftp.ncbi.nlm.nih.gov/geo/platforms/GPLnnn/\u001b[39m\u001b[38;5;132;01m{\u001b[39;00m\u001b[43mPLATFORM\u001b[49m\u001b[38;5;132;01m}\u001b[39;00m\u001b[38;5;124m/annot/\u001b[39m\u001b[38;5;132;01m{\u001b[39;00mPLATFORM\u001b[38;5;132;01m}\u001b[39;00m\u001b[38;5;124m.annot.gz\u001b[39m\u001b[38;5;124m'\u001b[39m\n\u001b[1;32m      7\u001b[0m     ], stdout\u001b[38;5;241m=\u001b[39mf, stderr\u001b[38;5;241m=\u001b[39msubprocess\u001b[38;5;241m.\u001b[39mSTDOUT)\n",
      "\u001b[0;31mNameError\u001b[0m: name 'PLATFORM' is not defined"
     ]
    }
   ],
   "source": [
    "#To download SOFT annotation table programmatically, change the PLATFORM value to appropriate GPL platform\n",
    "\n",
    "with open(os.devnull, \"w\") as f:\n",
    "    subprocess.run([\n",
    "        'wget',\n",
    "        f'ftp://ftp.ncbi.nlm.nih.gov/geo/platforms/GPLnnn/{PLATFORM}/annot/{PLATFORM}.annot.gz'\n",
    "    ], stdout=f, stderr=subprocess.STDOUT)"
   ]
  },
  {
   "cell_type": "code",
   "execution_count": 22,
   "metadata": {},
   "outputs": [
    {
     "ename": "NameError",
     "evalue": "name 'PLATFORM' is not defined",
     "output_type": "error",
     "traceback": [
      "\u001b[0;31m---------------------------------------------------------------------------\u001b[0m",
      "\u001b[0;31mNameError\u001b[0m                                 Traceback (most recent call last)",
      "Cell \u001b[0;32mIn [22], line 4\u001b[0m\n\u001b[1;32m      1\u001b[0m \u001b[38;5;66;03m# Once you’ve downloaded the SOFT file, extract the data from it.\u001b[39;00m\n\u001b[1;32m      2\u001b[0m \u001b[38;5;66;03m# Unzip the SOFT file to get GPL570.annot.gz\u001b[39;00m\n\u001b[0;32m----> 4\u001b[0m subprocess\u001b[38;5;241m.\u001b[39mrun([\u001b[38;5;124m'\u001b[39m\u001b[38;5;124mgunzip\u001b[39m\u001b[38;5;124m'\u001b[39m, \u001b[38;5;124mf\u001b[39m\u001b[38;5;124m'\u001b[39m\u001b[38;5;132;01m{\u001b[39;00m\u001b[43mPLATFORM\u001b[49m\u001b[38;5;132;01m}\u001b[39;00m\u001b[38;5;124m.annot.gz\u001b[39m\u001b[38;5;124m'\u001b[39m])\n",
      "\u001b[0;31mNameError\u001b[0m: name 'PLATFORM' is not defined"
     ]
    }
   ],
   "source": [
    "# Once you’ve downloaded the SOFT file, extract the data from it.\n",
    "# Unzip the SOFT file to get GPL570.annot.gz\n",
    "\n",
    "subprocess.run(['gunzip', f'{PLATFORM}.annot.gz'])"
   ]
  },
  {
   "cell_type": "markdown",
   "metadata": {},
   "source": [
    "Subsetting SOFT file to have 3 columns "
   ]
  },
  {
   "cell_type": "code",
   "execution_count": 43,
   "metadata": {},
   "outputs": [
    {
     "data": {
      "text/plain": [
       "CompletedProcess(args=\"sed '1,/^ID/d' GPL570.annot > GPL570.beheaded.annot\", returncode=0)"
      ]
     },
     "execution_count": 43,
     "metadata": {},
     "output_type": "execute_result"
    }
   ],
   "source": [
    "# Remove the header from the SOFT file to avoid any problems in further processes\n",
    "subprocess.run(\"sed '1,/^ID/d' GPL570.annot > GPL570.beheaded.annot\", shell = True)"
   ]
  },
  {
   "cell_type": "code",
   "execution_count": 44,
   "metadata": {},
   "outputs": [
    {
     "name": "stderr",
     "output_type": "stream",
     "text": [
      "/tmp/ipykernel_45/3515344537.py:1: DtypeWarning: Columns (12) have mixed types. Specify dtype option on import or set low_memory=False.\n",
      "  gene_SOFT_annotations = pd.read_csv(f'{PLATFORM}.beheaded.annot', sep = '\\t', header = None)\n"
     ]
    }
   ],
   "source": [
    "gene_SOFT_annotations = pd.read_csv(f'{PLATFORM}.beheaded.annot', sep = '\\t', header = None)\n",
    "gene_SOFT_annotations = gene_SOFT_annotations.iloc[:, [0, 2, 3]]\n",
    "\n",
    "# Rename columns\n",
    "gene_SOFT_annotations = gene_SOFT_annotations.rename(columns = {2: 1, 3 : 2})\n",
    "gene_SOFT_annotations.to_csv(f'{PLATFORM}.3col', sep = '\\t',  index=False, quoting=csv.QUOTE_NONNUMERIC)"
   ]
  },
  {
   "cell_type": "code",
   "execution_count": 68,
   "metadata": {},
   "outputs": [
    {
     "data": {
      "text/html": [
       "<div>\n",
       "<style scoped>\n",
       "    .dataframe tbody tr th:only-of-type {\n",
       "        vertical-align: middle;\n",
       "    }\n",
       "\n",
       "    .dataframe tbody tr th {\n",
       "        vertical-align: top;\n",
       "    }\n",
       "\n",
       "    .dataframe thead th {\n",
       "        text-align: right;\n",
       "    }\n",
       "</style>\n",
       "<table border=\"1\" class=\"dataframe\">\n",
       "  <thead>\n",
       "    <tr style=\"text-align: right;\">\n",
       "      <th></th>\n",
       "      <th>0</th>\n",
       "      <th>1</th>\n",
       "      <th>2</th>\n",
       "    </tr>\n",
       "  </thead>\n",
       "  <tbody>\n",
       "    <tr>\n",
       "      <th>0</th>\n",
       "      <td>1007_s_at</td>\n",
       "      <td>MIR4640///DDR1</td>\n",
       "      <td>100616237///780</td>\n",
       "    </tr>\n",
       "    <tr>\n",
       "      <th>1</th>\n",
       "      <td>1053_at</td>\n",
       "      <td>RFC2</td>\n",
       "      <td>5982</td>\n",
       "    </tr>\n",
       "    <tr>\n",
       "      <th>2</th>\n",
       "      <td>117_at</td>\n",
       "      <td>HSPA6</td>\n",
       "      <td>3310</td>\n",
       "    </tr>\n",
       "    <tr>\n",
       "      <th>3</th>\n",
       "      <td>121_at</td>\n",
       "      <td>PAX8</td>\n",
       "      <td>7849</td>\n",
       "    </tr>\n",
       "    <tr>\n",
       "      <th>4</th>\n",
       "      <td>1255_g_at</td>\n",
       "      <td>GUCA1A</td>\n",
       "      <td>2978</td>\n",
       "    </tr>\n",
       "    <tr>\n",
       "      <th>...</th>\n",
       "      <td>...</td>\n",
       "      <td>...</td>\n",
       "      <td>...</td>\n",
       "    </tr>\n",
       "    <tr>\n",
       "      <th>54671</th>\n",
       "      <td>AFFX-ThrX-M_at</td>\n",
       "      <td>NaN</td>\n",
       "      <td>NaN</td>\n",
       "    </tr>\n",
       "    <tr>\n",
       "      <th>54672</th>\n",
       "      <td>AFFX-TrpnX-3_at</td>\n",
       "      <td>NaN</td>\n",
       "      <td>NaN</td>\n",
       "    </tr>\n",
       "    <tr>\n",
       "      <th>54673</th>\n",
       "      <td>AFFX-TrpnX-5_at</td>\n",
       "      <td>NaN</td>\n",
       "      <td>NaN</td>\n",
       "    </tr>\n",
       "    <tr>\n",
       "      <th>54674</th>\n",
       "      <td>AFFX-TrpnX-M_at</td>\n",
       "      <td>NaN</td>\n",
       "      <td>NaN</td>\n",
       "    </tr>\n",
       "    <tr>\n",
       "      <th>54675</th>\n",
       "      <td>!platform_table_end</td>\n",
       "      <td>NaN</td>\n",
       "      <td>NaN</td>\n",
       "    </tr>\n",
       "  </tbody>\n",
       "</table>\n",
       "<p>54676 rows × 3 columns</p>\n",
       "</div>"
      ],
      "text/plain": [
       "                         0               1                2\n",
       "0                1007_s_at  MIR4640///DDR1  100616237///780\n",
       "1                  1053_at            RFC2             5982\n",
       "2                   117_at           HSPA6             3310\n",
       "3                   121_at            PAX8             7849\n",
       "4                1255_g_at          GUCA1A             2978\n",
       "...                    ...             ...              ...\n",
       "54671       AFFX-ThrX-M_at             NaN              NaN\n",
       "54672      AFFX-TrpnX-3_at             NaN              NaN\n",
       "54673      AFFX-TrpnX-5_at             NaN              NaN\n",
       "54674      AFFX-TrpnX-M_at             NaN              NaN\n",
       "54675  !platform_table_end             NaN              NaN\n",
       "\n",
       "[54676 rows x 3 columns]"
      ]
     },
     "execution_count": 68,
     "metadata": {},
     "output_type": "execute_result"
    }
   ],
   "source": [
    "gene_SOFT_annotations.head()"
   ]
  },
  {
   "cell_type": "code",
   "execution_count": 46,
   "metadata": {},
   "outputs": [
    {
     "data": {
      "text/plain": [
       "CompletedProcess(args=['rm', 'GPL570.beheaded.annot'], returncode=0)"
      ]
     },
     "execution_count": 46,
     "metadata": {},
     "output_type": "execute_result"
    }
   ],
   "source": [
    "# Delete all unnecessary files\n",
    "subprocess.run(['rm', f'{PLATFORM}.annot'])\n",
    "subprocess.run(['rm', f'{PLATFORM}.beheaded.annot'])"
   ]
  },
  {
   "cell_type": "code",
   "execution_count": 47,
   "metadata": {
    "ExecuteTime": {
     "end_time": "2018-08-02T14:25:50.137216Z",
     "start_time": "2018-08-02T14:25:49.716242Z"
    }
   },
   "outputs": [],
   "source": [
    "probes_gs_dict = get_gs_for_probes_from_3col(f'{PLATFORM}.3col', normalized_expression.index.tolist())"
   ]
  },
  {
   "cell_type": "code",
   "execution_count": 48,
   "metadata": {},
   "outputs": [
    {
     "data": {
      "text/plain": [
       "1007_s_at    [MIR4640, DDR1]\n",
       "1053_at               [RFC2]\n",
       "117_at               [HSPA6]\n",
       "121_at                [PAX8]\n",
       "1255_g_at           [GUCA1A]\n",
       "1294_at      [MIR5193, UBA7]\n",
       "1316_at               [THRA]\n",
       "1320_at             [PTPN21]\n",
       "1405_i_at             [CCL5]\n",
       "1431_at             [CYP2E1]\n",
       "dtype: object"
      ]
     },
     "execution_count": 48,
     "metadata": {},
     "output_type": "execute_result"
    }
   ],
   "source": [
    "pd.Series(probes_gs_dict).head(10)"
   ]
  },
  {
   "cell_type": "code",
   "execution_count": null,
   "metadata": {
    "ExecuteTime": {
     "end_time": "2018-08-02T14:26:46.823094Z",
     "start_time": "2018-08-02T14:25:52.167425Z"
    }
   },
   "outputs": [],
   "source": [
    "series = pd.Series(probes_gs_dict)\n",
    "annotated_expression = get_expressions_for_gs(series, normalized_expression, 'max').T.sort_index()\n",
    "\n",
    "annotated_expression.to_csv(EXPRESSION_MATRIX, sep='\\t', index=True)"
   ]
  },
  {
   "cell_type": "markdown",
   "metadata": {},
   "source": [
    "# Quality check (QC)"
   ]
  },
  {
   "cell_type": "code",
   "execution_count": 50,
   "metadata": {
    "tags": []
   },
   "outputs": [],
   "source": [
    "annotated_expression = pd.read_csv(EXPRESSION_MATRIX, sep='\\t', index_col=0)"
   ]
  },
  {
   "cell_type": "markdown",
   "metadata": {},
   "source": [
    "The Quality Control (QC) section identifies batches, outliers, and assesses the normality of data distribution usingPCA plot, UMAP plot, distribution plot, or other techniques.\n",
    "\n",
    "We will provide examples of both poor and good datasets, which will help you differentiate them visually and understand the types of possible data quality issues that may affect downstream analyses."
   ]
  },
  {
   "cell_type": "markdown",
   "metadata": {},
   "source": [
    "## Batch detection"
   ]
  },
  {
   "cell_type": "markdown",
   "metadata": {},
   "source": [
    "This section is responsible for identifying any potential batch effects in the analyzed data using UMAP and PCA analyses. The results of these analyses are plotted to visualize any potential batches in the data.\n",
    "\n",
    "If you are not familiar with batch effects follow [this link](https://towardsdatascience.com/batcheffectsc71c886ca9c5):\n",
    "\n",
    "Below is an example of a sample check results for the presence of batch effects using the UMAP analysis. Two plots have been generated to visualize possible analysis results. The plot on the right shows an example of a dataset with no identified issues, whereas the plot on the left exhibits potential batch effects.\n",
    "\n",
    "You can see that the plot on the right shows two distinct clusters of data points that are grouped quite far from each other. This is indicative of the presence of a potential batch effect.\n",
    "\n",
    "If your data plot resembles the one on the right, remove any identified batch effects to ensure accurate and reliable results.\n",
    "\n",
    "[Here are the instructions for batch effect removal](https://github.com/chichaumiau/removeBatcheffect)"
   ]
  },
  {
   "cell_type": "markdown",
   "metadata": {},
   "source": [
    "![Umap Example](plots/umap_examples.svg)"
   ]
  },
  {
   "cell_type": "code",
   "execution_count": 51,
   "metadata": {},
   "outputs": [
    {
     "data": {
      "text/plain": [
       "<AxesSubplot:>"
      ]
     },
     "execution_count": 51,
     "metadata": {},
     "output_type": "execute_result"
    },
    {
     "data": {
      "image/png": "[encoded data removed]",
      "text/plain": [
       "<Figure size 600x600 with 1 Axes>"
      ]
     },
     "metadata": {},
     "output_type": "display_data"
    }
   ],
   "source": [
    "# Generate umap_plot for the input data\n",
    "umap_plot(annotated_expression.T, legend = 'Out')"
   ]
  },
  {
   "cell_type": "markdown",
   "metadata": {},
   "source": [
    "To further enhance the significance of our analysis, we additionally perform the PCA analysis and plot the results to ensure that our data is free from any batch effects.\n",
    "\n",
    "Below is an example of a sample check results for the presence of batch effects using the PSA analysis. Again, two plots have been generated to visualize possible analysis results.  Batch effects in the plot on the left can be suggested from the presence of s two distinct groups of data points that appear far from each other. In contrast, a normal dataset appears as a single group of data points that are relatively close to each other, as reflected in the PCA plot.\n",
    "\n",
    "This step is essential to ensure that (a) the data used is free from any systematic variation that could confound the analyses and (b) any observed effects are biologically meaningful."
   ]
  },
  {
   "cell_type": "markdown",
   "metadata": {},
   "source": [
    "![Pca batches example not colored](plots/pca_batches_example_not_colored.svg)"
   ]
  },
  {
   "cell_type": "markdown",
   "metadata": {},
   "source": [
    "![Pca batches example not colored](plots/pca_batches_example_colored.svg)"
   ]
  },
  {
   "cell_type": "code",
   "execution_count": 52,
   "metadata": {},
   "outputs": [
    {
     "data": {
      "text/plain": [
       "<AxesSubplot:xlabel='PCA 1 component 14% variance explained', ylabel='PCA 2 component 10% variance explained'>"
      ]
     },
     "execution_count": 52,
     "metadata": {},
     "output_type": "execute_result"
    },
    {
     "data": {
      "image/png": "[encoded data removed]",
      "text/plain": [
       "<Figure size 600x600 with 1 Axes>"
      ]
     },
     "metadata": {},
     "output_type": "display_data"
    }
   ],
   "source": [
    "# Generate the pca plot for the annotated_expressions\n",
    "pca_plot(annotated_expression.T, legend = 'out')"
   ]
  },
  {
   "cell_type": "markdown",
   "metadata": {},
   "source": [
    "## Outlier detection"
   ]
  },
  {
   "cell_type": "markdown",
   "metadata": {},
   "source": [
    "The purpose of this section is to identify outliers in the annotated_expression data through PCA analysis and the generation of corresponding plots.\n",
    "\n",
    "The code cell below generates a PCA plot of the transposed annotated_expression data. Transposing the data allows the sample IDs to be located in the row positions, which facilitates dimension reduction based on samples. This plot can help identify any possible data outliers.\n",
    "\n",
    "Below is given an illustrative example of data outliers.\n",
    "In the plot on the left, two points lie far away from the main group of data points, indicating the presence of outliers in the dataset. In contrast, the data points in the plot on the right lie relatively close to each other, with no outliers detected.\n",
    "\n",
    "To get detailed information on data outliers, follow this [link](https://www.geeksforgeeks.org/detect-and-remove-the-outliers-using-python/)"
   ]
  },
  {
   "cell_type": "markdown",
   "metadata": {},
   "source": [
    "![PCA outliers example](plots/pca_outliers_example.svg)"
   ]
  },
  {
   "cell_type": "code",
   "execution_count": 53,
   "metadata": {
    "tags": []
   },
   "outputs": [
    {
     "data": {
      "text/plain": [
       "<AxesSubplot:xlabel='PCA 1 component 14% variance explained', ylabel='PCA 2 component 10% variance explained'>"
      ]
     },
     "execution_count": 53,
     "metadata": {},
     "output_type": "execute_result"
    },
    {
     "data": {
      "image/png": "[encoded data removed]",
      "text/plain": [
       "<Figure size 600x600 with 1 Axes>"
      ]
     },
     "metadata": {},
     "output_type": "display_data"
    }
   ],
   "source": [
    "# Generate pca plot for annotated_expression to find outliers\n",
    "pca_plot(annotated_expression.T, legend= None)"
   ]
  },
  {
   "cell_type": "markdown",
   "metadata": {},
   "source": [
    "If the pca_plot of your data suggests the analyzed data contain outliers, remove the outlying points from your dataset."
   ]
  },
  {
   "cell_type": "code",
   "execution_count": 54,
   "metadata": {
    "ExecuteTime": {
     "end_time": "2018-08-02T14:25:38.970277Z",
     "start_time": "2018-08-02T14:25:38.958537Z"
    },
    "scrolled": true
   },
   "outputs": [
    {
     "data": {
      "text/plain": [
       "1"
      ]
     },
     "execution_count": 54,
     "metadata": {},
     "output_type": "execute_result"
    }
   ],
   "source": [
    "# Check for repetitive values \n",
    "annotated_expression.columns.value_counts().max()"
   ]
  },
  {
   "cell_type": "markdown",
   "metadata": {},
   "source": [
    "## Data distribution check"
   ]
  },
  {
   "cell_type": "markdown",
   "metadata": {},
   "source": [
    "This is the final section of the QC, where data quality is checked based on its distribution.\n",
    "\n",
    "As with the previous sections, an example of two gene expression datasets is provided below, with one exhibiting a good-quality dataset and the other exhibiting a poor-quality dataset, as indicated by their respective distribution plots.\n",
    "\n",
    "In the plot on the right, the expression values start off very low and then rise before dropping down. This pattern suggests potential RNA degradation, which can compromise the reliability and accuracy of downstream analyses. In contrast, the distribution plot on the left appears to be normal, indicating good-quality gene expression data.\n",
    "Any deviations from normal distributions or patterns of gene expression that may indicate gene degradation should be carefully investigated and, if necessary, corrected to ensure high-quality data.\n",
    "\n",
    "The code snippet provided generates a visualization of the distribution of annotated expression values, which appears to be normal and distinct from the atypical distribution depicted in the previous example. This type of data visualization is useful for identifying trends and patterns in gene expression data and can aid in the quality control and preprocessing of the data.\n",
    "\n",
    "If your data plot shows normal distribution, you can proceed with the analyses. If it resembles the one on the left, then your data is probably abnormal and might have RNA degradation. In the case of RNA degradation,  do not proceed with the analyses to avoid wrong calculations and choose a new dataset.\n",
    "\n",
    "If you have successfully passed all of the QC tests, you can move to the classification step. If there are any data issues, fix them before proceeding to the next step as they can affect the results of the analyses.\n"
   ]
  },
  {
   "cell_type": "markdown",
   "metadata": {},
   "source": [
    "![Data distribution example](plots/data_distribution_example.svg)"
   ]
  },
  {
   "cell_type": "code",
   "execution_count": 55,
   "metadata": {},
   "outputs": [
    {
     "name": "stderr",
     "output_type": "stream",
     "text": [
      "/home/jovyan/venvs/QA3.9-common/lib/python3.9/site-packages/seaborn/distributions.py:2619: FutureWarning: `distplot` is a deprecated function and will be removed in a future version. Please adapt your code to use either `displot` (a figure-level function with similar flexibility) or `histplot` (an axes-level function for histograms).\n",
      "  warnings.warn(msg, FutureWarning)\n"
     ]
    },
    {
     "data": {
      "text/plain": [
       "<AxesSubplot:ylabel='Density'>"
      ]
     },
     "execution_count": 55,
     "metadata": {},
     "output_type": "execute_result"
    },
    {
     "data": {
      "image/png": "[encoded data removed]",
      "text/plain": [
       "<Figure size 768x576 with 1 Axes>"
      ]
     },
     "metadata": {},
     "output_type": "display_data"
    }
   ],
   "source": [
    "sns.distplot(annotated_expression.mean(axis=1), kde = True)"
   ]
  },
  {
   "cell_type": "code",
   "execution_count": 56,
   "metadata": {},
   "outputs": [
    {
     "data": {
      "text/html": [
       "<div>\n",
       "<style scoped>\n",
       "    .dataframe tbody tr th:only-of-type {\n",
       "        vertical-align: middle;\n",
       "    }\n",
       "\n",
       "    .dataframe tbody tr th {\n",
       "        vertical-align: top;\n",
       "    }\n",
       "\n",
       "    .dataframe thead th {\n",
       "        text-align: right;\n",
       "    }\n",
       "</style>\n",
       "<table border=\"1\" class=\"dataframe\">\n",
       "  <thead>\n",
       "    <tr style=\"text-align: right;\">\n",
       "      <th></th>\n",
       "      <th>GSM872328</th>\n",
       "      <th>GSM872329</th>\n",
       "      <th>GSM872330</th>\n",
       "      <th>GSM872331</th>\n",
       "      <th>GSM872332</th>\n",
       "      <th>GSM872333</th>\n",
       "      <th>GSM872334</th>\n",
       "      <th>GSM872335</th>\n",
       "      <th>GSM872336</th>\n",
       "      <th>GSM872337</th>\n",
       "      <th>...</th>\n",
       "      <th>GSM872383</th>\n",
       "      <th>GSM872384</th>\n",
       "      <th>GSM872385</th>\n",
       "      <th>GSM872386</th>\n",
       "      <th>GSM872387</th>\n",
       "      <th>GSM872388</th>\n",
       "      <th>GSM872389</th>\n",
       "      <th>GSM872390</th>\n",
       "      <th>GSM872391</th>\n",
       "      <th>GSM872392</th>\n",
       "    </tr>\n",
       "  </thead>\n",
       "  <tbody>\n",
       "    <tr>\n",
       "      <th>A1BG</th>\n",
       "      <td>3.078552</td>\n",
       "      <td>2.987851</td>\n",
       "      <td>2.987851</td>\n",
       "      <td>3.165811</td>\n",
       "      <td>2.728912</td>\n",
       "      <td>3.655134</td>\n",
       "      <td>2.987851</td>\n",
       "      <td>2.987851</td>\n",
       "      <td>3.576304</td>\n",
       "      <td>6.004672</td>\n",
       "      <td>...</td>\n",
       "      <td>4.336052</td>\n",
       "      <td>3.016967</td>\n",
       "      <td>2.987851</td>\n",
       "      <td>3.565415</td>\n",
       "      <td>3.567615</td>\n",
       "      <td>2.987851</td>\n",
       "      <td>2.987851</td>\n",
       "      <td>2.899146</td>\n",
       "      <td>3.058037</td>\n",
       "      <td>2.987851</td>\n",
       "    </tr>\n",
       "    <tr>\n",
       "      <th>A1BG-AS1</th>\n",
       "      <td>5.749913</td>\n",
       "      <td>4.904272</td>\n",
       "      <td>4.388127</td>\n",
       "      <td>4.360712</td>\n",
       "      <td>4.244502</td>\n",
       "      <td>4.356337</td>\n",
       "      <td>4.494508</td>\n",
       "      <td>4.478265</td>\n",
       "      <td>4.595821</td>\n",
       "      <td>5.300090</td>\n",
       "      <td>...</td>\n",
       "      <td>4.310518</td>\n",
       "      <td>4.597341</td>\n",
       "      <td>4.636256</td>\n",
       "      <td>4.597341</td>\n",
       "      <td>4.606501</td>\n",
       "      <td>4.597341</td>\n",
       "      <td>4.597341</td>\n",
       "      <td>4.639346</td>\n",
       "      <td>4.412341</td>\n",
       "      <td>4.742684</td>\n",
       "    </tr>\n",
       "    <tr>\n",
       "      <th>A1CF</th>\n",
       "      <td>2.223272</td>\n",
       "      <td>2.223272</td>\n",
       "      <td>2.223272</td>\n",
       "      <td>2.223272</td>\n",
       "      <td>2.223272</td>\n",
       "      <td>2.223272</td>\n",
       "      <td>2.223272</td>\n",
       "      <td>2.223272</td>\n",
       "      <td>2.223272</td>\n",
       "      <td>2.223272</td>\n",
       "      <td>...</td>\n",
       "      <td>2.223272</td>\n",
       "      <td>2.223272</td>\n",
       "      <td>2.223272</td>\n",
       "      <td>2.223272</td>\n",
       "      <td>2.223272</td>\n",
       "      <td>2.223272</td>\n",
       "      <td>2.223272</td>\n",
       "      <td>2.223272</td>\n",
       "      <td>2.223272</td>\n",
       "      <td>2.223272</td>\n",
       "    </tr>\n",
       "    <tr>\n",
       "      <th>A2M</th>\n",
       "      <td>11.726740</td>\n",
       "      <td>11.031260</td>\n",
       "      <td>11.897860</td>\n",
       "      <td>10.843689</td>\n",
       "      <td>12.949128</td>\n",
       "      <td>12.603719</td>\n",
       "      <td>13.162092</td>\n",
       "      <td>11.998046</td>\n",
       "      <td>12.926885</td>\n",
       "      <td>12.836179</td>\n",
       "      <td>...</td>\n",
       "      <td>12.034147</td>\n",
       "      <td>12.973168</td>\n",
       "      <td>12.724960</td>\n",
       "      <td>10.293074</td>\n",
       "      <td>13.931410</td>\n",
       "      <td>13.758179</td>\n",
       "      <td>12.476536</td>\n",
       "      <td>10.576425</td>\n",
       "      <td>12.909873</td>\n",
       "      <td>12.791583</td>\n",
       "    </tr>\n",
       "    <tr>\n",
       "      <th>A2M-AS1</th>\n",
       "      <td>6.443771</td>\n",
       "      <td>6.102404</td>\n",
       "      <td>6.606300</td>\n",
       "      <td>5.389406</td>\n",
       "      <td>7.313690</td>\n",
       "      <td>7.771913</td>\n",
       "      <td>7.293835</td>\n",
       "      <td>6.468055</td>\n",
       "      <td>7.778143</td>\n",
       "      <td>7.140280</td>\n",
       "      <td>...</td>\n",
       "      <td>8.238855</td>\n",
       "      <td>7.263452</td>\n",
       "      <td>7.986488</td>\n",
       "      <td>4.551769</td>\n",
       "      <td>8.104151</td>\n",
       "      <td>8.618934</td>\n",
       "      <td>6.642779</td>\n",
       "      <td>5.118838</td>\n",
       "      <td>7.025310</td>\n",
       "      <td>8.441181</td>\n",
       "    </tr>\n",
       "  </tbody>\n",
       "</table>\n",
       "<p>5 rows × 65 columns</p>\n",
       "</div>"
      ],
      "text/plain": [
       "          GSM872328  GSM872329  GSM872330  GSM872331  GSM872332  GSM872333  \\\n",
       "A1BG       3.078552   2.987851   2.987851   3.165811   2.728912   3.655134   \n",
       "A1BG-AS1   5.749913   4.904272   4.388127   4.360712   4.244502   4.356337   \n",
       "A1CF       2.223272   2.223272   2.223272   2.223272   2.223272   2.223272   \n",
       "A2M       11.726740  11.031260  11.897860  10.843689  12.949128  12.603719   \n",
       "A2M-AS1    6.443771   6.102404   6.606300   5.389406   7.313690   7.771913   \n",
       "\n",
       "          GSM872334  GSM872335  GSM872336  GSM872337  ...  GSM872383  \\\n",
       "A1BG       2.987851   2.987851   3.576304   6.004672  ...   4.336052   \n",
       "A1BG-AS1   4.494508   4.478265   4.595821   5.300090  ...   4.310518   \n",
       "A1CF       2.223272   2.223272   2.223272   2.223272  ...   2.223272   \n",
       "A2M       13.162092  11.998046  12.926885  12.836179  ...  12.034147   \n",
       "A2M-AS1    7.293835   6.468055   7.778143   7.140280  ...   8.238855   \n",
       "\n",
       "          GSM872384  GSM872385  GSM872386  GSM872387  GSM872388  GSM872389  \\\n",
       "A1BG       3.016967   2.987851   3.565415   3.567615   2.987851   2.987851   \n",
       "A1BG-AS1   4.597341   4.636256   4.597341   4.606501   4.597341   4.597341   \n",
       "A1CF       2.223272   2.223272   2.223272   2.223272   2.223272   2.223272   \n",
       "A2M       12.973168  12.724960  10.293074  13.931410  13.758179  12.476536   \n",
       "A2M-AS1    7.263452   7.986488   4.551769   8.104151   8.618934   6.642779   \n",
       "\n",
       "          GSM872390  GSM872391  GSM872392  \n",
       "A1BG       2.899146   3.058037   2.987851  \n",
       "A1BG-AS1   4.639346   4.412341   4.742684  \n",
       "A1CF       2.223272   2.223272   2.223272  \n",
       "A2M       10.576425  12.909873  12.791583  \n",
       "A2M-AS1    5.118838   7.025310   8.441181  \n",
       "\n",
       "[5 rows x 65 columns]"
      ]
     },
     "execution_count": 56,
     "metadata": {},
     "output_type": "execute_result"
    }
   ],
   "source": [
    "#Printing the dataframe to know how it looks in table form \n",
    "annotated_expression.head()"
   ]
  },
  {
   "cell_type": "markdown",
   "metadata": {},
   "source": [
    "# TME classification"
   ]
  },
  {
   "cell_type": "markdown",
   "metadata": {},
   "source": [
    "The classification section determines each sample subtype against the TCGA cohort. The TCGA cohort was split into clusters using KNeighborsClusterClassifier. The resulting clusters are stored as a MODEL variable, with each cluster belonging to a different subtype. Then the samples expressions.tsv and signatures.gmt files are read and passed to the ssgsea_formula function to determine each signature (columns) score for every sample (rows)."
   ]
  },
  {
   "cell_type": "markdown",
   "metadata": {},
   "source": [
    "## Load Reference Cohort with known MFP labels and gene expression values\n"
   ]
  },
  {
   "cell_type": "code",
   "execution_count": 6,
   "metadata": {},
   "outputs": [
    {
     "name": "stdout",
     "output_type": "stream",
     "text": [
      "Reference signatures provided for 8024 samples\n",
      "Reference annotation provided for 8024 samples\n",
      "Loaded 29 signatures\n",
      "Classifying cohort, N=22836 samples\n"
     ]
    }
   ],
   "source": [
    "# Load the TCGA cohort\n",
    "\n",
    "TCGA_signature_scores_scaled = pd.read_csv(TCGA_SIGNATURES, sep='\\t', index_col=0).T  # Signatures in rows\n",
    "print(f'Reference signatures provided for {len(TCGA_signature_scores_scaled)} samples')\n",
    "\n",
    "TCGA_annotation = pd.read_csv(TCGA_COHORTS_ANNOTATION, sep='\\t', index_col=0)  # Contains MFP cluster labels in MFP column\n",
    "print(f'Reference annotation provided for {len(TCGA_signature_scores_scaled)} samples')\n",
    "\n",
    "\n",
    "# Fit the model\n",
    "MODEL = KNeighborsClusterClassifier(norm=False, scale=False, clip=2, k=35).fit(TCGA_signature_scores_scaled,\n",
    "                                                                               TCGA_annotation.MFP)\n",
    "\n",
    "# Read signatures\n",
    "gene_signatures = read_gene_sets(GENE_SIGNATURES)  # GMT format like in MSIGdb\n",
    "print(f'Loaded {len(gene_signatures)} signatures')\n",
    "\n",
    "# Read expressions\n",
    "gene_expressions = pd.read_csv(EXPRESSION_MATRIX, sep='\\t', index_col=0)  # log2+1 transformed; Genes should appear to be in rows\n",
    "\n",
    "print(f'Classifying cohort, N={len(gene_expressions)} samples')\n",
    "\n",
    "if gene_expressions.max().max() > 35:\n",
    "    print('Performing log2+1 transformation')\n",
    "    gene_expressions = np.log2(1+gene_expressions)\n",
    "    "
   ]
  },
  {
   "cell_type": "markdown",
   "metadata": {},
   "source": [
    "The codeblock below establishes to which subtype each sample belongs and then prints out the number of samples that have the given subtype. The classified_sample.tsv file is given as an output. It lists the subtypes of all analyzed samples.\n"
   ]
  },
  {
   "cell_type": "markdown",
   "metadata": {},
   "source": [
    "## Classify the input cohort and give the output .tsv file with the TME subtype for each sample"
   ]
  },
  {
   "cell_type": "code",
   "execution_count": 7,
   "metadata": {},
   "outputs": [],
   "source": [
    "# Calc signature scores\n",
    "signature_scores = ssgsea_formula(gene_expressions, gene_signatures)\n",
    "\n",
    "# Scale signatures\n",
    "signature_scores_scaled = median_scale(signature_scores)"
   ]
  },
  {
   "cell_type": "code",
   "execution_count": 61,
   "metadata": {},
   "outputs": [
    {
     "name": "stdout",
     "output_type": "stream",
     "text": [
      "Predicted labels count:\n",
      "D       31\n",
      "IE      18\n",
      "IE/F     8\n",
      "F        8\n",
      "Name: TME, dtype: int64\n"
     ]
    }
   ],
   "source": [
    "# Predict clusters\n",
    "classified_samples = MODEL.predict(signature_scores_scaled[MODEL.X.columns]).rename('TME')\n",
    "\n",
    "#Output the predicted clusters\n",
    "print('Predicted labels count:')\n",
    "print(classified_samples.value_counts())\n",
    "\n",
    "# Output the classified samples table\n",
    "classified_samples.to_csv(CLASSIFIED_SAMPLES, sep='\\t', index=True)"
   ]
  },
  {
   "cell_type": "markdown",
   "metadata": {},
   "source": [
    "### Visalize classified data"
   ]
  },
  {
   "cell_type": "markdown",
   "metadata": {},
   "source": [
    "The code provided below generates several plots to make the data visualisation easier and to help you understand the differences betweeen signatures."
   ]
  },
  {
   "cell_type": "code",
   "execution_count": 61,
   "metadata": {
    "tags": []
   },
   "outputs": [],
   "source": [
    "classified_samples = pd.read_csv(CLASSIFIED_SAMPLES, sep='\\t', index_col=0)"
   ]
  },
  {
   "cell_type": "code",
   "execution_count": 43,
   "metadata": {
    "tags": []
   },
   "outputs": [
    {
     "data": {
      "text/plain": [
       "<matplotlib.legend.Legend at 0x7f79af7f8280>"
      ]
     },
     "execution_count": 43,
     "metadata": {},
     "output_type": "execute_result"
    },
    {
     "data": {
      "image/png": "[encoded data removed]",
      "text/plain": [
       "<Figure size 768x576 with 1 Axes>"
      ]
     },
     "metadata": {},
     "output_type": "display_data"
    }
   ],
   "source": [
    "# generating distribution plots for already scaled signature values\n",
    "\n",
    "fig, ax = plt.subplots(1, 1)\n",
    "for i in signature_scores_scaled.columns[:5]:\n",
    "    sns.distplot(signature_scores_scaled[i], label=i, ax=ax, kde=True)\n",
    "ax.legend()"
   ]
  },
  {
   "cell_type": "code",
   "execution_count": 44,
   "metadata": {
    "tags": []
   },
   "outputs": [
    {
     "data": {
      "text/plain": [
       "<AxesSubplot:xlabel='TME'>"
      ]
     },
     "execution_count": 44,
     "metadata": {},
     "output_type": "execute_result"
    },
    {
     "data": {
      "image/png": "[encoded data removed]",
      "text/plain": [
       "<Figure size 480x480 with 1 Axes>"
      ]
     },
     "metadata": {},
     "output_type": "display_data"
    }
   ],
   "source": [
    "# classified_samples = pd.Series(classified_samples)\n",
    "vector_pie_plot(classified_samples.squeeze())"
   ]
  },
  {
   "cell_type": "code",
   "execution_count": 53,
   "metadata": {
    "tags": []
   },
   "outputs": [
    {
     "data": {
      "text/html": [
       "<div>\n",
       "<style scoped>\n",
       "    .dataframe tbody tr th:only-of-type {\n",
       "        vertical-align: middle;\n",
       "    }\n",
       "\n",
       "    .dataframe tbody tr th {\n",
       "        vertical-align: top;\n",
       "    }\n",
       "\n",
       "    .dataframe thead th {\n",
       "        text-align: right;\n",
       "    }\n",
       "</style>\n",
       "<table border=\"1\" class=\"dataframe\">\n",
       "  <thead>\n",
       "    <tr style=\"text-align: right;\">\n",
       "      <th></th>\n",
       "      <th>TME</th>\n",
       "    </tr>\n",
       "  </thead>\n",
       "  <tbody>\n",
       "    <tr>\n",
       "      <th>GSM872328</th>\n",
       "      <td>D</td>\n",
       "    </tr>\n",
       "    <tr>\n",
       "      <th>GSM872329</th>\n",
       "      <td>D</td>\n",
       "    </tr>\n",
       "    <tr>\n",
       "      <th>GSM872330</th>\n",
       "      <td>D</td>\n",
       "    </tr>\n",
       "    <tr>\n",
       "      <th>GSM872331</th>\n",
       "      <td>D</td>\n",
       "    </tr>\n",
       "    <tr>\n",
       "      <th>GSM872332</th>\n",
       "      <td>IE/F</td>\n",
       "    </tr>\n",
       "    <tr>\n",
       "      <th>...</th>\n",
       "      <td>...</td>\n",
       "    </tr>\n",
       "    <tr>\n",
       "      <th>GSM872388</th>\n",
       "      <td>D</td>\n",
       "    </tr>\n",
       "    <tr>\n",
       "      <th>GSM872389</th>\n",
       "      <td>D</td>\n",
       "    </tr>\n",
       "    <tr>\n",
       "      <th>GSM872390</th>\n",
       "      <td>D</td>\n",
       "    </tr>\n",
       "    <tr>\n",
       "      <th>GSM872391</th>\n",
       "      <td>F</td>\n",
       "    </tr>\n",
       "    <tr>\n",
       "      <th>GSM872392</th>\n",
       "      <td>D</td>\n",
       "    </tr>\n",
       "  </tbody>\n",
       "</table>\n",
       "<p>65 rows × 1 columns</p>\n",
       "</div>"
      ],
      "text/plain": [
       "            TME\n",
       "GSM872328     D\n",
       "GSM872329     D\n",
       "GSM872330     D\n",
       "GSM872331     D\n",
       "GSM872332  IE/F\n",
       "...         ...\n",
       "GSM872388     D\n",
       "GSM872389     D\n",
       "GSM872390     D\n",
       "GSM872391     F\n",
       "GSM872392     D\n",
       "\n",
       "[65 rows x 1 columns]"
      ]
     },
     "execution_count": 53,
     "metadata": {},
     "output_type": "execute_result"
    }
   ],
   "source": [
    "classified_samples"
   ]
  },
  {
   "cell_type": "code",
   "execution_count": 70,
   "metadata": {
    "tags": []
   },
   "outputs": [
    {
     "data": {
      "image/png": "[encoded data removed]",
      "text/plain": [
       "<Figure size 1800x1008 with 2 Axes>"
      ]
     },
     "metadata": {},
     "output_type": "display_data"
    }
   ],
   "source": [
    "af = axis_matras([.4, 8], x_len=15)\n",
    "ax=next(af)\n",
    "\n",
    "tme_pallete = {\"IE\": '#00ffff', \"IE/F\": '#733adf', \"F\": '#df3a3a', \"D\": '#ffd22e'}\n",
    "\n",
    "order = [\"IE\",\"IE/F\",\"F\", \"D\"]\n",
    "\n",
    "ordered_classified_samples = pd.read_csv(CLASSIFIED_SAMPLES, sep='\\t')\n",
    "\n",
    "ordered_classified_samples['TME'] = pd.Categorical(ordered_classified_samples['TME'], categories=order, ordered=True)\n",
    "\n",
    "ordered_classified_samples = ordered_classified_samples.sort_values('TME')\n",
    "\n",
    "classified_samples = pd.Series(classified_samples.squeeze())\n",
    "\n",
    "line_palette_annotation_plot(classified_samples[ordered_classified_samples.iloc[:,0]], ax=ax, palette=tme_pallete)\n",
    "\n",
    "ax = next(af)\n",
    "sns.heatmap(signature_scores_scaled.loc[r, gene_signatures].clip(-2, 2).T,\n",
    "            yticklabels=True, xticklabels=False, cbar=False, cmap=plt.cm.coolwarm)\n",
    "plt.tight_layout(pad=.1)\n"
   ]
  },
  {
   "cell_type": "markdown",
   "metadata": {},
   "source": [
    "# de novo clusterization"
   ]
  },
  {
   "cell_type": "raw",
   "metadata": {},
   "source": [
    "This section helps to create your own reference cohort"
   ]
  },
  {
   "cell_type": "markdown",
   "metadata": {},
   "source": [
    "## Calculate signature scores of reference gene expression values"
   ]
  },
  {
   "cell_type": "code",
   "execution_count": 38,
   "metadata": {},
   "outputs": [
    {
     "ename": "NameError",
     "evalue": "name 'EXPRESSIONS_MATRIX' is not defined",
     "output_type": "error",
     "traceback": [
      "\u001b[0;31m---------------------------------------------------------------------------\u001b[0m",
      "\u001b[0;31mNameError\u001b[0m                                 Traceback (most recent call last)",
      "Cell \u001b[0;32mIn [38], line 8\u001b[0m\n\u001b[1;32m      4\u001b[0m gmt \u001b[38;5;241m=\u001b[39m read_gene_sets(GENE_SIGNATURES)  \u001b[38;5;66;03m# GMT format like in MSIGdb\u001b[39;00m\n\u001b[1;32m      7\u001b[0m \u001b[38;5;66;03m# Read expressions\u001b[39;00m\n\u001b[0;32m----> 8\u001b[0m exp \u001b[38;5;241m=\u001b[39m pd\u001b[38;5;241m.\u001b[39mread_csv(\u001b[43mEXPRESSIONS_MATRIX\u001b[49m, sep\u001b[38;5;241m=\u001b[39m\u001b[38;5;124m'\u001b[39m\u001b[38;5;130;01m\\t\u001b[39;00m\u001b[38;5;124m'\u001b[39m, index_col \u001b[38;5;241m=\u001b[39m \u001b[38;5;241m0\u001b[39m)  \u001b[38;5;66;03m# log2+1 transformed; Genes in columns\u001b[39;00m\n\u001b[1;32m     10\u001b[0m \u001b[38;5;66;03m# Calc signature scores\u001b[39;00m\n\u001b[1;32m     11\u001b[0m signature_scores \u001b[38;5;241m=\u001b[39m ssgsea_formula(exp, gmt)\n",
      "\u001b[0;31mNameError\u001b[0m: name 'EXPRESSIONS_MATRIX' is not defined"
     ]
    }
   ],
   "source": [
    "# Example script\n",
    "\n",
    "# Read signatures\n",
    "gmt = read_gene_sets(GENE_SIGNATURES)  # GMT format like in MSIGdb\n",
    "\n",
    "\n",
    "# Read expressions\n",
    "exp = pd.read_csv(EXPRESSIONS_MATRIX, sep='\\t', index_col = 0)  # log2+1 transformed; Genes in columns\n",
    "\n",
    "# Calc signature scores\n",
    "signature_scores = ssgsea_formula(exp, gmt)\n",
    "\n",
    "# Scale signatures\n",
    "signature_scores_scaled = median_scale(signature_scores)\n",
    "\n",
    "signature_scores_scaled.head()\n",
    "\n"
   ]
  },
  {
   "cell_type": "markdown",
   "metadata": {},
   "source": [
    "## Visualize clusters according to the selected threshold and statistical scores of correlation between data values\n"
   ]
  },
  {
   "cell_type": "markdown",
   "metadata": {},
   "source": [
    "The clusterization is done using the clustering_profile_metrics function from the clustering.py library. The calculations are done using Davies Bouldin, Calinski Harabasz, Silouhette scores to get the correlation between clusters and each ssGSEA score data point.\n",
    "\n",
    "For more information on the mentioned calculations and correlation scores, follow [this link](https://medium.com/@haataa/how-to-measure-clustering-performances-when-there-are-no-ground-truth-db027e9a871c)"
   ]
  },
  {
   "cell_type": "code",
   "execution_count": null,
   "metadata": {},
   "outputs": [],
   "source": [
    "# Check the clustering within a range of 30 to 65% similarity.\n",
    "# >65% - usually graph is not connected; <30% - unreasonable correlation\n",
    "clustering_metrics = clustering_profile_metrics(signature_scores_scaled, threshold_mm=(.3, .65), step=.01)\n",
    "\n",
    "# Visualize the partitions\n",
    "clustering_profile_metrics_plot(clustering_metrics)"
   ]
  },
  {
   "cell_type": "markdown",
   "metadata": {},
   "source": [
    "The plot above shows the count of clusters and their size for each threshold."
   ]
  },
  {
   "cell_type": "markdown",
   "metadata": {},
   "source": [
    "## Classify each cluster/sample into a TME subtype "
   ]
  },
  {
   "cell_type": "code",
   "execution_count": null,
   "metadata": {
    "tags": []
   },
   "outputs": [],
   "source": [
    " def detect_type(clustering_metrics: pd.DataFrame,scores: pd.DataFrame) -> pd.Series:\n",
    "\n",
    "        clusters_number = clustering_metrics.loc['N'] \n",
    "        \n",
    "        # samples_clustering is a pd.Series with patients as indexes and their clusters as values\n",
    "        samples_clustering = clustering_metrics.loc['perc']\n",
    "        cluster_means = pd.DataFrame({cluster: scores.loc[samples_clustering[samples_clustering == cluster].index].mean()\n",
    "                                      for cluster in range(1, clusters_number + 1)})\n",
    "\n",
    "        deltas = (cluster_means.loc[['Angiogenesis', 'Endothelium', 'CAF', 'Matrix', 'Matrix_remodeling']].mean() -\n",
    "                  cluster_means.loc[['MHCII', 'Antitumor_cytokines', 'Coactivation_molecules',\n",
    "                              'B_cells', 'NK_cells', 'Checkpoint_inhibition',\n",
    "                              'Effector_cells', 'T_cells', 'Th1_signature',\n",
    "                              'T_cell_traffic', 'MHCI']].mean()).sort_values()\n",
    "\n",
    "        mapper = {}\n",
    "        mapper[deltas.index[-1]] = 'F'  # The cluster with the highest fibrose value is classified as Fibrotic\n",
    "        mapper[deltas.index[0]] = 'IE'  # Thecluster with the highest level of immune cells is classified as \n",
    "                                        # Immune enriched, non-fibrotic\n",
    "\n",
    "        # Remove detected clusters\n",
    "        cluster_means.pop(deltas.index[-1])\n",
    "        cluster_means.pop(deltas.index[0])\n",
    "\n",
    "        deltas = (cluster_means.loc[['Angiogenesis', 'Endothelium', 'CAF', 'Matrix', 'Matrix_remodeling',\n",
    "                              'Protumor_cytokines', 'Neutrophil_signature', 'Granulocyte_traffic',\n",
    "                              'Macrophages', 'Macrophage_DC_traffic', 'MDSC_traffic', 'MDSC',\n",
    "                              'Th2_signature', 'T_reg_traffic', 'Treg', 'M1_signatures', 'MHCII',\n",
    "                              'Antitumor_cytokines', 'Coactivation_molecules', 'B_cells', 'NK_cells',\n",
    "                              'Checkpoint_inhibition', 'Effector_cells', 'T_cells', 'Th1_signature',\n",
    "                              'T_cell_traffic', 'MHCI', 'EMT_signature']].mean() -\n",
    "                  cluster_means.loc['Proliferation_rate']).sort_values()\n",
    "\n",
    "        mapper[deltas.index[0]] = 'D'  # The cluster with the highest proliferation value \n",
    "                                       # is classified as (Immune) Desert\n",
    "\n",
    "        mapper[deltas.index[-1]] = 'IE/F'  # Every sample not falling into the above-mentioned \n",
    "                                           # categories is classified as Immune enriched - fibrotic\n",
    "\n",
    "        return samples_clustering.map(mapper).rename('MFP')\n",
    "\n",
    "# Select the best threshold using one or more metrics\n",
    " best_threshold = '0.31'\n",
    "\n",
    "# Detect cluster types\n",
    " samples_subtyping_by_tme = detect_type(clustering_metrics.loc[best_threshold], signature_scores_scaled)\n",
    "\n",
    "# Output the data into console\n",
    " print(samples_subtyping_by_tme)\n",
    "    \n",
    "# Output the clusters\n",
    " samples_subtyping_by_tme.to_csv(SUBTYPE_FINAL_CLUSTERS, sep='\\t', index=True)"
   ]
  },
  {
   "cell_type": "code",
   "execution_count": null,
   "metadata": {},
   "outputs": [],
   "source": []
  }
 ],
 "metadata": {
  "kernelspec": {
   "display_name": "QA3.9-common",
   "language": "python",
   "name": "qa3.9-common"
  },
  "language_info": {
   "codemirror_mode": {
    "name": "ipython",
    "version": 3
   },
   "file_extension": ".py",
   "mimetype": "text/x-python",
   "name": "python",
   "nbconvert_exporter": "python",
   "pygments_lexer": "ipython3",
   "version": "3.9.13"
  },
  "toc": {
   "base_numbering": 1,
   "nav_menu": {},
   "number_sections": true,
   "sideBar": true,
   "skip_h1_title": false,
   "title_cell": "Table of Contents",
   "title_sidebar": "Contents",
   "toc_cell": false,
   "toc_position": {
    "height": "calc(100% - 180px)",
    "left": "10px",
    "top": "150px",
    "width": "384px"
   },
   "toc_section_display": true,
   "toc_window_display": true
  },
  "toc-showtags": true
 },
 "nbformat": 4,
 "nbformat_minor": 4
}
