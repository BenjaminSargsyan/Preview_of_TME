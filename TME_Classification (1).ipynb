{
 "cells": [
  {
   "cell_type": "markdown",
   "metadata": {},
   "source": [
    "The current notebook contains a comprehensive analysis pipeline that begins with the retrieval of gene expression data in CEL file format from GEO, which is then processed and transformed into a tabular format with sample IDs in rows and gene IDs in columns. If obtaining the data from GEO is not necessary or if the gene expression matrix is already available, this step may be skipped.\n",
    "\n",
    "Following data preparation, the Quality Check (QC) section is essential for ensuring the integrity and reliability of the data. This step involves checking for batch effects, outliers, and assessing the distribution of gene expression data to determine the quality of the dataset.\n",
    "\n",
    "Next, the Tumor Microenvironment (TME) classification section is performed using the processed gene expression data from TCGA. This step allows for the classification of samples based on their respective TME subtypes.\n",
    "\n",
    "Finally, the Clustering section is an optional step recommended for experienced users only. This section involves the creation of a reference signatures cohort based on a reference gene expression cohort provided by the user. The resulting cohort can then be used in place of the default TCGA cohort in the TME classification section. However, it is advised to use the default cohort to ensure accurate and unbiased results during classification."
   ]
  },
  {
   "cell_type": "markdown",
   "metadata": {},
   "source": [
    "# Import of python base packages"
   ]
  },
  {
   "cell_type": "markdown",
   "metadata": {},
   "source": [
    "If you have oppened current file in view only mode but want to use the code please go back to our repositories Setup section and follow the instructions (link provided below).\n",
    "https://github.com/BostonGene/MFP"
   ]
  },
  {
   "cell_type": "code",
   "execution_count": 1,
   "metadata": {
    "ExecuteTime": {
     "end_time": "2018-08-02T13:25:16.958768Z",
     "start_time": "2018-08-02T13:25:14.882714Z"
    }
   },
   "outputs": [],
   "source": [
    "%load_ext autoreload\n",
    "%matplotlib inline\n",
    "%config IPCompleter.use_jedi = False\n",
    "\n",
    "import os\n",
    "import pandas as pd\n",
    "import numpy as np\n",
    "import seaborn as sns\n",
    "import pathlib\n",
    "import subprocess\n",
    "import logging\n",
    "import csv\n",
    "import matplotlib.pyplot as plt\n",
    "import umap\n",
    "import matplotlib.pyplot as plt\n",
    "from IPython.display import SVG\n",
    "from tqdm import tqdm_notebook\n",
    "\n",
    "%config InlineBackend.figure_format = 'png'\n",
    "plt.rcParams['pdf.fonttype'] = 'truetype'\n",
    "plt.rcParams['svg.fonttype'] = 'none'\n",
    "plt.rcParams['figure.dpi'] = 120"
   ]
  },
  {
   "cell_type": "code",
   "execution_count": 2,
   "metadata": {
    "tags": []
   },
   "outputs": [],
   "source": [
    "from portraits.plotting import pca_plot, umap_plot, distplot_qc\n",
    "from portraits.mapping import get_gs_for_probes_from_3col,get_expressions_for_gs\n",
    "from portraits.utils import read_gene_sets, ssgsea_formula, median_scale\n",
    "from portraits.classification import KNeighborsClusterClassifier\n",
    "from portraits.clustering import clustering_profile_metrics, clustering_profile_metrics_plot,clustering_select_best_tr"
   ]
  },
  {
   "cell_type": "code",
   "execution_count": 3,
   "metadata": {},
   "outputs": [],
   "source": [
    "%load_ext rpy2.ipython"
   ]
  },
  {
   "cell_type": "code",
   "execution_count": 4,
   "metadata": {
    "tags": []
   },
   "outputs": [],
   "source": [
    "#Constants\n",
    "\n",
    "EXPRESSIONS_MATRIX = './expressions.tsv'\n",
    "TEST_EXPRESSION_MATRIX = 'Test/expressions.tsv'\n",
    "TCGA_SIGNATURES = 'Cohorts/Pan_TCGA/signatures.tsv'\n",
    "TCGA_COHORTS_ANNOTATION = 'Cohorts/Pan_TCGA/annotation.tsv'\n",
    "CLASSIFIED_SAMPLES = 'classified_samples.tsv'\n",
    "GENE_SIGNATURES = 'signatures/gene_signatures.gmt'\n",
    "SUBTYPE_FINAL_CLUSTERS = 'samples_subtyping_by_tme.tsv'"
   ]
  },
  {
   "cell_type": "markdown",
   "metadata": {},
   "source": [
    "# Example Data preparation"
   ]
  },
  {
   "cell_type": "markdown",
   "metadata": {},
   "source": [
    "Example will be shown on Ulloa-Montoya GSE35640, GPL570 sample"
   ]
  },
  {
   "cell_type": "markdown",
   "metadata": {},
   "source": [
    "## Get the example data from GEO"
   ]
  },
  {
   "cell_type": "code",
   "execution_count": 8,
   "metadata": {},
   "outputs": [],
   "source": [
    "#initialization and creation of the temporary directory for the cel files \n",
    "\n",
    "GSE = 'GSE35640'\n",
    "PLATFORM = 'GPL570'\n",
    "current_dir = pathlib.Path().parent.absolute()\n",
    "dir_to_process = str(current_dir / 'TMPDIR')"
   ]
  },
  {
   "cell_type": "code",
   "execution_count": 9,
   "metadata": {},
   "outputs": [],
   "source": [
    "if not os.path.exists(dir_to_process):\n",
    "     os.mkdir(dir_to_process)"
   ]
  },
  {
   "cell_type": "code",
   "execution_count": 10,
   "metadata": {},
   "outputs": [],
   "source": [
    "with open(os.devnull, \"w\") as f:\n",
    "    subprocess.run([\n",
    "        'wget',\n",
    "        f'ftp://ftp.ncbi.nlm.nih.gov/geo/series/GSE35nnn/{GSE}/suppl/{GSE}_RAW.tar'\n",
    "    ],stdout=f, stderr=subprocess.STDOUT );"
   ]
  },
  {
   "cell_type": "code",
   "execution_count": 11,
   "metadata": {},
   "outputs": [
    {
     "data": {
      "text/plain": [
       "CompletedProcess(args=['rm', 'GSE35640_RAW.tar'], returncode=0)"
      ]
     },
     "execution_count": 11,
     "metadata": {},
     "output_type": "execute_result"
    }
   ],
   "source": [
    "subprocess.run([\n",
    "    'tar',\n",
    "    '-xf',\n",
    "    f'{GSE}_RAW.tar',\n",
    "    '-C', dir_to_process\n",
    "])\n",
    "subprocess.run([\n",
    "    'rm',\n",
    "    f'{GSE}_RAW.tar'\n",
    "])"
   ]
  },
  {
   "cell_type": "code",
   "execution_count": 12,
   "metadata": {},
   "outputs": [
    {
     "data": {
      "text/plain": [
       "['GSM872328_MAGE008_sample_1.CEL.gz',\n",
       " 'GSM872329_MAGE008_sample_2.CEL.gz',\n",
       " 'GSM872330_MAGE008_sample_3.CEL.gz',\n",
       " 'GSM872331_MAGE008_sample_4.CEL.gz',\n",
       " 'GSM872332_MAGE008_sample_5.CEL.gz',\n",
       " 'GSM872333_MAGE008_sample_6.CEL.gz',\n",
       " 'GSM872334_MAGE008_sample_7.CEL.gz',\n",
       " 'GSM872335_MAGE008_sample_8.CEL.gz',\n",
       " 'GSM872336_MAGE008_sample_9.CEL.gz',\n",
       " 'GSM872337_MAGE008_sample_10.CEL.gz',\n",
       " 'GSM872338_MAGE008_sample_11.CEL.gz',\n",
       " 'GSM872339_MAGE008_sample_12.CEL.gz',\n",
       " 'GSM872340_MAGE008_sample_13.CEL.gz',\n",
       " 'GSM872341_MAGE008_sample_14.CEL.gz',\n",
       " 'GSM872342_MAGE008_sample_15.CEL.gz',\n",
       " 'GSM872343_MAGE008_sample_16.CEL.gz',\n",
       " 'GSM872344_MAGE008_sample_17.CEL.gz',\n",
       " 'GSM872345_MAGE008_sample_18.CEL.gz',\n",
       " 'GSM872346_MAGE008_sample_19.CEL.gz',\n",
       " 'GSM872347_MAGE008_sample_20.CEL.gz',\n",
       " 'GSM872348_MAGE008_sample_21.CEL.gz',\n",
       " 'GSM872349_MAGE008_sample_22.CEL.gz',\n",
       " 'GSM872350_MAGE008_sample_23.CEL.gz',\n",
       " 'GSM872351_MAGE008_sample_24.CEL.gz',\n",
       " 'GSM872352_MAGE008_sample_25.CEL.gz',\n",
       " 'GSM872353_MAGE008_sample_26.CEL.gz',\n",
       " 'GSM872354_MAGE008_sample_27.CEL.gz',\n",
       " 'GSM872355_MAGE008_sample_28.CEL.gz',\n",
       " 'GSM872356_MAGE008_sample_29.CEL.gz',\n",
       " 'GSM872357_MAGE008_sample_30.CEL.gz',\n",
       " 'GSM872358_MAGE008_sample_31.CEL.gz',\n",
       " 'GSM872359_MAGE008_sample_32.CEL.gz',\n",
       " 'GSM872360_MAGE008_sample_33.CEL.gz',\n",
       " 'GSM872361_MAGE008_sample_34.CEL.gz',\n",
       " 'GSM872362_MAGE008_sample_35.CEL.gz',\n",
       " 'GSM872363_MAGE008_sample_36.CEL.gz',\n",
       " 'GSM872364_MAGE008_sample_37.CEL.gz',\n",
       " 'GSM872365_MAGE008_sample_38.CEL.gz',\n",
       " 'GSM872366_MAGE008_sample_39.CEL.gz',\n",
       " 'GSM872367_MAGE008_sample_40.CEL.gz',\n",
       " 'GSM872368_MAGE008_sample_41.CEL.gz',\n",
       " 'GSM872369_MAGE008_sample_42.CEL.gz',\n",
       " 'GSM872370_MAGE008_sample_43.CEL.gz',\n",
       " 'GSM872371_MAGE008_sample_44.CEL.gz',\n",
       " 'GSM872372_MAGE008_sample_45.CEL.gz',\n",
       " 'GSM872373_MAGE008_sample_46.CEL.gz',\n",
       " 'GSM872374_MAGE008_sample_47.CEL.gz',\n",
       " 'GSM872375_MAGE008_sample_48.CEL.gz',\n",
       " 'GSM872376_MAGE008_sample_49.CEL.gz',\n",
       " 'GSM872377_MAGE008_sample_50.CEL.gz',\n",
       " 'GSM872378_MAGE008_sample_51.CEL.gz',\n",
       " 'GSM872379_MAGE008_sample_52.CEL.gz',\n",
       " 'GSM872380_MAGE008_sample_53.CEL.gz',\n",
       " 'GSM872381_MAGE008_sample_54.CEL.gz',\n",
       " 'GSM872382_MAGE008_sample_55.CEL.gz',\n",
       " 'GSM872383_MAGE008_sample_56.CEL.gz',\n",
       " 'GSM872384_MAGE008_sample_57.CEL.gz',\n",
       " 'GSM872385_MAGE008_sample_58.CEL.gz',\n",
       " 'GSM872386_MAGE008_sample_59.CEL.gz',\n",
       " 'GSM872387_MAGE008_sample_60.CEL.gz',\n",
       " 'GSM872388_MAGE008_sample_61.CEL.gz',\n",
       " 'GSM872389_MAGE008_sample_62.CEL.gz',\n",
       " 'GSM872390_MAGE008_sample_63.CEL.gz',\n",
       " 'GSM872391_MAGE008_sample_64.CEL.gz',\n",
       " 'GSM872392_MAGE008_sample_65.CEL.gz']"
      ]
     },
     "execution_count": 12,
     "metadata": {},
     "output_type": "execute_result"
    }
   ],
   "source": [
    "os.listdir(dir_to_process)"
   ]
  },
  {
   "cell_type": "markdown",
   "metadata": {},
   "source": [
    "## Extracting expression values from CEL file"
   ]
  },
  {
   "cell_type": "markdown",
   "metadata": {},
   "source": [
    "In case of affy arrays without special probes we have to use justRMA<br>\n",
    "For GPL570/GPL96 we can use gcrma"
   ]
  },
  {
   "cell_type": "code",
   "execution_count": 13,
   "metadata": {
    "ExecuteTime": {
     "end_time": "2018-08-02T13:25:21.735530Z",
     "start_time": "2018-08-02T13:25:16.965609Z"
    },
    "scrolled": true
   },
   "outputs": [
    {
     "name": "stderr",
     "output_type": "stream",
     "text": [
      "R[write to console]: Loading required package: BiocGenerics\n",
      "\n",
      "R[write to console]: \n",
      "Attaching package: ‘BiocGenerics’\n",
      "\n",
      "\n",
      "R[write to console]: The following objects are masked from ‘package:stats’:\n",
      "\n",
      "    IQR, mad, sd, var, xtabs\n",
      "\n",
      "\n",
      "R[write to console]: The following objects are masked from ‘package:base’:\n",
      "\n",
      "    anyDuplicated, aperm, append, as.data.frame, basename, cbind,\n",
      "    colnames, dirname, do.call, duplicated, eval, evalq, Filter, Find,\n",
      "    get, grep, grepl, intersect, is.unsorted, lapply, Map, mapply,\n",
      "    match, mget, order, paste, pmax, pmax.int, pmin, pmin.int,\n",
      "    Position, rank, rbind, Reduce, rownames, sapply, setdiff, sort,\n",
      "    table, tapply, union, unique, unsplit, which.max, which.min\n",
      "\n",
      "\n",
      "R[write to console]: Loading required package: Biobase\n",
      "\n",
      "R[write to console]: Welcome to Bioconductor\n",
      "\n",
      "    Vignettes contain introductory material; view with\n",
      "    'browseVignettes()'. To cite Bioconductor, see\n",
      "    'citation(\"Biobase\")', and for packages 'citation(\"pkgname\")'.\n",
      "\n",
      "\n",
      "R[write to console]: Loading required package: AnnotationDbi\n",
      "\n",
      "R[write to console]: Loading required package: stats4\n",
      "\n",
      "R[write to console]: Loading required package: IRanges\n",
      "\n",
      "R[write to console]: Loading required package: S4Vectors\n",
      "\n",
      "R[write to console]: \n",
      "Attaching package: ‘S4Vectors’\n",
      "\n",
      "\n",
      "R[write to console]: The following objects are masked from ‘package:base’:\n",
      "\n",
      "    expand.grid, I, unname\n",
      "\n",
      "\n",
      "R[write to console]: Loading required package: XML\n",
      "\n",
      "R[write to console]: \n",
      "Attaching package: ‘XML’\n",
      "\n",
      "\n",
      "R[write to console]: The following object is masked from ‘package:tools’:\n",
      "\n",
      "    toHTML\n",
      "\n",
      "\n"
     ]
    }
   ],
   "source": [
    "%%R\n",
    "\n",
    "# Loading required R packages\n",
    "library(affy)\n",
    "library(annotate)\n",
    "library(gcrma)"
   ]
  },
  {
   "cell_type": "code",
   "execution_count": 14,
   "metadata": {
    "ExecuteTime": {
     "end_time": "2018-08-02T14:25:38.950721Z",
     "start_time": "2018-08-02T14:19:31.888815Z"
    },
    "scrolled": true
   },
   "outputs": [
    {
     "name": "stderr",
     "output_type": "stream",
     "text": [
      "R[write to console]: \n",
      "\n"
     ]
    },
    {
     "name": "stdout",
     "output_type": "stream",
     "text": [
      "Adjusting for optical effect.................................................................Done.\n",
      "Computing affinities.Done.\n",
      "Adjusting for non-specific binding.................................................................Done.\n",
      "Normalizing\n",
      "Calculating Expression\n"
     ]
    }
   ],
   "source": [
    "%%R -i dir_to_process -o normalized_expression\n",
    "\n",
    "# Bulk read cell files\n",
    "raw_expression <- ReadAffy(celfile.path = dir_to_process)\n",
    "\n",
    "# Normalize expression using RMA\n",
    "rma_normalized <- gcrma(raw_expression)\n",
    "\n",
    "# Retrieving expressions from dataset\n",
    "normalized_expression <- as.data.frame(exprs(rma_normalized))"
   ]
  },
  {
   "cell_type": "code",
   "execution_count": 15,
   "metadata": {
    "scrolled": true
   },
   "outputs": [
    {
     "data": {
      "text/html": [
       "<div>\n",
       "<style scoped>\n",
       "    .dataframe tbody tr th:only-of-type {\n",
       "        vertical-align: middle;\n",
       "    }\n",
       "\n",
       "    .dataframe tbody tr th {\n",
       "        vertical-align: top;\n",
       "    }\n",
       "\n",
       "    .dataframe thead th {\n",
       "        text-align: right;\n",
       "    }\n",
       "</style>\n",
       "<table border=\"1\" class=\"dataframe\">\n",
       "  <thead>\n",
       "    <tr style=\"text-align: right;\">\n",
       "      <th></th>\n",
       "      <th>GSM872328_MAGE008_sample_1.CEL.gz</th>\n",
       "      <th>GSM872329_MAGE008_sample_2.CEL.gz</th>\n",
       "      <th>GSM872330_MAGE008_sample_3.CEL.gz</th>\n",
       "      <th>GSM872331_MAGE008_sample_4.CEL.gz</th>\n",
       "      <th>GSM872332_MAGE008_sample_5.CEL.gz</th>\n",
       "      <th>GSM872333_MAGE008_sample_6.CEL.gz</th>\n",
       "      <th>GSM872334_MAGE008_sample_7.CEL.gz</th>\n",
       "      <th>GSM872335_MAGE008_sample_8.CEL.gz</th>\n",
       "      <th>GSM872336_MAGE008_sample_9.CEL.gz</th>\n",
       "      <th>GSM872337_MAGE008_sample_10.CEL.gz</th>\n",
       "      <th>...</th>\n",
       "      <th>GSM872383_MAGE008_sample_56.CEL.gz</th>\n",
       "      <th>GSM872384_MAGE008_sample_57.CEL.gz</th>\n",
       "      <th>GSM872385_MAGE008_sample_58.CEL.gz</th>\n",
       "      <th>GSM872386_MAGE008_sample_59.CEL.gz</th>\n",
       "      <th>GSM872387_MAGE008_sample_60.CEL.gz</th>\n",
       "      <th>GSM872388_MAGE008_sample_61.CEL.gz</th>\n",
       "      <th>GSM872389_MAGE008_sample_62.CEL.gz</th>\n",
       "      <th>GSM872390_MAGE008_sample_63.CEL.gz</th>\n",
       "      <th>GSM872391_MAGE008_sample_64.CEL.gz</th>\n",
       "      <th>GSM872392_MAGE008_sample_65.CEL.gz</th>\n",
       "    </tr>\n",
       "  </thead>\n",
       "  <tbody>\n",
       "    <tr>\n",
       "      <th>1007_s_at</th>\n",
       "      <td>9.816090</td>\n",
       "      <td>6.474644</td>\n",
       "      <td>9.113994</td>\n",
       "      <td>7.044742</td>\n",
       "      <td>8.719946</td>\n",
       "      <td>4.852191</td>\n",
       "      <td>7.190953</td>\n",
       "      <td>8.636192</td>\n",
       "      <td>5.623183</td>\n",
       "      <td>7.433451</td>\n",
       "      <td>...</td>\n",
       "      <td>6.287400</td>\n",
       "      <td>7.017124</td>\n",
       "      <td>7.533525</td>\n",
       "      <td>7.042195</td>\n",
       "      <td>8.809050</td>\n",
       "      <td>8.198514</td>\n",
       "      <td>8.457781</td>\n",
       "      <td>7.530108</td>\n",
       "      <td>4.724734</td>\n",
       "      <td>9.222943</td>\n",
       "    </tr>\n",
       "    <tr>\n",
       "      <th>1053_at</th>\n",
       "      <td>5.664499</td>\n",
       "      <td>6.540040</td>\n",
       "      <td>5.569006</td>\n",
       "      <td>5.745150</td>\n",
       "      <td>4.690936</td>\n",
       "      <td>5.923728</td>\n",
       "      <td>5.700713</td>\n",
       "      <td>5.120923</td>\n",
       "      <td>5.394368</td>\n",
       "      <td>6.704893</td>\n",
       "      <td>...</td>\n",
       "      <td>5.992869</td>\n",
       "      <td>6.754348</td>\n",
       "      <td>5.943736</td>\n",
       "      <td>6.333925</td>\n",
       "      <td>6.063615</td>\n",
       "      <td>6.360003</td>\n",
       "      <td>6.073347</td>\n",
       "      <td>7.141974</td>\n",
       "      <td>7.191548</td>\n",
       "      <td>5.611221</td>\n",
       "    </tr>\n",
       "    <tr>\n",
       "      <th>117_at</th>\n",
       "      <td>8.394219</td>\n",
       "      <td>6.083483</td>\n",
       "      <td>6.587381</td>\n",
       "      <td>6.092671</td>\n",
       "      <td>3.411626</td>\n",
       "      <td>3.791668</td>\n",
       "      <td>5.667734</td>\n",
       "      <td>4.965991</td>\n",
       "      <td>4.475886</td>\n",
       "      <td>4.443469</td>\n",
       "      <td>...</td>\n",
       "      <td>3.296701</td>\n",
       "      <td>5.638913</td>\n",
       "      <td>3.205921</td>\n",
       "      <td>3.471334</td>\n",
       "      <td>3.682211</td>\n",
       "      <td>8.971476</td>\n",
       "      <td>4.343425</td>\n",
       "      <td>5.738228</td>\n",
       "      <td>4.807307</td>\n",
       "      <td>10.331267</td>\n",
       "    </tr>\n",
       "    <tr>\n",
       "      <th>121_at</th>\n",
       "      <td>2.390202</td>\n",
       "      <td>2.345001</td>\n",
       "      <td>2.390202</td>\n",
       "      <td>2.388071</td>\n",
       "      <td>2.390202</td>\n",
       "      <td>2.390202</td>\n",
       "      <td>2.454035</td>\n",
       "      <td>2.390202</td>\n",
       "      <td>3.128954</td>\n",
       "      <td>2.390202</td>\n",
       "      <td>...</td>\n",
       "      <td>2.320004</td>\n",
       "      <td>2.390202</td>\n",
       "      <td>2.411101</td>\n",
       "      <td>2.390202</td>\n",
       "      <td>2.390202</td>\n",
       "      <td>2.390202</td>\n",
       "      <td>2.380696</td>\n",
       "      <td>2.390202</td>\n",
       "      <td>2.882576</td>\n",
       "      <td>2.434246</td>\n",
       "    </tr>\n",
       "    <tr>\n",
       "      <th>1255_g_at</th>\n",
       "      <td>2.223272</td>\n",
       "      <td>2.223272</td>\n",
       "      <td>2.223272</td>\n",
       "      <td>2.223272</td>\n",
       "      <td>2.223272</td>\n",
       "      <td>2.223272</td>\n",
       "      <td>2.223272</td>\n",
       "      <td>2.223272</td>\n",
       "      <td>2.223272</td>\n",
       "      <td>2.223272</td>\n",
       "      <td>...</td>\n",
       "      <td>2.223272</td>\n",
       "      <td>2.223272</td>\n",
       "      <td>2.223272</td>\n",
       "      <td>2.223272</td>\n",
       "      <td>2.223272</td>\n",
       "      <td>2.223272</td>\n",
       "      <td>2.348901</td>\n",
       "      <td>2.223272</td>\n",
       "      <td>2.223272</td>\n",
       "      <td>2.223272</td>\n",
       "    </tr>\n",
       "  </tbody>\n",
       "</table>\n",
       "<p>5 rows × 65 columns</p>\n",
       "</div>"
      ],
      "text/plain": [
       "           GSM872328_MAGE008_sample_1.CEL.gz  \\\n",
       "1007_s_at                           9.816090   \n",
       "1053_at                             5.664499   \n",
       "117_at                              8.394219   \n",
       "121_at                              2.390202   \n",
       "1255_g_at                           2.223272   \n",
       "\n",
       "           GSM872329_MAGE008_sample_2.CEL.gz  \\\n",
       "1007_s_at                           6.474644   \n",
       "1053_at                             6.540040   \n",
       "117_at                              6.083483   \n",
       "121_at                              2.345001   \n",
       "1255_g_at                           2.223272   \n",
       "\n",
       "           GSM872330_MAGE008_sample_3.CEL.gz  \\\n",
       "1007_s_at                           9.113994   \n",
       "1053_at                             5.569006   \n",
       "117_at                              6.587381   \n",
       "121_at                              2.390202   \n",
       "1255_g_at                           2.223272   \n",
       "\n",
       "           GSM872331_MAGE008_sample_4.CEL.gz  \\\n",
       "1007_s_at                           7.044742   \n",
       "1053_at                             5.745150   \n",
       "117_at                              6.092671   \n",
       "121_at                              2.388071   \n",
       "1255_g_at                           2.223272   \n",
       "\n",
       "           GSM872332_MAGE008_sample_5.CEL.gz  \\\n",
       "1007_s_at                           8.719946   \n",
       "1053_at                             4.690936   \n",
       "117_at                              3.411626   \n",
       "121_at                              2.390202   \n",
       "1255_g_at                           2.223272   \n",
       "\n",
       "           GSM872333_MAGE008_sample_6.CEL.gz  \\\n",
       "1007_s_at                           4.852191   \n",
       "1053_at                             5.923728   \n",
       "117_at                              3.791668   \n",
       "121_at                              2.390202   \n",
       "1255_g_at                           2.223272   \n",
       "\n",
       "           GSM872334_MAGE008_sample_7.CEL.gz  \\\n",
       "1007_s_at                           7.190953   \n",
       "1053_at                             5.700713   \n",
       "117_at                              5.667734   \n",
       "121_at                              2.454035   \n",
       "1255_g_at                           2.223272   \n",
       "\n",
       "           GSM872335_MAGE008_sample_8.CEL.gz  \\\n",
       "1007_s_at                           8.636192   \n",
       "1053_at                             5.120923   \n",
       "117_at                              4.965991   \n",
       "121_at                              2.390202   \n",
       "1255_g_at                           2.223272   \n",
       "\n",
       "           GSM872336_MAGE008_sample_9.CEL.gz  \\\n",
       "1007_s_at                           5.623183   \n",
       "1053_at                             5.394368   \n",
       "117_at                              4.475886   \n",
       "121_at                              3.128954   \n",
       "1255_g_at                           2.223272   \n",
       "\n",
       "           GSM872337_MAGE008_sample_10.CEL.gz  ...  \\\n",
       "1007_s_at                            7.433451  ...   \n",
       "1053_at                              6.704893  ...   \n",
       "117_at                               4.443469  ...   \n",
       "121_at                               2.390202  ...   \n",
       "1255_g_at                            2.223272  ...   \n",
       "\n",
       "           GSM872383_MAGE008_sample_56.CEL.gz  \\\n",
       "1007_s_at                            6.287400   \n",
       "1053_at                              5.992869   \n",
       "117_at                               3.296701   \n",
       "121_at                               2.320004   \n",
       "1255_g_at                            2.223272   \n",
       "\n",
       "           GSM872384_MAGE008_sample_57.CEL.gz  \\\n",
       "1007_s_at                            7.017124   \n",
       "1053_at                              6.754348   \n",
       "117_at                               5.638913   \n",
       "121_at                               2.390202   \n",
       "1255_g_at                            2.223272   \n",
       "\n",
       "           GSM872385_MAGE008_sample_58.CEL.gz  \\\n",
       "1007_s_at                            7.533525   \n",
       "1053_at                              5.943736   \n",
       "117_at                               3.205921   \n",
       "121_at                               2.411101   \n",
       "1255_g_at                            2.223272   \n",
       "\n",
       "           GSM872386_MAGE008_sample_59.CEL.gz  \\\n",
       "1007_s_at                            7.042195   \n",
       "1053_at                              6.333925   \n",
       "117_at                               3.471334   \n",
       "121_at                               2.390202   \n",
       "1255_g_at                            2.223272   \n",
       "\n",
       "           GSM872387_MAGE008_sample_60.CEL.gz  \\\n",
       "1007_s_at                            8.809050   \n",
       "1053_at                              6.063615   \n",
       "117_at                               3.682211   \n",
       "121_at                               2.390202   \n",
       "1255_g_at                            2.223272   \n",
       "\n",
       "           GSM872388_MAGE008_sample_61.CEL.gz  \\\n",
       "1007_s_at                            8.198514   \n",
       "1053_at                              6.360003   \n",
       "117_at                               8.971476   \n",
       "121_at                               2.390202   \n",
       "1255_g_at                            2.223272   \n",
       "\n",
       "           GSM872389_MAGE008_sample_62.CEL.gz  \\\n",
       "1007_s_at                            8.457781   \n",
       "1053_at                              6.073347   \n",
       "117_at                               4.343425   \n",
       "121_at                               2.380696   \n",
       "1255_g_at                            2.348901   \n",
       "\n",
       "           GSM872390_MAGE008_sample_63.CEL.gz  \\\n",
       "1007_s_at                            7.530108   \n",
       "1053_at                              7.141974   \n",
       "117_at                               5.738228   \n",
       "121_at                               2.390202   \n",
       "1255_g_at                            2.223272   \n",
       "\n",
       "           GSM872391_MAGE008_sample_64.CEL.gz  \\\n",
       "1007_s_at                            4.724734   \n",
       "1053_at                              7.191548   \n",
       "117_at                               4.807307   \n",
       "121_at                               2.882576   \n",
       "1255_g_at                            2.223272   \n",
       "\n",
       "           GSM872392_MAGE008_sample_65.CEL.gz  \n",
       "1007_s_at                            9.222943  \n",
       "1053_at                              5.611221  \n",
       "117_at                              10.331267  \n",
       "121_at                               2.434246  \n",
       "1255_g_at                            2.223272  \n",
       "\n",
       "[5 rows x 65 columns]"
      ]
     },
     "execution_count": 15,
     "metadata": {},
     "output_type": "execute_result"
    }
   ],
   "source": [
    "normalized_expression.head()"
   ]
  },
  {
   "cell_type": "markdown",
   "metadata": {},
   "source": [
    "Trimming names to make table columns more readable"
   ]
  },
  {
   "cell_type": "code",
   "execution_count": 16,
   "metadata": {
    "ExecuteTime": {
     "end_time": "2018-08-02T14:25:38.956494Z",
     "start_time": "2018-08-02T14:25:38.952824Z"
    }
   },
   "outputs": [
    {
     "data": {
      "text/html": [
       "<div>\n",
       "<style scoped>\n",
       "    .dataframe tbody tr th:only-of-type {\n",
       "        vertical-align: middle;\n",
       "    }\n",
       "\n",
       "    .dataframe tbody tr th {\n",
       "        vertical-align: top;\n",
       "    }\n",
       "\n",
       "    .dataframe thead th {\n",
       "        text-align: right;\n",
       "    }\n",
       "</style>\n",
       "<table border=\"1\" class=\"dataframe\">\n",
       "  <thead>\n",
       "    <tr style=\"text-align: right;\">\n",
       "      <th></th>\n",
       "      <th>GSM872328</th>\n",
       "      <th>GSM872329</th>\n",
       "      <th>GSM872330</th>\n",
       "      <th>GSM872331</th>\n",
       "      <th>GSM872332</th>\n",
       "      <th>GSM872333</th>\n",
       "      <th>GSM872334</th>\n",
       "      <th>GSM872335</th>\n",
       "      <th>GSM872336</th>\n",
       "      <th>GSM872337</th>\n",
       "      <th>...</th>\n",
       "      <th>GSM872383</th>\n",
       "      <th>GSM872384</th>\n",
       "      <th>GSM872385</th>\n",
       "      <th>GSM872386</th>\n",
       "      <th>GSM872387</th>\n",
       "      <th>GSM872388</th>\n",
       "      <th>GSM872389</th>\n",
       "      <th>GSM872390</th>\n",
       "      <th>GSM872391</th>\n",
       "      <th>GSM872392</th>\n",
       "    </tr>\n",
       "  </thead>\n",
       "  <tbody>\n",
       "    <tr>\n",
       "      <th>1007_s_at</th>\n",
       "      <td>9.816090</td>\n",
       "      <td>6.474644</td>\n",
       "      <td>9.113994</td>\n",
       "      <td>7.044742</td>\n",
       "      <td>8.719946</td>\n",
       "      <td>4.852191</td>\n",
       "      <td>7.190953</td>\n",
       "      <td>8.636192</td>\n",
       "      <td>5.623183</td>\n",
       "      <td>7.433451</td>\n",
       "      <td>...</td>\n",
       "      <td>6.287400</td>\n",
       "      <td>7.017124</td>\n",
       "      <td>7.533525</td>\n",
       "      <td>7.042195</td>\n",
       "      <td>8.809050</td>\n",
       "      <td>8.198514</td>\n",
       "      <td>8.457781</td>\n",
       "      <td>7.530108</td>\n",
       "      <td>4.724734</td>\n",
       "      <td>9.222943</td>\n",
       "    </tr>\n",
       "    <tr>\n",
       "      <th>1053_at</th>\n",
       "      <td>5.664499</td>\n",
       "      <td>6.540040</td>\n",
       "      <td>5.569006</td>\n",
       "      <td>5.745150</td>\n",
       "      <td>4.690936</td>\n",
       "      <td>5.923728</td>\n",
       "      <td>5.700713</td>\n",
       "      <td>5.120923</td>\n",
       "      <td>5.394368</td>\n",
       "      <td>6.704893</td>\n",
       "      <td>...</td>\n",
       "      <td>5.992869</td>\n",
       "      <td>6.754348</td>\n",
       "      <td>5.943736</td>\n",
       "      <td>6.333925</td>\n",
       "      <td>6.063615</td>\n",
       "      <td>6.360003</td>\n",
       "      <td>6.073347</td>\n",
       "      <td>7.141974</td>\n",
       "      <td>7.191548</td>\n",
       "      <td>5.611221</td>\n",
       "    </tr>\n",
       "    <tr>\n",
       "      <th>117_at</th>\n",
       "      <td>8.394219</td>\n",
       "      <td>6.083483</td>\n",
       "      <td>6.587381</td>\n",
       "      <td>6.092671</td>\n",
       "      <td>3.411626</td>\n",
       "      <td>3.791668</td>\n",
       "      <td>5.667734</td>\n",
       "      <td>4.965991</td>\n",
       "      <td>4.475886</td>\n",
       "      <td>4.443469</td>\n",
       "      <td>...</td>\n",
       "      <td>3.296701</td>\n",
       "      <td>5.638913</td>\n",
       "      <td>3.205921</td>\n",
       "      <td>3.471334</td>\n",
       "      <td>3.682211</td>\n",
       "      <td>8.971476</td>\n",
       "      <td>4.343425</td>\n",
       "      <td>5.738228</td>\n",
       "      <td>4.807307</td>\n",
       "      <td>10.331267</td>\n",
       "    </tr>\n",
       "    <tr>\n",
       "      <th>121_at</th>\n",
       "      <td>2.390202</td>\n",
       "      <td>2.345001</td>\n",
       "      <td>2.390202</td>\n",
       "      <td>2.388071</td>\n",
       "      <td>2.390202</td>\n",
       "      <td>2.390202</td>\n",
       "      <td>2.454035</td>\n",
       "      <td>2.390202</td>\n",
       "      <td>3.128954</td>\n",
       "      <td>2.390202</td>\n",
       "      <td>...</td>\n",
       "      <td>2.320004</td>\n",
       "      <td>2.390202</td>\n",
       "      <td>2.411101</td>\n",
       "      <td>2.390202</td>\n",
       "      <td>2.390202</td>\n",
       "      <td>2.390202</td>\n",
       "      <td>2.380696</td>\n",
       "      <td>2.390202</td>\n",
       "      <td>2.882576</td>\n",
       "      <td>2.434246</td>\n",
       "    </tr>\n",
       "    <tr>\n",
       "      <th>1255_g_at</th>\n",
       "      <td>2.223272</td>\n",
       "      <td>2.223272</td>\n",
       "      <td>2.223272</td>\n",
       "      <td>2.223272</td>\n",
       "      <td>2.223272</td>\n",
       "      <td>2.223272</td>\n",
       "      <td>2.223272</td>\n",
       "      <td>2.223272</td>\n",
       "      <td>2.223272</td>\n",
       "      <td>2.223272</td>\n",
       "      <td>...</td>\n",
       "      <td>2.223272</td>\n",
       "      <td>2.223272</td>\n",
       "      <td>2.223272</td>\n",
       "      <td>2.223272</td>\n",
       "      <td>2.223272</td>\n",
       "      <td>2.223272</td>\n",
       "      <td>2.348901</td>\n",
       "      <td>2.223272</td>\n",
       "      <td>2.223272</td>\n",
       "      <td>2.223272</td>\n",
       "    </tr>\n",
       "  </tbody>\n",
       "</table>\n",
       "<p>5 rows × 65 columns</p>\n",
       "</div>"
      ],
      "text/plain": [
       "           GSM872328  GSM872329  GSM872330  GSM872331  GSM872332  GSM872333  \\\n",
       "1007_s_at   9.816090   6.474644   9.113994   7.044742   8.719946   4.852191   \n",
       "1053_at     5.664499   6.540040   5.569006   5.745150   4.690936   5.923728   \n",
       "117_at      8.394219   6.083483   6.587381   6.092671   3.411626   3.791668   \n",
       "121_at      2.390202   2.345001   2.390202   2.388071   2.390202   2.390202   \n",
       "1255_g_at   2.223272   2.223272   2.223272   2.223272   2.223272   2.223272   \n",
       "\n",
       "           GSM872334  GSM872335  GSM872336  GSM872337  ...  GSM872383  \\\n",
       "1007_s_at   7.190953   8.636192   5.623183   7.433451  ...   6.287400   \n",
       "1053_at     5.700713   5.120923   5.394368   6.704893  ...   5.992869   \n",
       "117_at      5.667734   4.965991   4.475886   4.443469  ...   3.296701   \n",
       "121_at      2.454035   2.390202   3.128954   2.390202  ...   2.320004   \n",
       "1255_g_at   2.223272   2.223272   2.223272   2.223272  ...   2.223272   \n",
       "\n",
       "           GSM872384  GSM872385  GSM872386  GSM872387  GSM872388  GSM872389  \\\n",
       "1007_s_at   7.017124   7.533525   7.042195   8.809050   8.198514   8.457781   \n",
       "1053_at     6.754348   5.943736   6.333925   6.063615   6.360003   6.073347   \n",
       "117_at      5.638913   3.205921   3.471334   3.682211   8.971476   4.343425   \n",
       "121_at      2.390202   2.411101   2.390202   2.390202   2.390202   2.380696   \n",
       "1255_g_at   2.223272   2.223272   2.223272   2.223272   2.223272   2.348901   \n",
       "\n",
       "           GSM872390  GSM872391  GSM872392  \n",
       "1007_s_at   7.530108   4.724734   9.222943  \n",
       "1053_at     7.141974   7.191548   5.611221  \n",
       "117_at      5.738228   4.807307  10.331267  \n",
       "121_at      2.390202   2.882576   2.434246  \n",
       "1255_g_at   2.223272   2.223272   2.223272  \n",
       "\n",
       "[5 rows x 65 columns]"
      ]
     },
     "execution_count": 16,
     "metadata": {},
     "output_type": "execute_result"
    }
   ],
   "source": [
    "normalized_expression.columns = normalized_expression.columns.to_series().apply(lambda x: x.split('_')[0]).values\n",
    "normalized_expression.head()"
   ]
  },
  {
   "cell_type": "code",
   "execution_count": 17,
   "metadata": {},
   "outputs": [
    {
     "data": {
      "text/plain": [
       "CompletedProcess(args=['rm', '-r', 'TMPDIR/'], returncode=0)"
      ]
     },
     "execution_count": 17,
     "metadata": {},
     "output_type": "execute_result"
    }
   ],
   "source": [
    "subprocess.run(['rm',  '-r','TMPDIR/'])\n",
    "# deleting unnecessary files"
   ]
  },
  {
   "cell_type": "markdown",
   "metadata": {},
   "source": [
    "## Converting probe ids to HUGO gene symbols"
   ]
  },
  {
   "cell_type": "markdown",
   "metadata": {},
   "source": [
    "If your file is not from GEO or retrieved from CEL files then you can skip to the final QC."
   ]
  },
  {
   "cell_type": "markdown",
   "metadata": {},
   "source": [
    "Get chip SOFT file and make a 3-col file out of that.<br>\n",
    "\n",
    "1st column: probe id<br>\n",
    "2nd column: gene symbol column (as is with '///')<br>\n",
    "3rd column: entrez id (not needed for the study)"
   ]
  },
  {
   "cell_type": "markdown",
   "metadata": {},
   "source": [
    "Script and description to download and extract soft file with 3 columns.\n",
    "\n",
    "Because we are using data from GEO here is a link to SOFT file of Ulloa-Montoya sample.\n",
    "\n",
    "You can also find it by going to https://www.ncbi.nlm.nih.gov/geo/ and in the search bar you can type the number of GPL platform in our case it is GPL570 and you will be directed to https://www.ncbi.nlm.nih.gov/geo/query/acc.cgi?acc=GPL570\n",
    "\n",
    "Here at the end of the page you will see Annotation SOFT table.\n",
    "Click on that button and it will automatically download (in our example GPL570.annot.gz) SOFT annotation table for your sample.\n",
    "And then upload the file to the environment."
   ]
  },
  {
   "cell_type": "code",
   "execution_count": 18,
   "metadata": {},
   "outputs": [],
   "source": [
    "# If you want to download your SOFT annotation table programmatically use the script below \n",
    "# By changing the value of PLATFORM\n",
    "# To the value of your desired GPL platform\n",
    "\n",
    "with open(os.devnull, \"w\") as f:\n",
    "    subprocess.run([\n",
    "        'wget',\n",
    "        f'ftp://ftp.ncbi.nlm.nih.gov/geo/platforms/GPLnnn/{PLATFORM}/annot/{PLATFORM}.annot.gz'\n",
    "    ], stdout=f, stderr=subprocess.STDOUT)"
   ]
  },
  {
   "cell_type": "code",
   "execution_count": 19,
   "metadata": {},
   "outputs": [
    {
     "data": {
      "text/plain": [
       "CompletedProcess(args=['gunzip', 'GPL570.annot.gz'], returncode=0)"
      ]
     },
     "execution_count": 19,
     "metadata": {},
     "output_type": "execute_result"
    }
   ],
   "source": [
    "# When data upload is complete run the script below in your terminal to unzip your file\n",
    "subprocess.run(['gunzip', f'{PLATFORM}.annot.gz'])\n",
    "# After the unzipping process you will have GPL570.annot.gz file."
   ]
  },
  {
   "cell_type": "markdown",
   "metadata": {},
   "source": [
    "Subsetting SOFT file to have 3 columns "
   ]
  },
  {
   "cell_type": "code",
   "execution_count": 20,
   "metadata": {},
   "outputs": [
    {
     "data": {
      "text/plain": [
       "CompletedProcess(args=\"sed '1,/^ID/d' GPL570.annot > GPL570.beheaded.annot\", returncode=0)"
      ]
     },
     "execution_count": 20,
     "metadata": {},
     "output_type": "execute_result"
    }
   ],
   "source": [
    "# Removing header from SOFT file so it won't cause any problems in further processes\n",
    "subprocess.run(\"sed '1,/^ID/d' GPL570.annot > GPL570.beheaded.annot\", shell = True)"
   ]
  },
  {
   "cell_type": "code",
   "execution_count": 21,
   "metadata": {},
   "outputs": [
    {
     "name": "stderr",
     "output_type": "stream",
     "text": [
      "/tmp/ipykernel_82/3515344537.py:1: DtypeWarning: Columns (12) have mixed types. Specify dtype option on import or set low_memory=False.\n",
      "  gene_SOFT_annotations = pd.read_csv(f'{PLATFORM}.beheaded.annot', sep = '\\t', header = None)\n"
     ]
    }
   ],
   "source": [
    "gene_SOFT_annotations = pd.read_csv(f'{PLATFORM}.beheaded.annot', sep = '\\t', header = None)\n",
    "gene_SOFT_annotations = gene_SOFT_annotations.iloc[:, [0, 2, 3]]\n",
    "\n",
    "# Renaming columns\n",
    "gene_SOFT_annotations = gene_SOFT_annotations.rename(columns = {2: 1, 3 : 2})\n",
    "gene_SOFT_annotations.to_csv(f'{PLATFORM}.3col', sep = '\\t',  index=False, quoting=csv.QUOTE_NONNUMERIC)"
   ]
  },
  {
   "cell_type": "code",
   "execution_count": 22,
   "metadata": {},
   "outputs": [
    {
     "data": {
      "text/html": [
       "<div>\n",
       "<style scoped>\n",
       "    .dataframe tbody tr th:only-of-type {\n",
       "        vertical-align: middle;\n",
       "    }\n",
       "\n",
       "    .dataframe tbody tr th {\n",
       "        vertical-align: top;\n",
       "    }\n",
       "\n",
       "    .dataframe thead th {\n",
       "        text-align: right;\n",
       "    }\n",
       "</style>\n",
       "<table border=\"1\" class=\"dataframe\">\n",
       "  <thead>\n",
       "    <tr style=\"text-align: right;\">\n",
       "      <th></th>\n",
       "      <th>0</th>\n",
       "      <th>1</th>\n",
       "      <th>2</th>\n",
       "    </tr>\n",
       "  </thead>\n",
       "  <tbody>\n",
       "    <tr>\n",
       "      <th>0</th>\n",
       "      <td>1007_s_at</td>\n",
       "      <td>MIR4640///DDR1</td>\n",
       "      <td>100616237///780</td>\n",
       "    </tr>\n",
       "    <tr>\n",
       "      <th>1</th>\n",
       "      <td>1053_at</td>\n",
       "      <td>RFC2</td>\n",
       "      <td>5982</td>\n",
       "    </tr>\n",
       "    <tr>\n",
       "      <th>2</th>\n",
       "      <td>117_at</td>\n",
       "      <td>HSPA6</td>\n",
       "      <td>3310</td>\n",
       "    </tr>\n",
       "    <tr>\n",
       "      <th>3</th>\n",
       "      <td>121_at</td>\n",
       "      <td>PAX8</td>\n",
       "      <td>7849</td>\n",
       "    </tr>\n",
       "    <tr>\n",
       "      <th>4</th>\n",
       "      <td>1255_g_at</td>\n",
       "      <td>GUCA1A</td>\n",
       "      <td>2978</td>\n",
       "    </tr>\n",
       "  </tbody>\n",
       "</table>\n",
       "</div>"
      ],
      "text/plain": [
       "           0               1                2\n",
       "0  1007_s_at  MIR4640///DDR1  100616237///780\n",
       "1    1053_at            RFC2             5982\n",
       "2     117_at           HSPA6             3310\n",
       "3     121_at            PAX8             7849\n",
       "4  1255_g_at          GUCA1A             2978"
      ]
     },
     "execution_count": 22,
     "metadata": {},
     "output_type": "execute_result"
    }
   ],
   "source": [
    "gene_SOFT_annotations.head()"
   ]
  },
  {
   "cell_type": "code",
   "execution_count": 23,
   "metadata": {},
   "outputs": [
    {
     "data": {
      "text/plain": [
       "CompletedProcess(args=['rm', 'GPL570.beheaded.annot'], returncode=0)"
      ]
     },
     "execution_count": 23,
     "metadata": {},
     "output_type": "execute_result"
    }
   ],
   "source": [
    "#deleting all unnecessary files\n",
    "subprocess.run(['rm', f'{PLATFORM}.annot'])\n",
    "subprocess.run(['rm', f'{PLATFORM}.beheaded.annot'])"
   ]
  },
  {
   "cell_type": "code",
   "execution_count": 24,
   "metadata": {
    "ExecuteTime": {
     "end_time": "2018-08-02T14:25:50.137216Z",
     "start_time": "2018-08-02T14:25:49.716242Z"
    }
   },
   "outputs": [],
   "source": [
    "probes_gs_dict = get_gs_for_probes_from_3col(f'{PLATFORM}.3col', normalized_expression.index.tolist())"
   ]
  },
  {
   "cell_type": "code",
   "execution_count": 25,
   "metadata": {},
   "outputs": [
    {
     "data": {
      "text/plain": [
       "1007_s_at    [MIR4640, DDR1]\n",
       "1053_at               [RFC2]\n",
       "117_at               [HSPA6]\n",
       "121_at                [PAX8]\n",
       "1255_g_at           [GUCA1A]\n",
       "1294_at      [MIR5193, UBA7]\n",
       "1316_at               [THRA]\n",
       "1320_at             [PTPN21]\n",
       "1405_i_at             [CCL5]\n",
       "1431_at             [CYP2E1]\n",
       "dtype: object"
      ]
     },
     "execution_count": 25,
     "metadata": {},
     "output_type": "execute_result"
    }
   ],
   "source": [
    "pd.Series(probes_gs_dict).head(10)"
   ]
  },
  {
   "cell_type": "code",
   "execution_count": null,
   "metadata": {
    "ExecuteTime": {
     "end_time": "2018-08-02T14:26:46.823094Z",
     "start_time": "2018-08-02T14:25:52.167425Z"
    }
   },
   "outputs": [],
   "source": [
    "series = pd.Series(probes_gs_dict)\n",
    "annotated_expression = get_expressions_for_gs(series, normalized_expression, 'max').T.sort_index()\n",
    "\n",
    "annotated_expression.to_csv(SUBTYPE_FINAL_CLUSTERS, sep='\\t', index=True)"
   ]
  },
  {
   "cell_type": "markdown",
   "metadata": {},
   "source": [
    "# Quality check (QC)"
   ]
  },
  {
   "cell_type": "code",
   "execution_count": 7,
   "metadata": {
    "tags": []
   },
   "outputs": [],
   "source": [
    "#If you want to test the code starting from QC and skiping the Data Preparation part please uncomment this code\n",
    "# annotated_expression = pd.read_csv(TEST_EXPRESSION_MATRIX, sep='\\t', index_col=0)"
   ]
  },
  {
   "cell_type": "markdown",
   "metadata": {},
   "source": [
    "The Quality Control (QC) section is tasked with identifying batches, outliers, and assessing the normality of data distribution using various techniques such as PCA plot, UMAP plot, and distribution plot.\n",
    "\n",
    "As part of your role in this section, you will be provided with examples of both poor and good datasets, which will help you identify the visual differences between them and understand the types of issues that can arise in data. This knowledge will enable you to effectively assess the quality of the data and identify any potential issues that may impact downstream analyses."
   ]
  },
  {
   "cell_type": "markdown",
   "metadata": {},
   "source": [
    "## Batch detection"
   ]
  },
  {
   "cell_type": "markdown",
   "metadata": {},
   "source": [
    "This section is responsible for identifying any potential batch effects in the data using UMAP and PCA analyses. The results of these analyses are then plotted to visualize any potential batches in the data.\n",
    "\n",
    "If you are not familiar with batch effects please follow the link below for more information:\n",
    "https://towardsdatascience.com/batch-effects-c71c886ca9c5\n",
    "\n",
    "To illustrate this process, an example is provided below with two side-by-side plots. The plot on the left is a good example with no identified issues, whereas the plot on the right exhibits potential batch effects.\n",
    "\n",
    "One key difference between the two figures is the presence of two distinct groups of data points that are separated from each other in the batch-affected example. This is indicative of a potential batch effect, which can have significant impacts on downstream analyses.\n",
    "\n",
    "If the plot of your data resembles the one on the right, it is crucial to take action to remove any identified batch effects to ensure accurate and reliable analysis.\n",
    "\n",
    "For the instructions of batch effects removal use the link provided below:\n",
    "https://github.com/chichaumiau/removeBatcheffect"
   ]
  },
  {
   "cell_type": "markdown",
   "metadata": {},
   "source": [
    "![Umap Example](plots/umap_examples.svg)"
   ]
  },
  {
   "cell_type": "code",
   "execution_count": 8,
   "metadata": {},
   "outputs": [
    {
     "data": {
      "text/plain": [
       "<AxesSubplot:>"
      ]
     },
     "execution_count": 8,
     "metadata": {},
     "output_type": "execute_result"
    },
    {
     "data": {
      "image/png": "[encoded data removed]",
      "text/plain": [
       "<Figure size 600x600 with 1 Axes>"
      ]
     },
     "metadata": {},
     "output_type": "display_data"
    }
   ],
   "source": [
    "# generating umap_plot for our input data\n",
    "umap_plot(annotated_expression.T, legend = 'Out')"
   ]
  },
  {
   "cell_type": "markdown",
   "metadata": {},
   "source": [
    "To further enhance the significance of our analysis, we perform PCA analyses and plot the results to ensure that our data is free from any batch effects.\n",
    "\n",
    "An illustrative example is provided below, where it is clear that the presence of batches is reflected in the plot as two distinct groups of data points that are far from each other. In contrast, a normal dataset appears as a single group of data points that are relatively close to each other, as reflected in the PCA plot.\n",
    "\n",
    "This step is essential to ensure that our data is free from any systematic variation that could confound our analyses, and to ensure that any observed effects are biologically meaningful."
   ]
  },
  {
   "cell_type": "markdown",
   "metadata": {},
   "source": [
    "![Pca batches example not colored](plots/pca_batches_example_not_colored.svg)"
   ]
  },
  {
   "cell_type": "markdown",
   "metadata": {},
   "source": [
    "![Pca batches example not colored](plots/pca_batches_example_colored.svg)"
   ]
  },
  {
   "cell_type": "code",
   "execution_count": 9,
   "metadata": {},
   "outputs": [
    {
     "data": {
      "text/plain": [
       "<AxesSubplot:xlabel='PCA 1 component 14% variance explained', ylabel='PCA 2 component 10% variance explained'>"
      ]
     },
     "execution_count": 9,
     "metadata": {},
     "output_type": "execute_result"
    },
    {
     "data": {
      "image/png": "[encoded data removed]",
      "text/plain": [
       "<Figure size 600x600 with 1 Axes>"
      ]
     },
     "metadata": {},
     "output_type": "display_data"
    }
   ],
   "source": [
    "#generating the pca plot for the annotated_expressions\n",
    "pca_plot(annotated_expression.T, legend = 'out')"
   ]
  },
  {
   "cell_type": "markdown",
   "metadata": {},
   "source": [
    "## Outlier detection"
   ]
  },
  {
   "cell_type": "markdown",
   "metadata": {},
   "source": [
    "The purpose of this section is to identify outliers in the annotated_expression data through PCA analysis and the generation of corresponding plots.\n",
    "\n",
    "The code cell below generates a PCA plot of the transposed annotated_expression data. Transposing the data allows for the sample IDs to be located in the row positions, which facilitates dimension reduction based on samples. This plot can help identify any outliers that may exist in the data."
   ]
  },
  {
   "cell_type": "markdown",
   "metadata": {},
   "source": [
    "An example of two datasets is provided below, with one dataset containing outliers and the other dataset being normal.\n",
    "\n",
    "In the plot on the left, two data points are far away from the main group of data points, indicating the presence of outliers in the dataset. In contrast, the data points in the plot on the right are relatively close to each other, with no outliers detected. It is important to carefully examine plots like these to detect any outliers that may exist in the data.\n",
    "\n",
    "To get more familiar with outliers and their removal use the link below:\n",
    "https://www.geeksforgeeks.org/detect-and-remove-the-outliers-using-python/"
   ]
  },
  {
   "cell_type": "markdown",
   "metadata": {},
   "source": [
    "![PCA outliers example](plots/pca_outliers_example.svg)"
   ]
  },
  {
   "cell_type": "code",
   "execution_count": 35,
   "metadata": {
    "tags": []
   },
   "outputs": [
    {
     "data": {
      "text/plain": [
       "<AxesSubplot:xlabel='PCA 1 component 14% variance explained', ylabel='PCA 2 component 10% variance explained'>"
      ]
     },
     "execution_count": 35,
     "metadata": {},
     "output_type": "execute_result"
    },
    {
     "data": {
      "image/png": "[encoded data removed]",
      "text/plain": [
       "<Figure size 600x600 with 1 Axes>"
      ]
     },
     "metadata": {},
     "output_type": "display_data"
    }
   ],
   "source": [
    "# Generating pca plot for annotated_expression to find outliers\n",
    "pca_plot(annotated_expression.T, legend= None)"
   ]
  },
  {
   "cell_type": "markdown",
   "metadata": {},
   "source": [
    "If the pca_plot of your data looks like the plot on left from the above example please remove the outliers from your dataset."
   ]
  },
  {
   "cell_type": "code",
   "execution_count": 36,
   "metadata": {
    "ExecuteTime": {
     "end_time": "2018-08-02T14:25:38.970277Z",
     "start_time": "2018-08-02T14:25:38.958537Z"
    },
    "scrolled": true
   },
   "outputs": [
    {
     "data": {
      "text/plain": [
       "1"
      ]
     },
     "execution_count": 36,
     "metadata": {},
     "output_type": "execute_result"
    }
   ],
   "source": [
    "#checking of there are repetitive values or not\n",
    "annotated_expression.columns.value_counts().max()"
   ]
  },
  {
   "cell_type": "markdown",
   "metadata": {},
   "source": [
    "## Data distribution check"
   ]
  },
  {
   "cell_type": "raw",
   "metadata": {},
   "source": [
    "This is the final section of the QC where data distribution is checked."
   ]
  },
  {
   "cell_type": "markdown",
   "metadata": {},
   "source": [
    "As with the previous sections, an example of two gene expression datasets is provided below, with one exhibiting good quality and the other exhibiting poor quality, as indicated by their respective distribution plots.\n",
    "\n",
    "In the plot on the right, the expression values start off very low and then rise before dropping down. This pattern suggests potential gene degradation, which can compromise the reliability and accuracy of downstream analyses. In contrast, the distribution plot on the left appears to be normal, indicating good quality gene expression data.\n",
    "\n",
    "It is essential to carefully examine the distribution plots of gene expression data to ensure that the data meets the necessary quality criteria for accurate and reliable analyses. Any deviations from normal distributions or patterns of gene expression that may indicate gene degradation should be carefully investigated and, if necessary, corrected to ensure high-quality data."
   ]
  },
  {
   "cell_type": "markdown",
   "metadata": {},
   "source": [
    "![Data distribution example](plots/data_distribution_example.svg)"
   ]
  },
  {
   "cell_type": "markdown",
   "metadata": {},
   "source": [
    "The code snippet provided generates a visualization of the distribution of annotated expression values, which appears to be normal and distinct from the atypical distribution depicted in the previous example. This type of data visualization is useful for identifying trends and patterns in gene expression data and can aid in the quality control and preprocessing of the data."
   ]
  },
  {
   "cell_type": "code",
   "execution_count": 39,
   "metadata": {},
   "outputs": [
    {
     "name": "stderr",
     "output_type": "stream",
     "text": [
      "/home/jovyan/venvs/QA3.9-common/lib/python3.9/site-packages/seaborn/distributions.py:2619: FutureWarning: `distplot` is a deprecated function and will be removed in a future version. Please adapt your code to use either `displot` (a figure-level function with similar flexibility) or `histplot` (an axes-level function for histograms).\n",
      "  warnings.warn(msg, FutureWarning)\n"
     ]
    },
    {
     "data": {
      "text/plain": [
       "<AxesSubplot:ylabel='Density'>"
      ]
     },
     "execution_count": 39,
     "metadata": {},
     "output_type": "execute_result"
    },
    {
     "data": {
      "image/png": "[encoded data removed]",
      "text/plain": [
       "<Figure size 768x576 with 1 Axes>"
      ]
     },
     "metadata": {},
     "output_type": "display_data"
    }
   ],
   "source": [
    "sns.distplot(annotated_expression.mean(axis=1), kde = True)"
   ]
  },
  {
   "cell_type": "markdown",
   "metadata": {},
   "source": [
    "If your data plot is similar to the distribution of the normal data on the right then you can continue your analyses whereas if it is similar to the one on left then your data is abnormal and might have RNA degradation. During RNA degradation case please stop the analyses to not have any wrong calculations and choose a new dataset."
   ]
  },
  {
   "cell_type": "code",
   "execution_count": 40,
   "metadata": {},
   "outputs": [
    {
     "data": {
      "text/html": [
       "<div>\n",
       "<style scoped>\n",
       "    .dataframe tbody tr th:only-of-type {\n",
       "        vertical-align: middle;\n",
       "    }\n",
       "\n",
       "    .dataframe tbody tr th {\n",
       "        vertical-align: top;\n",
       "    }\n",
       "\n",
       "    .dataframe thead th {\n",
       "        text-align: right;\n",
       "    }\n",
       "</style>\n",
       "<table border=\"1\" class=\"dataframe\">\n",
       "  <thead>\n",
       "    <tr style=\"text-align: right;\">\n",
       "      <th></th>\n",
       "      <th>GSM872328</th>\n",
       "      <th>GSM872329</th>\n",
       "      <th>GSM872330</th>\n",
       "      <th>GSM872331</th>\n",
       "      <th>GSM872332</th>\n",
       "      <th>GSM872333</th>\n",
       "      <th>GSM872334</th>\n",
       "      <th>GSM872335</th>\n",
       "      <th>GSM872336</th>\n",
       "      <th>GSM872337</th>\n",
       "      <th>...</th>\n",
       "      <th>GSM872383</th>\n",
       "      <th>GSM872384</th>\n",
       "      <th>GSM872385</th>\n",
       "      <th>GSM872386</th>\n",
       "      <th>GSM872387</th>\n",
       "      <th>GSM872388</th>\n",
       "      <th>GSM872389</th>\n",
       "      <th>GSM872390</th>\n",
       "      <th>GSM872391</th>\n",
       "      <th>GSM872392</th>\n",
       "    </tr>\n",
       "  </thead>\n",
       "  <tbody>\n",
       "    <tr>\n",
       "      <th>A1BG</th>\n",
       "      <td>3.078552</td>\n",
       "      <td>2.987851</td>\n",
       "      <td>2.987851</td>\n",
       "      <td>3.165811</td>\n",
       "      <td>2.728912</td>\n",
       "      <td>3.655134</td>\n",
       "      <td>2.987851</td>\n",
       "      <td>2.987851</td>\n",
       "      <td>3.576304</td>\n",
       "      <td>6.004672</td>\n",
       "      <td>...</td>\n",
       "      <td>4.336052</td>\n",
       "      <td>3.016967</td>\n",
       "      <td>2.987851</td>\n",
       "      <td>3.565415</td>\n",
       "      <td>3.567615</td>\n",
       "      <td>2.987851</td>\n",
       "      <td>2.987851</td>\n",
       "      <td>2.899146</td>\n",
       "      <td>3.058037</td>\n",
       "      <td>2.987851</td>\n",
       "    </tr>\n",
       "    <tr>\n",
       "      <th>A1BG-AS1</th>\n",
       "      <td>5.749913</td>\n",
       "      <td>4.904272</td>\n",
       "      <td>4.388127</td>\n",
       "      <td>4.360712</td>\n",
       "      <td>4.244502</td>\n",
       "      <td>4.356337</td>\n",
       "      <td>4.494508</td>\n",
       "      <td>4.478265</td>\n",
       "      <td>4.595821</td>\n",
       "      <td>5.300090</td>\n",
       "      <td>...</td>\n",
       "      <td>4.310518</td>\n",
       "      <td>4.597341</td>\n",
       "      <td>4.636256</td>\n",
       "      <td>4.597341</td>\n",
       "      <td>4.606501</td>\n",
       "      <td>4.597341</td>\n",
       "      <td>4.597341</td>\n",
       "      <td>4.639346</td>\n",
       "      <td>4.412341</td>\n",
       "      <td>4.742684</td>\n",
       "    </tr>\n",
       "    <tr>\n",
       "      <th>A1CF</th>\n",
       "      <td>2.223272</td>\n",
       "      <td>2.223272</td>\n",
       "      <td>2.223272</td>\n",
       "      <td>2.223272</td>\n",
       "      <td>2.223272</td>\n",
       "      <td>2.223272</td>\n",
       "      <td>2.223272</td>\n",
       "      <td>2.223272</td>\n",
       "      <td>2.223272</td>\n",
       "      <td>2.223272</td>\n",
       "      <td>...</td>\n",
       "      <td>2.223272</td>\n",
       "      <td>2.223272</td>\n",
       "      <td>2.223272</td>\n",
       "      <td>2.223272</td>\n",
       "      <td>2.223272</td>\n",
       "      <td>2.223272</td>\n",
       "      <td>2.223272</td>\n",
       "      <td>2.223272</td>\n",
       "      <td>2.223272</td>\n",
       "      <td>2.223272</td>\n",
       "    </tr>\n",
       "    <tr>\n",
       "      <th>A2M</th>\n",
       "      <td>11.726740</td>\n",
       "      <td>11.031260</td>\n",
       "      <td>11.897860</td>\n",
       "      <td>10.843689</td>\n",
       "      <td>12.949128</td>\n",
       "      <td>12.603719</td>\n",
       "      <td>13.162092</td>\n",
       "      <td>11.998046</td>\n",
       "      <td>12.926885</td>\n",
       "      <td>12.836179</td>\n",
       "      <td>...</td>\n",
       "      <td>12.034147</td>\n",
       "      <td>12.973168</td>\n",
       "      <td>12.724960</td>\n",
       "      <td>10.293074</td>\n",
       "      <td>13.931410</td>\n",
       "      <td>13.758179</td>\n",
       "      <td>12.476536</td>\n",
       "      <td>10.576425</td>\n",
       "      <td>12.909873</td>\n",
       "      <td>12.791583</td>\n",
       "    </tr>\n",
       "    <tr>\n",
       "      <th>A2M-AS1</th>\n",
       "      <td>6.443771</td>\n",
       "      <td>6.102404</td>\n",
       "      <td>6.606300</td>\n",
       "      <td>5.389406</td>\n",
       "      <td>7.313690</td>\n",
       "      <td>7.771913</td>\n",
       "      <td>7.293835</td>\n",
       "      <td>6.468055</td>\n",
       "      <td>7.778143</td>\n",
       "      <td>7.140280</td>\n",
       "      <td>...</td>\n",
       "      <td>8.238855</td>\n",
       "      <td>7.263452</td>\n",
       "      <td>7.986488</td>\n",
       "      <td>4.551769</td>\n",
       "      <td>8.104151</td>\n",
       "      <td>8.618934</td>\n",
       "      <td>6.642779</td>\n",
       "      <td>5.118838</td>\n",
       "      <td>7.025310</td>\n",
       "      <td>8.441181</td>\n",
       "    </tr>\n",
       "  </tbody>\n",
       "</table>\n",
       "<p>5 rows × 65 columns</p>\n",
       "</div>"
      ],
      "text/plain": [
       "          GSM872328  GSM872329  GSM872330  GSM872331  GSM872332  GSM872333  \\\n",
       "A1BG       3.078552   2.987851   2.987851   3.165811   2.728912   3.655134   \n",
       "A1BG-AS1   5.749913   4.904272   4.388127   4.360712   4.244502   4.356337   \n",
       "A1CF       2.223272   2.223272   2.223272   2.223272   2.223272   2.223272   \n",
       "A2M       11.726740  11.031260  11.897860  10.843689  12.949128  12.603719   \n",
       "A2M-AS1    6.443771   6.102404   6.606300   5.389406   7.313690   7.771913   \n",
       "\n",
       "          GSM872334  GSM872335  GSM872336  GSM872337  ...  GSM872383  \\\n",
       "A1BG       2.987851   2.987851   3.576304   6.004672  ...   4.336052   \n",
       "A1BG-AS1   4.494508   4.478265   4.595821   5.300090  ...   4.310518   \n",
       "A1CF       2.223272   2.223272   2.223272   2.223272  ...   2.223272   \n",
       "A2M       13.162092  11.998046  12.926885  12.836179  ...  12.034147   \n",
       "A2M-AS1    7.293835   6.468055   7.778143   7.140280  ...   8.238855   \n",
       "\n",
       "          GSM872384  GSM872385  GSM872386  GSM872387  GSM872388  GSM872389  \\\n",
       "A1BG       3.016967   2.987851   3.565415   3.567615   2.987851   2.987851   \n",
       "A1BG-AS1   4.597341   4.636256   4.597341   4.606501   4.597341   4.597341   \n",
       "A1CF       2.223272   2.223272   2.223272   2.223272   2.223272   2.223272   \n",
       "A2M       12.973168  12.724960  10.293074  13.931410  13.758179  12.476536   \n",
       "A2M-AS1    7.263452   7.986488   4.551769   8.104151   8.618934   6.642779   \n",
       "\n",
       "          GSM872390  GSM872391  GSM872392  \n",
       "A1BG       2.899146   3.058037   2.987851  \n",
       "A1BG-AS1   4.639346   4.412341   4.742684  \n",
       "A1CF       2.223272   2.223272   2.223272  \n",
       "A2M       10.576425  12.909873  12.791583  \n",
       "A2M-AS1    5.118838   7.025310   8.441181  \n",
       "\n",
       "[5 rows x 65 columns]"
      ]
     },
     "execution_count": 40,
     "metadata": {},
     "output_type": "execute_result"
    }
   ],
   "source": [
    "#Printing the dataframe to know how it looks in table form \n",
    "annotated_expression.head()"
   ]
  },
  {
   "cell_type": "markdown",
   "metadata": {},
   "source": [
    "If you have passed the all of the QC sections then you can continue to the classification step but if there are any problems with your data please fix it as it can affect on the results of the analyses and provide you with wrong answers."
   ]
  },
  {
   "cell_type": "code",
   "execution_count": 41,
   "metadata": {},
   "outputs": [],
   "source": [
    "#Saving the gene expressions table into .tsv file \n",
    "annotated_expression.to_csv(EXPRESSIONS_MATRIX, sep='\\t')"
   ]
  },
  {
   "cell_type": "markdown",
   "metadata": {},
   "source": [
    "# TME classification"
   ]
  },
  {
   "cell_type": "markdown",
   "metadata": {},
   "source": [
    "The classification section determines each sample subtype relying on the TCGA cohort which was separated into clusters using KNeighborsClusterClassifier storing it all in a MODEL variable where each cluster belongs to a differenct subtype.Then the samples expressions.tsv and signatures.gmt files are read and passed to ssgsea_formula function to determine each signature(columns) score for every sample (rows)."
   ]
  },
  {
   "cell_type": "markdown",
   "metadata": {},
   "source": [
    "## Import of python packages and reference files directories"
   ]
  },
  {
   "cell_type": "code",
   "execution_count": 42,
   "metadata": {},
   "outputs": [],
   "source": [
    "#Import of the needed packages for classification\n",
    "\n"
   ]
  },
  {
   "cell_type": "markdown",
   "metadata": {},
   "source": [
    "## Loading Training cohort with known MFP labels and gene expressions values matrix"
   ]
  },
  {
   "cell_type": "code",
   "execution_count": 91,
   "metadata": {},
   "outputs": [
    {
     "name": "stdout",
     "output_type": "stream",
     "text": [
      "Reference signatures provided for 8024 samples\n",
      "Reference annotation provided for 8024 samples\n",
      "Loaded 29 signatures\n",
      "Classifying cohort, N=22836 samples\n"
     ]
    }
   ],
   "source": [
    "TCGA_signature_scores_scaled = pd.read_csv(TCGA_SIGNATURES, sep='\\t', index_col=0).T  # Signatures in rows\n",
    "print(f'Reference signatures provided for {len(TCGA_signature_scores_scaled)} samples')\n",
    "\n",
    "TCGA_annotation = pd.read_csv(TCGA_COHORTS_ANNOTATION, sep='\\t', index_col=0)  # Contains MFP cluster labels in MFP column\n",
    "print(f'Reference annotation provided for {len(TCGA_signature_scores_scaled)} samples')\n",
    "\n",
    "\n",
    "# Fit the model\n",
    "MODEL = KNeighborsClusterClassifier(norm=False, scale=False, clip=2, k=35).fit(TCGA_signature_scores_scaled,\n",
    "                                                                               TCGA_annotation.MFP)\n",
    "\n",
    "# Load the cohort of interest\n",
    "# Read signatures\n",
    "gene_signatures = read_gene_sets(GENE_SIGNATURES)  # GMT format like in MSIGdb\n",
    "print(f'Loaded {len(gene_signatures)} signatures')\n",
    "\n",
    "# Read expressions\n",
    "gene_expressions = pd.read_csv(EXPRESSIONS_MATRIX, sep='\\t', index_col=0)  # log2+1 transformed; Genes should appear to be in rows\n",
    "\n",
    "print(f'Classifying cohort, N={len(gene_expressions)} samples')\n",
    "\n",
    "if gene_expressions.max().max() > 35:\n",
    "    print('Performing log2+1 transformation')\n",
    "    gene_expressions = np.log2(1+gene_expressions)\n",
    "    "
   ]
  },
  {
   "cell_type": "markdown",
   "metadata": {},
   "source": [
    "The codeblock below predicts to which subtype each sample belongs and then prints out number of samples that have the given subtype.At the end classified_sample.tsv file is given as an output which contains information about to which subtype each sample belongs to."
   ]
  },
  {
   "cell_type": "markdown",
   "metadata": {},
   "source": [
    "## Classifying and giving the output .tsv file containing the TME subtype for each sample."
   ]
  },
  {
   "cell_type": "code",
   "execution_count": 95,
   "metadata": {},
   "outputs": [
    {
     "name": "stderr",
     "output_type": "stream",
     "text": [
      "/home/jovyan/my_python_environment/MFP/portraits/utils.py:63: FutureWarning: The 'mad' method is deprecated and will be removed in a future version. To compute the same result, you may do `(df - df.mean()).abs().mean()`.\n",
      "  c_data = (data - data.median()) / data.mad()\n"
     ]
    }
   ],
   "source": [
    "# Calc signature scores\n",
    "signature_scores = ssgsea_formula(gene_expressions, gene_signatures)\n",
    "\n",
    "# Scale signatures\n",
    "signature_scores_scaled = median_scale(signature_scores)"
   ]
  },
  {
   "cell_type": "code",
   "execution_count": 96,
   "metadata": {
    "tags": []
   },
   "outputs": [
    {
     "data": {
      "text/html": [
       "<div>\n",
       "<style scoped>\n",
       "    .dataframe tbody tr th:only-of-type {\n",
       "        vertical-align: middle;\n",
       "    }\n",
       "\n",
       "    .dataframe tbody tr th {\n",
       "        vertical-align: top;\n",
       "    }\n",
       "\n",
       "    .dataframe thead th {\n",
       "        text-align: right;\n",
       "    }\n",
       "</style>\n",
       "<table border=\"1\" class=\"dataframe\">\n",
       "  <thead>\n",
       "    <tr style=\"text-align: right;\">\n",
       "      <th></th>\n",
       "      <th>MHCI</th>\n",
       "      <th>MHCII</th>\n",
       "      <th>Coactivation_molecules</th>\n",
       "      <th>Effector_cells</th>\n",
       "      <th>T_cell_traffic</th>\n",
       "      <th>NK_cells</th>\n",
       "      <th>T_cells</th>\n",
       "      <th>B_cells</th>\n",
       "      <th>M1_signatures</th>\n",
       "      <th>Th1_signature</th>\n",
       "      <th>...</th>\n",
       "      <th>Macrophage_DC_traffic</th>\n",
       "      <th>Th2_signature</th>\n",
       "      <th>Protumor_cytokines</th>\n",
       "      <th>CAF</th>\n",
       "      <th>Matrix</th>\n",
       "      <th>Matrix_remodeling</th>\n",
       "      <th>Angiogenesis</th>\n",
       "      <th>Endothelium</th>\n",
       "      <th>Proliferation_rate</th>\n",
       "      <th>EMT_signature</th>\n",
       "    </tr>\n",
       "  </thead>\n",
       "  <tbody>\n",
       "    <tr>\n",
       "      <th>GSM872328</th>\n",
       "      <td>9533.102770</td>\n",
       "      <td>5399.842073</td>\n",
       "      <td>-740.162795</td>\n",
       "      <td>-1766.828180</td>\n",
       "      <td>1254.806141</td>\n",
       "      <td>-2258.546393</td>\n",
       "      <td>-2283.133482</td>\n",
       "      <td>-4421.053051</td>\n",
       "      <td>-2460.714250</td>\n",
       "      <td>-4125.376225</td>\n",
       "      <td>...</td>\n",
       "      <td>910.182879</td>\n",
       "      <td>-5804.626743</td>\n",
       "      <td>-300.309304</td>\n",
       "      <td>5962.792081</td>\n",
       "      <td>4039.805624</td>\n",
       "      <td>-258.512746</td>\n",
       "      <td>1043.688562</td>\n",
       "      <td>1201.372197</td>\n",
       "      <td>2532.416767</td>\n",
       "      <td>6288.992246</td>\n",
       "    </tr>\n",
       "    <tr>\n",
       "      <th>GSM872329</th>\n",
       "      <td>6263.761828</td>\n",
       "      <td>4518.539363</td>\n",
       "      <td>-964.785182</td>\n",
       "      <td>-3627.909963</td>\n",
       "      <td>-1340.124302</td>\n",
       "      <td>-4036.695293</td>\n",
       "      <td>-2145.751899</td>\n",
       "      <td>-4455.378202</td>\n",
       "      <td>-2781.722813</td>\n",
       "      <td>-4236.323258</td>\n",
       "      <td>...</td>\n",
       "      <td>-173.177606</td>\n",
       "      <td>-5904.678777</td>\n",
       "      <td>-472.751704</td>\n",
       "      <td>5353.618802</td>\n",
       "      <td>4282.287454</td>\n",
       "      <td>-345.097520</td>\n",
       "      <td>1427.353969</td>\n",
       "      <td>1043.130383</td>\n",
       "      <td>4365.655973</td>\n",
       "      <td>4990.305501</td>\n",
       "    </tr>\n",
       "    <tr>\n",
       "      <th>GSM872330</th>\n",
       "      <td>6434.698401</td>\n",
       "      <td>7003.326335</td>\n",
       "      <td>-1029.073374</td>\n",
       "      <td>-2797.463536</td>\n",
       "      <td>-1484.989668</td>\n",
       "      <td>-2249.775993</td>\n",
       "      <td>-1377.506978</td>\n",
       "      <td>-3725.506583</td>\n",
       "      <td>-2642.178438</td>\n",
       "      <td>-4788.330817</td>\n",
       "      <td>...</td>\n",
       "      <td>-682.502219</td>\n",
       "      <td>-5916.539768</td>\n",
       "      <td>-228.690847</td>\n",
       "      <td>5880.943443</td>\n",
       "      <td>3539.931738</td>\n",
       "      <td>1026.298094</td>\n",
       "      <td>2654.915428</td>\n",
       "      <td>1333.148276</td>\n",
       "      <td>3354.967543</td>\n",
       "      <td>5778.608236</td>\n",
       "    </tr>\n",
       "    <tr>\n",
       "      <th>GSM872331</th>\n",
       "      <td>5498.421791</td>\n",
       "      <td>5136.352469</td>\n",
       "      <td>-1052.965525</td>\n",
       "      <td>-3407.699413</td>\n",
       "      <td>-2509.466454</td>\n",
       "      <td>-3081.183915</td>\n",
       "      <td>-1828.335939</td>\n",
       "      <td>-4145.306183</td>\n",
       "      <td>-3051.942816</td>\n",
       "      <td>-4720.447268</td>\n",
       "      <td>...</td>\n",
       "      <td>-1539.986273</td>\n",
       "      <td>-6214.281063</td>\n",
       "      <td>-13.892927</td>\n",
       "      <td>5959.130681</td>\n",
       "      <td>3983.489842</td>\n",
       "      <td>-655.214691</td>\n",
       "      <td>2088.945155</td>\n",
       "      <td>1534.276762</td>\n",
       "      <td>2100.865363</td>\n",
       "      <td>5859.836800</td>\n",
       "    </tr>\n",
       "    <tr>\n",
       "      <th>GSM872332</th>\n",
       "      <td>8056.380121</td>\n",
       "      <td>9584.569216</td>\n",
       "      <td>1897.757512</td>\n",
       "      <td>753.791468</td>\n",
       "      <td>2427.808425</td>\n",
       "      <td>-1637.547014</td>\n",
       "      <td>3650.311006</td>\n",
       "      <td>2156.151889</td>\n",
       "      <td>-973.780208</td>\n",
       "      <td>-3503.184846</td>\n",
       "      <td>...</td>\n",
       "      <td>1169.213328</td>\n",
       "      <td>-6074.989078</td>\n",
       "      <td>500.893333</td>\n",
       "      <td>5915.840372</td>\n",
       "      <td>3781.530272</td>\n",
       "      <td>865.998047</td>\n",
       "      <td>3369.611990</td>\n",
       "      <td>3395.309465</td>\n",
       "      <td>2259.738098</td>\n",
       "      <td>6274.779664</td>\n",
       "    </tr>\n",
       "    <tr>\n",
       "      <th>...</th>\n",
       "      <td>...</td>\n",
       "      <td>...</td>\n",
       "      <td>...</td>\n",
       "      <td>...</td>\n",
       "      <td>...</td>\n",
       "      <td>...</td>\n",
       "      <td>...</td>\n",
       "      <td>...</td>\n",
       "      <td>...</td>\n",
       "      <td>...</td>\n",
       "      <td>...</td>\n",
       "      <td>...</td>\n",
       "      <td>...</td>\n",
       "      <td>...</td>\n",
       "      <td>...</td>\n",
       "      <td>...</td>\n",
       "      <td>...</td>\n",
       "      <td>...</td>\n",
       "      <td>...</td>\n",
       "      <td>...</td>\n",
       "      <td>...</td>\n",
       "    </tr>\n",
       "    <tr>\n",
       "      <th>GSM872388</th>\n",
       "      <td>7455.233464</td>\n",
       "      <td>7773.881901</td>\n",
       "      <td>-727.933451</td>\n",
       "      <td>-522.583892</td>\n",
       "      <td>1485.835323</td>\n",
       "      <td>-1847.114090</td>\n",
       "      <td>-581.674916</td>\n",
       "      <td>-3454.281530</td>\n",
       "      <td>-2127.510150</td>\n",
       "      <td>-3410.146786</td>\n",
       "      <td>...</td>\n",
       "      <td>1538.055415</td>\n",
       "      <td>-4412.908437</td>\n",
       "      <td>656.156976</td>\n",
       "      <td>6451.546560</td>\n",
       "      <td>3962.159522</td>\n",
       "      <td>708.535339</td>\n",
       "      <td>2961.060558</td>\n",
       "      <td>1910.489244</td>\n",
       "      <td>3030.896489</td>\n",
       "      <td>4857.252995</td>\n",
       "    </tr>\n",
       "    <tr>\n",
       "      <th>GSM872389</th>\n",
       "      <td>8342.145809</td>\n",
       "      <td>6001.402566</td>\n",
       "      <td>-781.192734</td>\n",
       "      <td>-3373.471766</td>\n",
       "      <td>-1621.347761</td>\n",
       "      <td>-3546.690979</td>\n",
       "      <td>-2596.874282</td>\n",
       "      <td>-4538.503109</td>\n",
       "      <td>-1791.279647</td>\n",
       "      <td>-3790.654589</td>\n",
       "      <td>...</td>\n",
       "      <td>-1502.584765</td>\n",
       "      <td>-5904.225773</td>\n",
       "      <td>-348.216998</td>\n",
       "      <td>5368.669668</td>\n",
       "      <td>5831.423905</td>\n",
       "      <td>-244.017923</td>\n",
       "      <td>1320.656046</td>\n",
       "      <td>1593.663310</td>\n",
       "      <td>3677.165137</td>\n",
       "      <td>3823.490419</td>\n",
       "    </tr>\n",
       "    <tr>\n",
       "      <th>GSM872390</th>\n",
       "      <td>7005.124145</td>\n",
       "      <td>7063.782373</td>\n",
       "      <td>-467.696383</td>\n",
       "      <td>-2716.757054</td>\n",
       "      <td>-1458.556839</td>\n",
       "      <td>-2441.806759</td>\n",
       "      <td>-1781.321236</td>\n",
       "      <td>-4493.741789</td>\n",
       "      <td>-2404.502208</td>\n",
       "      <td>-4840.690503</td>\n",
       "      <td>...</td>\n",
       "      <td>-415.219143</td>\n",
       "      <td>-6236.130097</td>\n",
       "      <td>456.429564</td>\n",
       "      <td>6442.942533</td>\n",
       "      <td>5421.145197</td>\n",
       "      <td>1777.902737</td>\n",
       "      <td>2547.774896</td>\n",
       "      <td>1630.966582</td>\n",
       "      <td>3747.991113</td>\n",
       "      <td>4836.560298</td>\n",
       "    </tr>\n",
       "    <tr>\n",
       "      <th>GSM872391</th>\n",
       "      <td>7406.631906</td>\n",
       "      <td>9201.132422</td>\n",
       "      <td>350.823729</td>\n",
       "      <td>971.043680</td>\n",
       "      <td>2597.812015</td>\n",
       "      <td>-561.167367</td>\n",
       "      <td>1397.498131</td>\n",
       "      <td>-1969.933331</td>\n",
       "      <td>-1568.704324</td>\n",
       "      <td>-3613.949973</td>\n",
       "      <td>...</td>\n",
       "      <td>3101.961007</td>\n",
       "      <td>-5418.827779</td>\n",
       "      <td>618.226736</td>\n",
       "      <td>7090.755283</td>\n",
       "      <td>4521.083077</td>\n",
       "      <td>3529.884629</td>\n",
       "      <td>2596.260920</td>\n",
       "      <td>1741.826360</td>\n",
       "      <td>4106.200232</td>\n",
       "      <td>6539.539639</td>\n",
       "    </tr>\n",
       "    <tr>\n",
       "      <th>GSM872392</th>\n",
       "      <td>7027.376151</td>\n",
       "      <td>7731.081935</td>\n",
       "      <td>-502.602447</td>\n",
       "      <td>-2031.609472</td>\n",
       "      <td>313.621466</td>\n",
       "      <td>-2641.808799</td>\n",
       "      <td>-1437.334597</td>\n",
       "      <td>-4181.441516</td>\n",
       "      <td>-2587.857297</td>\n",
       "      <td>-5015.819925</td>\n",
       "      <td>...</td>\n",
       "      <td>357.782546</td>\n",
       "      <td>-5996.005869</td>\n",
       "      <td>389.435359</td>\n",
       "      <td>6075.815935</td>\n",
       "      <td>3977.825406</td>\n",
       "      <td>1200.543325</td>\n",
       "      <td>2177.773179</td>\n",
       "      <td>1387.855772</td>\n",
       "      <td>2814.875980</td>\n",
       "      <td>5858.813837</td>\n",
       "    </tr>\n",
       "  </tbody>\n",
       "</table>\n",
       "<p>65 rows × 29 columns</p>\n",
       "</div>"
      ],
      "text/plain": [
       "                  MHCI        MHCII  Coactivation_molecules  Effector_cells  \\\n",
       "GSM872328  9533.102770  5399.842073             -740.162795    -1766.828180   \n",
       "GSM872329  6263.761828  4518.539363             -964.785182    -3627.909963   \n",
       "GSM872330  6434.698401  7003.326335            -1029.073374    -2797.463536   \n",
       "GSM872331  5498.421791  5136.352469            -1052.965525    -3407.699413   \n",
       "GSM872332  8056.380121  9584.569216             1897.757512      753.791468   \n",
       "...                ...          ...                     ...             ...   \n",
       "GSM872388  7455.233464  7773.881901             -727.933451     -522.583892   \n",
       "GSM872389  8342.145809  6001.402566             -781.192734    -3373.471766   \n",
       "GSM872390  7005.124145  7063.782373             -467.696383    -2716.757054   \n",
       "GSM872391  7406.631906  9201.132422              350.823729      971.043680   \n",
       "GSM872392  7027.376151  7731.081935             -502.602447    -2031.609472   \n",
       "\n",
       "           T_cell_traffic     NK_cells      T_cells      B_cells  \\\n",
       "GSM872328     1254.806141 -2258.546393 -2283.133482 -4421.053051   \n",
       "GSM872329    -1340.124302 -4036.695293 -2145.751899 -4455.378202   \n",
       "GSM872330    -1484.989668 -2249.775993 -1377.506978 -3725.506583   \n",
       "GSM872331    -2509.466454 -3081.183915 -1828.335939 -4145.306183   \n",
       "GSM872332     2427.808425 -1637.547014  3650.311006  2156.151889   \n",
       "...                   ...          ...          ...          ...   \n",
       "GSM872388     1485.835323 -1847.114090  -581.674916 -3454.281530   \n",
       "GSM872389    -1621.347761 -3546.690979 -2596.874282 -4538.503109   \n",
       "GSM872390    -1458.556839 -2441.806759 -1781.321236 -4493.741789   \n",
       "GSM872391     2597.812015  -561.167367  1397.498131 -1969.933331   \n",
       "GSM872392      313.621466 -2641.808799 -1437.334597 -4181.441516   \n",
       "\n",
       "           M1_signatures  Th1_signature  ...  Macrophage_DC_traffic  \\\n",
       "GSM872328   -2460.714250   -4125.376225  ...             910.182879   \n",
       "GSM872329   -2781.722813   -4236.323258  ...            -173.177606   \n",
       "GSM872330   -2642.178438   -4788.330817  ...            -682.502219   \n",
       "GSM872331   -3051.942816   -4720.447268  ...           -1539.986273   \n",
       "GSM872332    -973.780208   -3503.184846  ...            1169.213328   \n",
       "...                  ...            ...  ...                    ...   \n",
       "GSM872388   -2127.510150   -3410.146786  ...            1538.055415   \n",
       "GSM872389   -1791.279647   -3790.654589  ...           -1502.584765   \n",
       "GSM872390   -2404.502208   -4840.690503  ...            -415.219143   \n",
       "GSM872391   -1568.704324   -3613.949973  ...            3101.961007   \n",
       "GSM872392   -2587.857297   -5015.819925  ...             357.782546   \n",
       "\n",
       "           Th2_signature  Protumor_cytokines          CAF       Matrix  \\\n",
       "GSM872328   -5804.626743         -300.309304  5962.792081  4039.805624   \n",
       "GSM872329   -5904.678777         -472.751704  5353.618802  4282.287454   \n",
       "GSM872330   -5916.539768         -228.690847  5880.943443  3539.931738   \n",
       "GSM872331   -6214.281063          -13.892927  5959.130681  3983.489842   \n",
       "GSM872332   -6074.989078          500.893333  5915.840372  3781.530272   \n",
       "...                  ...                 ...          ...          ...   \n",
       "GSM872388   -4412.908437          656.156976  6451.546560  3962.159522   \n",
       "GSM872389   -5904.225773         -348.216998  5368.669668  5831.423905   \n",
       "GSM872390   -6236.130097          456.429564  6442.942533  5421.145197   \n",
       "GSM872391   -5418.827779          618.226736  7090.755283  4521.083077   \n",
       "GSM872392   -5996.005869          389.435359  6075.815935  3977.825406   \n",
       "\n",
       "           Matrix_remodeling  Angiogenesis  Endothelium  Proliferation_rate  \\\n",
       "GSM872328        -258.512746   1043.688562  1201.372197         2532.416767   \n",
       "GSM872329        -345.097520   1427.353969  1043.130383         4365.655973   \n",
       "GSM872330        1026.298094   2654.915428  1333.148276         3354.967543   \n",
       "GSM872331        -655.214691   2088.945155  1534.276762         2100.865363   \n",
       "GSM872332         865.998047   3369.611990  3395.309465         2259.738098   \n",
       "...                      ...           ...          ...                 ...   \n",
       "GSM872388         708.535339   2961.060558  1910.489244         3030.896489   \n",
       "GSM872389        -244.017923   1320.656046  1593.663310         3677.165137   \n",
       "GSM872390        1777.902737   2547.774896  1630.966582         3747.991113   \n",
       "GSM872391        3529.884629   2596.260920  1741.826360         4106.200232   \n",
       "GSM872392        1200.543325   2177.773179  1387.855772         2814.875980   \n",
       "\n",
       "           EMT_signature  \n",
       "GSM872328    6288.992246  \n",
       "GSM872329    4990.305501  \n",
       "GSM872330    5778.608236  \n",
       "GSM872331    5859.836800  \n",
       "GSM872332    6274.779664  \n",
       "...                  ...  \n",
       "GSM872388    4857.252995  \n",
       "GSM872389    3823.490419  \n",
       "GSM872390    4836.560298  \n",
       "GSM872391    6539.539639  \n",
       "GSM872392    5858.813837  \n",
       "\n",
       "[65 rows x 29 columns]"
      ]
     },
     "execution_count": 96,
     "metadata": {},
     "output_type": "execute_result"
    }
   ],
   "source": [
    "signature_scores"
   ]
  },
  {
   "cell_type": "code",
   "execution_count": 97,
   "metadata": {},
   "outputs": [
    {
     "name": "stdout",
     "output_type": "stream",
     "text": [
      "Predicted labels count:\n",
      "D       31\n",
      "IE      18\n",
      "IE/F     8\n",
      "F        8\n",
      "Name: MFP, dtype: int64\n"
     ]
    }
   ],
   "source": [
    "# Predict clusters\n",
    "cluster_labels = MODEL.predict(signature_scores_scaled[MODEL.X.columns]).rename('MFP')\n",
    "\n",
    "#Output the predicted clusters\n",
    "print('Predicted labels count:')\n",
    "print(cluster_labels.value_counts())\n",
    "\n",
    "# Output the classified samples table\n",
    "cluster_labels.to_csv(CLASSIFIED_SAMPLES, sep='\\t', index=True)"
   ]
  },
  {
   "cell_type": "markdown",
   "metadata": {},
   "source": [
    "# de novo clusterization"
   ]
  },
  {
   "cell_type": "raw",
   "metadata": {},
   "source": [
    "This section helps to create your own reference cohort"
   ]
  },
  {
   "cell_type": "code",
   "execution_count": 98,
   "metadata": {
    "tags": []
   },
   "outputs": [],
   "source": [
    "# In the code block below the first steps are done by reading the generated normalized gene expressions from previous analysis and also calculating ssGSEA score for each of the cells "
   ]
  },
  {
   "cell_type": "markdown",
   "metadata": {},
   "source": [
    "## Importing packages for clustering and adding file directories"
   ]
  },
  {
   "cell_type": "code",
   "execution_count": 99,
   "metadata": {},
   "outputs": [],
   "source": [
    "# import pandas as pd\n"
   ]
  },
  {
   "cell_type": "markdown",
   "metadata": {},
   "source": [
    "## Calculating signature scores of reference gene expression values"
   ]
  },
  {
   "cell_type": "code",
   "execution_count": 100,
   "metadata": {},
   "outputs": [
    {
     "name": "stderr",
     "output_type": "stream",
     "text": [
      "/home/jovyan/my_python_environment/MFP/portraits/utils.py:63: FutureWarning: The 'mad' method is deprecated and will be removed in a future version. To compute the same result, you may do `(df - df.mean()).abs().mean()`.\n",
      "  c_data = (data - data.median()) / data.mad()\n"
     ]
    },
    {
     "data": {
      "text/html": [
       "<div>\n",
       "<style scoped>\n",
       "    .dataframe tbody tr th:only-of-type {\n",
       "        vertical-align: middle;\n",
       "    }\n",
       "\n",
       "    .dataframe tbody tr th {\n",
       "        vertical-align: top;\n",
       "    }\n",
       "\n",
       "    .dataframe thead th {\n",
       "        text-align: right;\n",
       "    }\n",
       "</style>\n",
       "<table border=\"1\" class=\"dataframe\">\n",
       "  <thead>\n",
       "    <tr style=\"text-align: right;\">\n",
       "      <th></th>\n",
       "      <th>MHCI</th>\n",
       "      <th>MHCII</th>\n",
       "      <th>Coactivation_molecules</th>\n",
       "      <th>Effector_cells</th>\n",
       "      <th>T_cell_traffic</th>\n",
       "      <th>NK_cells</th>\n",
       "      <th>T_cells</th>\n",
       "      <th>B_cells</th>\n",
       "      <th>M1_signatures</th>\n",
       "      <th>Th1_signature</th>\n",
       "      <th>...</th>\n",
       "      <th>Macrophage_DC_traffic</th>\n",
       "      <th>Th2_signature</th>\n",
       "      <th>Protumor_cytokines</th>\n",
       "      <th>CAF</th>\n",
       "      <th>Matrix</th>\n",
       "      <th>Matrix_remodeling</th>\n",
       "      <th>Angiogenesis</th>\n",
       "      <th>Endothelium</th>\n",
       "      <th>Proliferation_rate</th>\n",
       "      <th>EMT_signature</th>\n",
       "    </tr>\n",
       "  </thead>\n",
       "  <tbody>\n",
       "    <tr>\n",
       "      <th>GSM872328</th>\n",
       "      <td>1.343932</td>\n",
       "      <td>-1.927966</td>\n",
       "      <td>-0.709875</td>\n",
       "      <td>-0.624693</td>\n",
       "      <td>-0.223812</td>\n",
       "      <td>-0.336393</td>\n",
       "      <td>-1.245419</td>\n",
       "      <td>-0.217499</td>\n",
       "      <td>-0.253581</td>\n",
       "      <td>-0.228317</td>\n",
       "      <td>...</td>\n",
       "      <td>-0.187442</td>\n",
       "      <td>0.519710</td>\n",
       "      <td>-1.172032</td>\n",
       "      <td>0.000000</td>\n",
       "      <td>-0.316514</td>\n",
       "      <td>-1.326077</td>\n",
       "      <td>-2.399462</td>\n",
       "      <td>-0.497626</td>\n",
       "      <td>-0.671340</td>\n",
       "      <td>0.940784</td>\n",
       "    </tr>\n",
       "    <tr>\n",
       "      <th>GSM872329</th>\n",
       "      <td>-1.631422</td>\n",
       "      <td>-2.525349</td>\n",
       "      <td>-0.932813</td>\n",
       "      <td>-1.382324</td>\n",
       "      <td>-1.451595</td>\n",
       "      <td>-1.640942</td>\n",
       "      <td>-1.186805</td>\n",
       "      <td>-0.235935</td>\n",
       "      <td>-0.663517</td>\n",
       "      <td>-0.366576</td>\n",
       "      <td>...</td>\n",
       "      <td>-0.948353</td>\n",
       "      <td>0.181062</td>\n",
       "      <td>-1.507739</td>\n",
       "      <td>-0.649172</td>\n",
       "      <td>0.000000</td>\n",
       "      <td>-1.408041</td>\n",
       "      <td>-1.699175</td>\n",
       "      <td>-0.740179</td>\n",
       "      <td>1.942653</td>\n",
       "      <td>-0.986939</td>\n",
       "    </tr>\n",
       "    <tr>\n",
       "      <th>GSM872330</th>\n",
       "      <td>-1.475856</td>\n",
       "      <td>-0.841059</td>\n",
       "      <td>-0.996619</td>\n",
       "      <td>-1.044256</td>\n",
       "      <td>-1.520137</td>\n",
       "      <td>-0.329958</td>\n",
       "      <td>-0.859033</td>\n",
       "      <td>0.156090</td>\n",
       "      <td>-0.485315</td>\n",
       "      <td>-1.054475</td>\n",
       "      <td>...</td>\n",
       "      <td>-1.306083</td>\n",
       "      <td>0.140916</td>\n",
       "      <td>-1.032607</td>\n",
       "      <td>-0.087223</td>\n",
       "      <td>-0.969004</td>\n",
       "      <td>-0.109842</td>\n",
       "      <td>0.541437</td>\n",
       "      <td>-0.295640</td>\n",
       "      <td>0.501525</td>\n",
       "      <td>0.183189</td>\n",
       "    </tr>\n",
       "    <tr>\n",
       "      <th>GSM872331</th>\n",
       "      <td>-2.327941</td>\n",
       "      <td>-2.106570</td>\n",
       "      <td>-1.020332</td>\n",
       "      <td>-1.292678</td>\n",
       "      <td>-2.004865</td>\n",
       "      <td>-0.939926</td>\n",
       "      <td>-1.051379</td>\n",
       "      <td>-0.069391</td>\n",
       "      <td>-1.008595</td>\n",
       "      <td>-0.969880</td>\n",
       "      <td>...</td>\n",
       "      <td>-1.908347</td>\n",
       "      <td>-0.866855</td>\n",
       "      <td>-0.614442</td>\n",
       "      <td>-0.003902</td>\n",
       "      <td>-0.390023</td>\n",
       "      <td>-1.701606</td>\n",
       "      <td>-0.491603</td>\n",
       "      <td>0.012649</td>\n",
       "      <td>-1.286683</td>\n",
       "      <td>0.303761</td>\n",
       "    </tr>\n",
       "    <tr>\n",
       "      <th>GSM872332</th>\n",
       "      <td>0.000000</td>\n",
       "      <td>0.908612</td>\n",
       "      <td>1.908271</td>\n",
       "      <td>0.401430</td>\n",
       "      <td>0.331190</td>\n",
       "      <td>0.119207</td>\n",
       "      <td>1.286086</td>\n",
       "      <td>3.315214</td>\n",
       "      <td>1.645273</td>\n",
       "      <td>0.547043</td>\n",
       "      <td>...</td>\n",
       "      <td>-0.005509</td>\n",
       "      <td>-0.395391</td>\n",
       "      <td>0.387733</td>\n",
       "      <td>-0.050035</td>\n",
       "      <td>-0.653643</td>\n",
       "      <td>-0.261586</td>\n",
       "      <td>1.845939</td>\n",
       "      <td>2.865235</td>\n",
       "      <td>-1.060149</td>\n",
       "      <td>0.919687</td>\n",
       "    </tr>\n",
       "  </tbody>\n",
       "</table>\n",
       "<p>5 rows × 29 columns</p>\n",
       "</div>"
      ],
      "text/plain": [
       "               MHCI     MHCII  Coactivation_molecules  Effector_cells  \\\n",
       "GSM872328  1.343932 -1.927966               -0.709875       -0.624693   \n",
       "GSM872329 -1.631422 -2.525349               -0.932813       -1.382324   \n",
       "GSM872330 -1.475856 -0.841059               -0.996619       -1.044256   \n",
       "GSM872331 -2.327941 -2.106570               -1.020332       -1.292678   \n",
       "GSM872332  0.000000  0.908612                1.908271        0.401430   \n",
       "\n",
       "           T_cell_traffic  NK_cells   T_cells   B_cells  M1_signatures  \\\n",
       "GSM872328       -0.223812 -0.336393 -1.245419 -0.217499      -0.253581   \n",
       "GSM872329       -1.451595 -1.640942 -1.186805 -0.235935      -0.663517   \n",
       "GSM872330       -1.520137 -0.329958 -0.859033  0.156090      -0.485315   \n",
       "GSM872331       -2.004865 -0.939926 -1.051379 -0.069391      -1.008595   \n",
       "GSM872332        0.331190  0.119207  1.286086  3.315214       1.645273   \n",
       "\n",
       "           Th1_signature  ...  Macrophage_DC_traffic  Th2_signature  \\\n",
       "GSM872328      -0.228317  ...              -0.187442       0.519710   \n",
       "GSM872329      -0.366576  ...              -0.948353       0.181062   \n",
       "GSM872330      -1.054475  ...              -1.306083       0.140916   \n",
       "GSM872331      -0.969880  ...              -1.908347      -0.866855   \n",
       "GSM872332       0.547043  ...              -0.005509      -0.395391   \n",
       "\n",
       "           Protumor_cytokines       CAF    Matrix  Matrix_remodeling  \\\n",
       "GSM872328           -1.172032  0.000000 -0.316514          -1.326077   \n",
       "GSM872329           -1.507739 -0.649172  0.000000          -1.408041   \n",
       "GSM872330           -1.032607 -0.087223 -0.969004          -0.109842   \n",
       "GSM872331           -0.614442 -0.003902 -0.390023          -1.701606   \n",
       "GSM872332            0.387733 -0.050035 -0.653643          -0.261586   \n",
       "\n",
       "           Angiogenesis  Endothelium  Proliferation_rate  EMT_signature  \n",
       "GSM872328     -2.399462    -0.497626           -0.671340       0.940784  \n",
       "GSM872329     -1.699175    -0.740179            1.942653      -0.986939  \n",
       "GSM872330      0.541437    -0.295640            0.501525       0.183189  \n",
       "GSM872331     -0.491603     0.012649           -1.286683       0.303761  \n",
       "GSM872332      1.845939     2.865235           -1.060149       0.919687  \n",
       "\n",
       "[5 rows x 29 columns]"
      ]
     },
     "execution_count": 100,
     "metadata": {},
     "output_type": "execute_result"
    }
   ],
   "source": [
    "# Example script\n",
    "\n",
    "# Read signatures\n",
    "gmt = read_gene_sets(GENE_SIGNATURES)  # GMT format like in MSIGdb\n",
    "\n",
    "\n",
    "# Read expressions\n",
    "exp = pd.read_csv(EXPRESSIONS_MATRIX, sep='\\t', index_col = 0)  # log2+1 transformed; Genes in columns\n",
    "\n",
    "# Calc signature scores\n",
    "signature_scores = ssgsea_formula(exp, gmt)\n",
    "\n",
    "# Scale signatures\n",
    "signature_scores_scaled = median_scale(signature_scores)\n",
    "\n",
    "signature_scores_scaled.head()\n",
    "\n"
   ]
  },
  {
   "cell_type": "markdown",
   "metadata": {},
   "source": [
    "## Visualization of clusters according to the selected threshold and statistical scores of correlation between data values "
   ]
  },
  {
   "cell_type": "markdown",
   "metadata": {},
   "source": [
    "Here clusterization is done using clustering_profile_metrics function from clustering.py library and calculations are done using Davies Bouldin, Calinski Harabasz, Silouhette scores to get the correlation between clusters and overal each data ssGSEA score value.\n",
    "For more information about the calculation and definitions of the correlation scores mentioned above look into:\n",
    "\n",
    "https://medium.com/@haataa/how-to-measure-clustering-performances-when-there-are-no-ground-truth-db027e9a871c"
   ]
  },
  {
   "cell_type": "code",
   "execution_count": 101,
   "metadata": {},
   "outputs": [
    {
     "name": "stderr",
     "output_type": "stream",
     "text": [
      "100%|██████████| 35/35 [00:01<00:00, 22.07it/s]\n"
     ]
    },
    {
     "data": {
      "text/plain": [
       "<AxesSubplot:ylabel='Cluster %'>"
      ]
     },
     "execution_count": 101,
     "metadata": {},
     "output_type": "execute_result"
    },
    {
     "data": {
      "image/png": "[encoded data removed]",
      "text/plain": [
       "<Figure size 960x1440 with 5 Axes>"
      ]
     },
     "metadata": {},
     "output_type": "display_data"
    }
   ],
   "source": [
    "# Check the clustering within a range of 30 to 65% similarity.\n",
    "# >65% - usually graph is not connected; <30% - unreasonable correlation\n",
    "clustering_metrics = clustering_profile_metrics(signature_scores_scaled, threshold_mm=(.3, .65), step=.01)\n",
    "\n",
    "# Visualize the partitions\n",
    "clustering_profile_metrics_plot(clustering_metrics)"
   ]
  },
  {
   "cell_type": "markdown",
   "metadata": {},
   "source": [
    "Plot above shows the count of clusters and their size for each threshold."
   ]
  },
  {
   "cell_type": "markdown",
   "metadata": {},
   "source": [
    "## Classification of each cluster/sample TME subtype "
   ]
  },
  {
   "cell_type": "code",
   "execution_count": 102,
   "metadata": {
    "tags": []
   },
   "outputs": [
    {
     "name": "stdout",
     "output_type": "stream",
     "text": [
      "GSM872328      IE\n",
      "GSM872335       F\n",
      "GSM872359      IE\n",
      "GSM872378      IE\n",
      "GSM872329    IE/F\n",
      "             ... \n",
      "GSM872341       F\n",
      "GSM872372       F\n",
      "GSM872373       F\n",
      "GSM872379      IE\n",
      "GSM872349      IE\n",
      "Name: MFP, Length: 65, dtype: object\n"
     ]
    }
   ],
   "source": [
    " def detect_type(clustering_metrics: pd.DataFrame,scores: pd.DataFrame) -> pd.Series:\n",
    "\n",
    "        clusters_number = clustering_metrics.loc['N'] \n",
    "        \n",
    "        # samples_clustering is a pd.Series with patients as indexes and their clusters as values\n",
    "        samples_clustering = clustering_metrics.loc['perc']\n",
    "        cluster_means = pd.DataFrame({cluster: scores.loc[samples_clustering[samples_clustering == cluster].index].mean()\n",
    "                                      for cluster in range(1, clusters_number + 1)})\n",
    "\n",
    "        deltas = (cluster_means.loc[['Angiogenesis', 'Endothelium', 'CAF', 'Matrix', 'Matrix_remodeling']].mean() -\n",
    "                  cluster_means.loc[['MHCII', 'Antitumor_cytokines', 'Coactivation_molecules',\n",
    "                              'B_cells', 'NK_cells', 'Checkpoint_inhibition',\n",
    "                              'Effector_cells', 'T_cells', 'Th1_signature',\n",
    "                              'T_cell_traffic', 'MHCI']].mean()).sort_values()\n",
    "\n",
    "        mapper = {}\n",
    "        mapper[deltas.index[-1]] = 'F'  # The most fibrotic cluster is Fibrotic\n",
    "        mapper[deltas.index[0]] = 'IE'  # The most immune cluster is Immune enriched, non-fibrotic\n",
    "\n",
    "        # Remove detected clusters\n",
    "        cluster_means.pop(deltas.index[-1])\n",
    "        cluster_means.pop(deltas.index[0])\n",
    "\n",
    "        deltas = (cluster_means.loc[['Angiogenesis', 'Endothelium', 'CAF', 'Matrix', 'Matrix_remodeling',\n",
    "                              'Protumor_cytokines', 'Neutrophil_signature', 'Granulocyte_traffic',\n",
    "                              'Macrophages', 'Macrophage_DC_traffic', 'MDSC_traffic', 'MDSC',\n",
    "                              'Th2_signature', 'T_reg_traffic', 'Treg', 'M1_signatures', 'MHCII',\n",
    "                              'Antitumor_cytokines', 'Coactivation_molecules', 'B_cells', 'NK_cells',\n",
    "                              'Checkpoint_inhibition', 'Effector_cells', 'T_cells', 'Th1_signature',\n",
    "                              'T_cell_traffic', 'MHCI', 'EMT_signature']].mean() -\n",
    "                  cluster_means.loc['Proliferation_rate']).sort_values()\n",
    "\n",
    "        mapper[deltas.index[0]] = 'D'  # The most proliferating cluster is (Immune) Desert\n",
    "        mapper[deltas.index[-1]] = 'IE/F'  # Remains Immune enriched & fibrotic\n",
    "\n",
    "        return samples_clustering.map(mapper).rename('MFP')\n",
    "\n",
    "# Then select the best threshold using one or more metrics.\n",
    " best_threshold = '0.31'\n",
    "\n",
    "# # Detect cluster types\n",
    " samples_subtyping_by_tme = detect_type(clustering_metrics.loc[best_threshold], signature_scores_scaled)\n",
    "\n",
    "# # Output of the data into console\n",
    " print(samples_subtyping_by_tme)\n",
    "    \n",
    "# # Output the clusters\n",
    " samples_subtyping_by_tme.to_csv(SUBTYPE_FINAL_CLUSTERS, sep='\\t', index=True)"
   ]
  },
  {
   "cell_type": "code",
   "execution_count": null,
   "metadata": {},
   "outputs": [],
   "source": []
  }
 ],
 "metadata": {
  "kernelspec": {
   "display_name": "QA3.9-common",
   "language": "python",
   "name": "qa3.9-common"
  },
  "language_info": {
   "codemirror_mode": {
    "name": "ipython",
    "version": 3
   },
   "file_extension": ".py",
   "mimetype": "text/x-python",
   "name": "python",
   "nbconvert_exporter": "python",
   "pygments_lexer": "ipython3",
   "version": "3.9.13"
  },
  "toc": {
   "base_numbering": 1,
   "nav_menu": {},
   "number_sections": true,
   "sideBar": true,
   "skip_h1_title": false,
   "title_cell": "Table of Contents",
   "title_sidebar": "Contents",
   "toc_cell": false,
   "toc_position": {
    "height": "calc(100% - 180px)",
    "left": "10px",
    "top": "150px",
    "width": "384px"
   },
   "toc_section_display": true,
   "toc_window_display": true
  },
  "toc-showtags": true
 },
 "nbformat": 4,
 "nbformat_minor": 4
}
